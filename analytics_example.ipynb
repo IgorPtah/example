{
 "cells": [
  {
   "cell_type": "markdown",
   "metadata": {},
   "source": [
    "## Материалы\n",
    "* .[Презентация](https://disk.yandex.ru/i/Mgh7NB6O9HVpOw)\n",
    "* .[Дашборд](https://public.tableau.com/views/_16430422974540/Dashboard1?:language=en-US&:display_count=n&:origin=viz_share_link)"
   ]
  },
  {
   "cell_type": "markdown",
   "metadata": {},
   "source": [
    "# Исследование поведения пользователей "
   ]
  },
  {
   "cell_type": "markdown",
   "metadata": {},
   "source": [
    "## Вводные данные"
   ]
  },
  {
   "cell_type": "markdown",
   "metadata": {},
   "source": [
    "Поступило задание выделить группы пользователей, которые отличаются по метрикам. Задание поступило от менеджмента мобильного приложения \"Ненужные вещи\". По результатам встречи аналитической группы, задача была конкретизирована как задача по выделению групп пользователей на основе поведения (по заданным нам метрикам) и определить, какие действия чаще совершают те пользователи, которые просматривают контакты в мобильном приложении. Нам необходимо понять, какие пользователи у нас есть в приложении и каким образом мы можем повлиять на увеличение конверсии в целевое событие."
   ]
  },
  {
   "cell_type": "markdown",
   "metadata": {},
   "source": [
    "### Цель исследования"
   ]
  },
  {
   "cell_type": "markdown",
   "metadata": {},
   "source": [
    "1. Понять поведение пользователей, оценить ключевые характеристики аудитории и лучше работать с аудиторией приложения.\n",
    "2. Проверить статистические гипотезы о поведении пользователей "
   ]
  },
  {
   "cell_type": "markdown",
   "metadata": {},
   "source": [
    "### Планы исследования"
   ]
  },
  {
   "cell_type": "markdown",
   "metadata": {},
   "source": [
    "**1. Предобработка данных**\n",
    "\n",
    "- загрузить данные\n",
    "- оценить общую информацию о данных\n",
    "- проверить пропуски и дубликаты данных\n",
    "- свести наименования столбцов к унифицированному виду\n",
    "- поменять формат данных столбца даты\n",
    "- сделаем промежуточные выводы\n",
    "\n",
    "**2. Исследовательский анализ данных** \n",
    "\n",
    "- ввести вспомогательные столбцы времени, для дальнейшего анализа (добавить столбцы по дням)\n",
    "- свести данные с двух датасетов в один\n",
    "- проверить, нет ли выбросов по дате события или каких-то несовпадений с пользователями. Разрешить коллизии, если они обнаружатся.\n",
    "- сделаем промежуточные выводы\n",
    "\n",
    "  **Retention Rate**\n",
    "- Разделим пользователей на понедельные когорты по первому посещению. Если пользователи не проявляют активности в следующую неделю, то мы считаем что они отсеялись. Рассчитаем общий Retention Rate.\n",
    "- Выделим пользователей, которые минимум единожды просматривали контакты, в отдельную группу. Рассчитаем Retention Rate для каждой из наших групп.Я предполагаю, что те кто просматривают контакты больше времени посещают сайт.\n",
    "- сделаем промежуточные выводы\n",
    "\n",
    "  **Время в приложении**\n",
    "- Исследуем время проведеное в приложении. Под временем проведенном в приложении мы берем время первого и последнего события в день. Проверим есть ли разница во времени проведения на сайте между выделенными группами.\n",
    "- сделаем промежуточные выводы\n",
    "\n",
    "  **Частота действий пользователей**\n",
    "- Проверим частоту действий пользователей, Нас интересует сколько действий в день делает пользователь. Проверим, есть ли разница в наших выделенных группах. Также посчитаем в принцпе оценку пользовательской активности (DAU и WAU)\n",
    "- сделаем промежуточные выводы\n",
    "\n",
    "  **Конверсия**\n",
    "- Посмотрим конверсию в целевое действие (просмотр контактов) и посмотрим, есть ли разница для целевой группы.\n",
    "- сделаем промежуточные выводы\n",
    "\n",
    "  **Проверка статистических гипотез**\n",
    "- Проверим статистическую гипотезу выдвинутую отделом менеджмента: Некоторые пользователи установили приложение по ссылке из yandex, другие — из google. Проверьте гипотезу: две эти группы демонстрируют разную конверсию в просмотры контактов.\n",
    "- Выдвинем и проверим статистическую гипотезу: Пользователи совершающие действия **advert_open** и **search** и пользователи совершающие действия **advert_open** и **tips_click** демонстрируют разную конверсию в просмотры контактов.\n",
    "- сделаем промежуточные выводы\n",
    "\n",
    "**3. Сформулируем общие выводы и рекомендации менеджменту**\n",
    "\n",
    "**4. Создание презентации**"
   ]
  },
  {
   "cell_type": "markdown",
   "metadata": {},
   "source": [
    "## Загрузка и подготовка данных к анализу. Предобработка данных"
   ]
  },
  {
   "cell_type": "markdown",
   "metadata": {},
   "source": [
    "Загрузим необходимые библиотеки и переданный нам датасет"
   ]
  },
  {
   "cell_type": "code",
   "execution_count": 1,
   "metadata": {},
   "outputs": [],
   "source": [
    "# импортируем необходимые нам библиотеки\n",
    "import pandas as pd\n",
    "import matplotlib.pyplot as plt\n",
    "import matplotlib.dates as mdates\n",
    "import seaborn as sns\n",
    "import numpy as np\n",
    "import math as math\n",
    "#import collections\n",
    "from collections import Counter\n",
    "from collections import defaultdict\n",
    "import datetime as dt\n",
    "from cycler import cycler\n",
    "from scipy import stats as st\n",
    "import plotly.express as px\n",
    "from plotly import graph_objects as go\n",
    "from IPython.display import display, HTML\n",
    "import warnings\n",
    "import re\n",
    "from statsmodels.stats.proportion import proportions_ztest\n",
    "\n",
    "\n",
    "#введем некотрые настройки\n",
    "warnings.filterwarnings(\"ignore\")\n",
    "pd.set_option('max_colwidth', 400)\n",
    "plt.rcParams.update({'figure.figsize': (15,8)})\n",
    "pd.options.display.float_format = '{:,.2f}'.format\n"
   ]
  },
  {
   "cell_type": "code",
   "execution_count": 2,
   "metadata": {},
   "outputs": [
    {
     "name": "stdout",
     "output_type": "stream",
     "text": [
      "файл с данными подключен\n",
      "файл с данными подключен\n"
     ]
    }
   ],
   "source": [
    "#Подключим файлы с данными \n",
    "\n",
    "try:\n",
    "    dataset = pd.read_csv('/datasets/mobile_dataset.csv')\n",
    "except:\n",
    "    print('файл с данными не подключен')\n",
    "else:\n",
    "    print('файл с данными подключен')\n",
    "\n",
    "try:\n",
    "    sources = pd.read_csv('/datasets/mobile_sources.csv')\n",
    "except:\n",
    "    print('файл с данными не подключен')\n",
    "else:\n",
    "    print('файл с данными подключен')"
   ]
  },
  {
   "cell_type": "markdown",
   "metadata": {},
   "source": [
    "Согласно описанию данных предоставленому заказчиком:"
   ]
  },
  {
   "cell_type": "markdown",
   "metadata": {},
   "source": [
    "Датасет содержит данные о событиях, совершенных в мобильном приложении \"Ненужные вещи\". \n",
    "В нем пользователи продают свои ненужные вещи, размещая их на доске объявлений.\n",
    "\n",
    "В датасете содержатся данные пользователей, впервые совершивших действия в приложении после 7 октября 2019 года.\n",
    "\n",
    "Датасет mobile_dataset.csv содержит колонки: \n",
    "\n",
    "event.time — время совершения \n",
    "\n",
    "event.name — название события \n",
    "\n",
    "user.id — идентификатор пользователя\n",
    "\n",
    "Датасет mobile_sources.csv содержит колонки: \n",
    "\n",
    "userId — идентификатор пользователя \n",
    "\n",
    "source — источник, с которого пользователь установил приложение\n"
   ]
  },
  {
   "cell_type": "markdown",
   "metadata": {},
   "source": [
    "Проверим полученные данные"
   ]
  },
  {
   "cell_type": "code",
   "execution_count": 3,
   "metadata": {},
   "outputs": [
    {
     "name": "stdout",
     "output_type": "stream",
     "text": [
      "Таблица dataset (информация о действиях пользователей в приложении)\n",
      " \n",
      "Общая информация о данных\n",
      "<class 'pandas.core.frame.DataFrame'>\n",
      "RangeIndex: 74197 entries, 0 to 74196\n",
      "Data columns (total 3 columns):\n",
      "event.time    74197 non-null object\n",
      "event.name    74197 non-null object\n",
      "user.id       74197 non-null object\n",
      "dtypes: object(3)\n",
      "memory usage: 1.7+ MB\n",
      " \n",
      "Описание данных\n",
      "                        event.time event.name  \\\n",
      "count                        74197      74197   \n",
      "unique                       74197         16   \n",
      "top     2019-10-22 13:14:18.046238  tips_show   \n",
      "freq                             1      40055   \n",
      "\n",
      "                                     user.id  \n",
      "count                                  74197  \n",
      "unique                                  4293  \n",
      "top     cb36854f-570a-41f4-baa8-36680b396370  \n",
      "freq                                     478  \n",
      " \n",
      "Случайная выборка данных\n"
     ]
    },
    {
     "data": {
      "text/html": [
       "<div>\n",
       "<style scoped>\n",
       "    .dataframe tbody tr th:only-of-type {\n",
       "        vertical-align: middle;\n",
       "    }\n",
       "\n",
       "    .dataframe tbody tr th {\n",
       "        vertical-align: top;\n",
       "    }\n",
       "\n",
       "    .dataframe thead th {\n",
       "        text-align: right;\n",
       "    }\n",
       "</style>\n",
       "<table border=\"1\" class=\"dataframe\">\n",
       "  <thead>\n",
       "    <tr style=\"text-align: right;\">\n",
       "      <th></th>\n",
       "      <th>event.time</th>\n",
       "      <th>event.name</th>\n",
       "      <th>user.id</th>\n",
       "    </tr>\n",
       "  </thead>\n",
       "  <tbody>\n",
       "    <tr>\n",
       "      <td>45370</td>\n",
       "      <td>2019-10-24 19:51:07.738964</td>\n",
       "      <td>tips_show</td>\n",
       "      <td>072629a4-8281-4eaf-b6dc-175ccb6c316a</td>\n",
       "    </tr>\n",
       "    <tr>\n",
       "      <td>34809</td>\n",
       "      <td>2019-10-21 12:08:17.074072</td>\n",
       "      <td>tips_show</td>\n",
       "      <td>e38cb669-7335-4d56-9de5-c8d5d2f13fd3</td>\n",
       "    </tr>\n",
       "    <tr>\n",
       "      <td>41465</td>\n",
       "      <td>2019-10-23 16:03:40.017925</td>\n",
       "      <td>tips_show</td>\n",
       "      <td>08b25050-2a3d-48af-bb45-ac437ec7ed3d</td>\n",
       "    </tr>\n",
       "    <tr>\n",
       "      <td>13580</td>\n",
       "      <td>2019-10-13 11:10:43.791104</td>\n",
       "      <td>search_1</td>\n",
       "      <td>3d5a91de-062a-485a-b486-d67e5d802cd8</td>\n",
       "    </tr>\n",
       "    <tr>\n",
       "      <td>56377</td>\n",
       "      <td>2019-10-28 15:22:34.314256</td>\n",
       "      <td>tips_show</td>\n",
       "      <td>d6a70d32-e890-49ea-a006-7f93a117ca37</td>\n",
       "    </tr>\n",
       "  </tbody>\n",
       "</table>\n",
       "</div>"
      ],
      "text/plain": [
       "                       event.time event.name  \\\n",
       "45370  2019-10-24 19:51:07.738964  tips_show   \n",
       "34809  2019-10-21 12:08:17.074072  tips_show   \n",
       "41465  2019-10-23 16:03:40.017925  tips_show   \n",
       "13580  2019-10-13 11:10:43.791104   search_1   \n",
       "56377  2019-10-28 15:22:34.314256  tips_show   \n",
       "\n",
       "                                    user.id  \n",
       "45370  072629a4-8281-4eaf-b6dc-175ccb6c316a  \n",
       "34809  e38cb669-7335-4d56-9de5-c8d5d2f13fd3  \n",
       "41465  08b25050-2a3d-48af-bb45-ac437ec7ed3d  \n",
       "13580  3d5a91de-062a-485a-b486-d67e5d802cd8  \n",
       "56377  d6a70d32-e890-49ea-a006-7f93a117ca37  "
      ]
     },
     "execution_count": 3,
     "metadata": {},
     "output_type": "execute_result"
    }
   ],
   "source": [
    "print('Таблица dataset (информация о действиях пользователей в приложении)')\n",
    "#Просмотрим общую информацию о данных\n",
    "\n",
    "print (' ')\n",
    "print ('Общая информация о данных')\n",
    "dataset.info()\n",
    "\n",
    "#Просмотрим данные функцией describle\n",
    "\n",
    "print (' ')\n",
    "print ('Описание данных')\n",
    "print(dataset.describe())\n",
    "print (' ')\n",
    "\n",
    "# Применим случайную выборку данных для первичного ознакомления\n",
    "# Укажем параметр random_state=1, для сохранения результата при повторных запусках алгоритма, если нам\n",
    "# вдруг понадобится\n",
    "\n",
    "print ('Случайная выборка данных')\n",
    "dataset.sample(5, random_state=1)"
   ]
  },
  {
   "cell_type": "markdown",
   "metadata": {},
   "source": [
    "Пропусков нет, количество событий с первого взгляда совпадает. Но точно нужно поменять тип данных времени событий в формат даты. Также имеет смысл переименовать столбцы и посмотреть, возможно нужно обработать и объеденить названия событий."
   ]
  },
  {
   "cell_type": "code",
   "execution_count": 4,
   "metadata": {},
   "outputs": [
    {
     "name": "stdout",
     "output_type": "stream",
     "text": [
      "Таблица sources (информация об источнике с которого пользователь установил приложение)\n",
      " \n",
      "Общая информация о данных\n",
      "<class 'pandas.core.frame.DataFrame'>\n",
      "RangeIndex: 4293 entries, 0 to 4292\n",
      "Data columns (total 2 columns):\n",
      "userId    4293 non-null object\n",
      "source    4293 non-null object\n",
      "dtypes: object(2)\n",
      "memory usage: 67.2+ KB\n",
      " \n",
      "Описание данных\n",
      "                                      userId  source\n",
      "count                                   4293    4293\n",
      "unique                                  4293       3\n",
      "top     0a552292-3c41-4210-b265-ee45445ebb51  yandex\n",
      "freq                                       1    1934\n",
      " \n",
      "Случайная выборка данных\n"
     ]
    },
    {
     "data": {
      "text/html": [
       "<div>\n",
       "<style scoped>\n",
       "    .dataframe tbody tr th:only-of-type {\n",
       "        vertical-align: middle;\n",
       "    }\n",
       "\n",
       "    .dataframe tbody tr th {\n",
       "        vertical-align: top;\n",
       "    }\n",
       "\n",
       "    .dataframe thead th {\n",
       "        text-align: right;\n",
       "    }\n",
       "</style>\n",
       "<table border=\"1\" class=\"dataframe\">\n",
       "  <thead>\n",
       "    <tr style=\"text-align: right;\">\n",
       "      <th></th>\n",
       "      <th>userId</th>\n",
       "      <th>source</th>\n",
       "    </tr>\n",
       "  </thead>\n",
       "  <tbody>\n",
       "    <tr>\n",
       "      <td>2359</td>\n",
       "      <td>2bbb107e-4b8c-4e73-9c77-a2c0add1cfe2</td>\n",
       "      <td>other</td>\n",
       "    </tr>\n",
       "    <tr>\n",
       "      <td>2838</td>\n",
       "      <td>cf5735bc-6dba-4348-b558-06e99ea597f9</td>\n",
       "      <td>yandex</td>\n",
       "    </tr>\n",
       "    <tr>\n",
       "      <td>1882</td>\n",
       "      <td>3521521c-99cb-4142-96cb-0b97cd5c60e6</td>\n",
       "      <td>yandex</td>\n",
       "    </tr>\n",
       "    <tr>\n",
       "      <td>1459</td>\n",
       "      <td>ae3ba452-dda0-4107-b0eb-51c060ef511e</td>\n",
       "      <td>google</td>\n",
       "    </tr>\n",
       "    <tr>\n",
       "      <td>2920</td>\n",
       "      <td>a273950e-dc7a-45b7-a9e6-5fe6c02b8971</td>\n",
       "      <td>other</td>\n",
       "    </tr>\n",
       "  </tbody>\n",
       "</table>\n",
       "</div>"
      ],
      "text/plain": [
       "                                    userId  source\n",
       "2359  2bbb107e-4b8c-4e73-9c77-a2c0add1cfe2   other\n",
       "2838  cf5735bc-6dba-4348-b558-06e99ea597f9  yandex\n",
       "1882  3521521c-99cb-4142-96cb-0b97cd5c60e6  yandex\n",
       "1459  ae3ba452-dda0-4107-b0eb-51c060ef511e  google\n",
       "2920  a273950e-dc7a-45b7-a9e6-5fe6c02b8971   other"
      ]
     },
     "execution_count": 4,
     "metadata": {},
     "output_type": "execute_result"
    }
   ],
   "source": [
    "print('Таблица sources (информация об источнике с которого пользователь установил приложение)')\n",
    "#Просмотрим общую информацию о данных\n",
    "\n",
    "print (' ')\n",
    "print ('Общая информация о данных')\n",
    "sources.info()\n",
    "\n",
    "#Просмотрим данные функцией describle\n",
    "\n",
    "print (' ')\n",
    "print ('Описание данных')\n",
    "print(sources.describe())\n",
    "print (' ')\n",
    "\n",
    "# Применим случайную выборку данных для первичного ознакомления\n",
    "# Укажем параметр random_state=1, для сохранения результата при повторных запусках алгоритма, если нам\n",
    "# вдруг понадобится\n",
    "\n",
    "print ('Случайная выборка данных')\n",
    "sources.sample(5, random_state=1)"
   ]
  },
  {
   "cell_type": "markdown",
   "metadata": {},
   "source": [
    "В целом данные чистые. Пропусков нет, количество пользователей совпадает с количеством из предыдущего датасета.\n",
    "\n",
    "Проверим наличие дубликатов"
   ]
  },
  {
   "cell_type": "code",
   "execution_count": 5,
   "metadata": {},
   "outputs": [
    {
     "name": "stdout",
     "output_type": "stream",
     "text": [
      "\u001b[1mКоличество пропусков в dataset:\u001b[0m\n"
     ]
    },
    {
     "data": {
      "text/plain": [
       "event.time    0\n",
       "event.name    0\n",
       "user.id       0\n",
       "dtype: int64"
      ]
     },
     "metadata": {},
     "output_type": "display_data"
    },
    {
     "name": "stdout",
     "output_type": "stream",
     "text": [
      "=============================================\n",
      "\n",
      "\u001b[1mКоличество явных дубликатов в dataset:\u001b[0m 0\n",
      "\u001b[1mКоличество пропусков в dataset:\u001b[0m\n"
     ]
    },
    {
     "data": {
      "text/plain": [
       "event.time    0\n",
       "event.name    0\n",
       "user.id       0\n",
       "dtype: int64"
      ]
     },
     "metadata": {},
     "output_type": "display_data"
    },
    {
     "name": "stdout",
     "output_type": "stream",
     "text": [
      "=============================================\n",
      "\n",
      "\u001b[1mКоличество явных дубликатов в dataset:\u001b[0m 0\n"
     ]
    }
   ],
   "source": [
    "print('\\033[1m' + 'Количество пропусков в dataset:' + '\\033[0m')\n",
    "display(dataset.isna().sum())\n",
    "print('=' * 45)\n",
    "print()\n",
    "\n",
    "print('\\033[1m' + 'Количество явных дубликатов в dataset:' + '\\033[0m', \n",
    "      dataset.duplicated().sum())\n",
    "\n",
    "print('\\033[1m' + 'Количество пропусков в dataset:' + '\\033[0m')\n",
    "display(dataset.isna().sum())\n",
    "print('=' * 45)\n",
    "print()\n",
    "\n",
    "print('\\033[1m' + 'Количество явных дубликатов в dataset:' + '\\033[0m', \n",
    "      dataset.duplicated().sum())\n"
   ]
  },
  {
   "cell_type": "markdown",
   "metadata": {},
   "source": [
    "Приведем название столбцов к одному образцу"
   ]
  },
  {
   "cell_type": "code",
   "execution_count": 6,
   "metadata": {},
   "outputs": [
    {
     "name": "stdout",
     "output_type": "stream",
     "text": [
      "Index(['user_id', 'source'], dtype='object')\n",
      "Index(['event_time', 'event_name', 'user_id'], dtype='object')\n"
     ]
    }
   ],
   "source": [
    "# исправим регистр\n",
    "sources.columns = sources.columns.str.lower()\n",
    "\n",
    "# заменим точки на \"питон стайл\"\n",
    "dataset.columns = dataset.columns.str.replace(\".\",\"_\")\n",
    "\n",
    "# введем единые названия для ID пользователей\n",
    "sources.rename(columns={'userid': 'user_id'}, inplace=True)\n",
    "\n",
    "#проверим, что получилось\n",
    "print(sources.columns)\n",
    "print(dataset.columns)"
   ]
  },
  {
   "cell_type": "markdown",
   "metadata": {},
   "source": [
    "Поменяем тип данных событий в фомат даты, добавим столбцы даты и недели события"
   ]
  },
  {
   "cell_type": "code",
   "execution_count": 7,
   "metadata": {},
   "outputs": [
    {
     "name": "stdout",
     "output_type": "stream",
     "text": [
      "Таблица dataset (информация о действиях пользователей в приложении)\n",
      "<class 'pandas.core.frame.DataFrame'>\n",
      "RangeIndex: 74197 entries, 0 to 74196\n",
      "Data columns (total 5 columns):\n",
      "event_time    74197 non-null datetime64[ns]\n",
      "event_name    74197 non-null object\n",
      "user_id       74197 non-null object\n",
      "event_date    74197 non-null datetime64[ns]\n",
      "event_week    74197 non-null int64\n",
      "dtypes: datetime64[ns](2), int64(1), object(2)\n",
      "memory usage: 2.8+ MB\n"
     ]
    },
    {
     "data": {
      "text/html": [
       "<div>\n",
       "<style scoped>\n",
       "    .dataframe tbody tr th:only-of-type {\n",
       "        vertical-align: middle;\n",
       "    }\n",
       "\n",
       "    .dataframe tbody tr th {\n",
       "        vertical-align: top;\n",
       "    }\n",
       "\n",
       "    .dataframe thead th {\n",
       "        text-align: right;\n",
       "    }\n",
       "</style>\n",
       "<table border=\"1\" class=\"dataframe\">\n",
       "  <thead>\n",
       "    <tr style=\"text-align: right;\">\n",
       "      <th></th>\n",
       "      <th>event_time</th>\n",
       "      <th>event_name</th>\n",
       "      <th>user_id</th>\n",
       "      <th>event_date</th>\n",
       "      <th>event_week</th>\n",
       "    </tr>\n",
       "  </thead>\n",
       "  <tbody>\n",
       "    <tr>\n",
       "      <td>0</td>\n",
       "      <td>2019-10-07 00:00:00</td>\n",
       "      <td>advert_open</td>\n",
       "      <td>020292ab-89bc-4156-9acf-68bc2783f894</td>\n",
       "      <td>2019-10-07</td>\n",
       "      <td>41</td>\n",
       "    </tr>\n",
       "    <tr>\n",
       "      <td>1</td>\n",
       "      <td>2019-10-07 00:00:01</td>\n",
       "      <td>tips_show</td>\n",
       "      <td>020292ab-89bc-4156-9acf-68bc2783f894</td>\n",
       "      <td>2019-10-07</td>\n",
       "      <td>41</td>\n",
       "    </tr>\n",
       "    <tr>\n",
       "      <td>2</td>\n",
       "      <td>2019-10-07 00:00:02</td>\n",
       "      <td>tips_show</td>\n",
       "      <td>cf7eda61-9349-469f-ac27-e5b6f5ec475c</td>\n",
       "      <td>2019-10-07</td>\n",
       "      <td>41</td>\n",
       "    </tr>\n",
       "    <tr>\n",
       "      <td>3</td>\n",
       "      <td>2019-10-07 00:00:07</td>\n",
       "      <td>tips_show</td>\n",
       "      <td>020292ab-89bc-4156-9acf-68bc2783f894</td>\n",
       "      <td>2019-10-07</td>\n",
       "      <td>41</td>\n",
       "    </tr>\n",
       "    <tr>\n",
       "      <td>4</td>\n",
       "      <td>2019-10-07 00:00:56</td>\n",
       "      <td>advert_open</td>\n",
       "      <td>cf7eda61-9349-469f-ac27-e5b6f5ec475c</td>\n",
       "      <td>2019-10-07</td>\n",
       "      <td>41</td>\n",
       "    </tr>\n",
       "  </tbody>\n",
       "</table>\n",
       "</div>"
      ],
      "text/plain": [
       "           event_time   event_name                               user_id  \\\n",
       "0 2019-10-07 00:00:00  advert_open  020292ab-89bc-4156-9acf-68bc2783f894   \n",
       "1 2019-10-07 00:00:01    tips_show  020292ab-89bc-4156-9acf-68bc2783f894   \n",
       "2 2019-10-07 00:00:02    tips_show  cf7eda61-9349-469f-ac27-e5b6f5ec475c   \n",
       "3 2019-10-07 00:00:07    tips_show  020292ab-89bc-4156-9acf-68bc2783f894   \n",
       "4 2019-10-07 00:00:56  advert_open  cf7eda61-9349-469f-ac27-e5b6f5ec475c   \n",
       "\n",
       "  event_date  event_week  \n",
       "0 2019-10-07          41  \n",
       "1 2019-10-07          41  \n",
       "2 2019-10-07          41  \n",
       "3 2019-10-07          41  \n",
       "4 2019-10-07          41  "
      ]
     },
     "execution_count": 7,
     "metadata": {},
     "output_type": "execute_result"
    }
   ],
   "source": [
    "#переведём в формат даты\n",
    "dataset['event_time'] = pd.to_datetime(dataset['event_time']).astype('datetime64[s]')\n",
    "\n",
    "#добавим вспомогательные столбцы\n",
    "dataset['event_date'] = dataset['event_time'].dt.date\n",
    "dataset['event_date'] = pd.to_datetime(dataset['event_date'], format='%Y-%m-%d')\n",
    "dataset['event_week']  = dataset['event_time'].dt.week\n",
    "\n",
    "#проверим результат\n",
    "print('Таблица dataset (информация о действиях пользователей в приложении)')\n",
    "dataset.info()\n",
    "dataset.head()"
   ]
  },
  {
   "cell_type": "markdown",
   "metadata": {},
   "source": [
    "Проверим дополнительно временные диапазоны - нет ли там искажений"
   ]
  },
  {
   "cell_type": "code",
   "execution_count": 8,
   "metadata": {},
   "outputs": [
    {
     "data": {
      "text/plain": [
       "event_time                     2019-11-03 23:58:12\n",
       "event_name                               tips_show\n",
       "user_id       fffb9e79-b927-4dbb-9b48-7fd09b23a62b\n",
       "event_date                     2019-11-03 00:00:00\n",
       "event_week                                      44\n",
       "dtype: object"
      ]
     },
     "metadata": {},
     "output_type": "display_data"
    },
    {
     "data": {
      "text/plain": [
       "event_time                     2019-10-07 00:00:00\n",
       "event_name                             advert_open\n",
       "user_id       0001b1d5-b74a-4cbf-aeb0-7df5947bf349\n",
       "event_date                     2019-10-07 00:00:00\n",
       "event_week                                      41\n",
       "dtype: object"
      ]
     },
     "metadata": {},
     "output_type": "display_data"
    }
   ],
   "source": [
    "display(dataset.max())\n",
    "display(dataset.min())"
   ]
  },
  {
   "cell_type": "markdown",
   "metadata": {},
   "source": [
    "Событий ранее 7.10.2019 года нет. Похоже нам даны события за 4 недели."
   ]
  },
  {
   "cell_type": "markdown",
   "metadata": {},
   "source": [
    "### Промежуточные выводы"
   ]
  },
  {
   "cell_type": "markdown",
   "metadata": {},
   "source": [
    "В целом данные чистые. Пропусков не видно. Для удобства мы перевели все названия колонок к единому виду. И перевели время в временный формат. И проверили временный период."
   ]
  },
  {
   "cell_type": "markdown",
   "metadata": {},
   "source": [
    "## Исследовательский анализ данных"
   ]
  },
  {
   "cell_type": "markdown",
   "metadata": {},
   "source": [
    "Сведем данные в один датасет"
   ]
  },
  {
   "cell_type": "code",
   "execution_count": 9,
   "metadata": {},
   "outputs": [
    {
     "name": "stdout",
     "output_type": "stream",
     "text": [
      "<class 'pandas.core.frame.DataFrame'>\n",
      "Int64Index: 74197 entries, 0 to 74196\n",
      "Data columns (total 6 columns):\n",
      "event_time    74197 non-null datetime64[ns]\n",
      "event_name    74197 non-null object\n",
      "user_id       74197 non-null object\n",
      "event_date    74197 non-null datetime64[ns]\n",
      "event_week    74197 non-null int64\n",
      "source        74197 non-null object\n",
      "dtypes: datetime64[ns](2), int64(1), object(3)\n",
      "memory usage: 4.0+ MB\n"
     ]
    },
    {
     "data": {
      "text/plain": [
       "None"
      ]
     },
     "metadata": {},
     "output_type": "display_data"
    },
    {
     "data": {
      "text/html": [
       "<div>\n",
       "<style scoped>\n",
       "    .dataframe tbody tr th:only-of-type {\n",
       "        vertical-align: middle;\n",
       "    }\n",
       "\n",
       "    .dataframe tbody tr th {\n",
       "        vertical-align: top;\n",
       "    }\n",
       "\n",
       "    .dataframe thead th {\n",
       "        text-align: right;\n",
       "    }\n",
       "</style>\n",
       "<table border=\"1\" class=\"dataframe\">\n",
       "  <thead>\n",
       "    <tr style=\"text-align: right;\">\n",
       "      <th></th>\n",
       "      <th>event_time</th>\n",
       "      <th>event_name</th>\n",
       "      <th>user_id</th>\n",
       "      <th>event_date</th>\n",
       "      <th>event_week</th>\n",
       "      <th>source</th>\n",
       "    </tr>\n",
       "  </thead>\n",
       "  <tbody>\n",
       "    <tr>\n",
       "      <td>0</td>\n",
       "      <td>2019-10-07 00:00:00</td>\n",
       "      <td>advert_open</td>\n",
       "      <td>020292ab-89bc-4156-9acf-68bc2783f894</td>\n",
       "      <td>2019-10-07</td>\n",
       "      <td>41</td>\n",
       "      <td>other</td>\n",
       "    </tr>\n",
       "    <tr>\n",
       "      <td>1</td>\n",
       "      <td>2019-10-07 00:00:01</td>\n",
       "      <td>tips_show</td>\n",
       "      <td>020292ab-89bc-4156-9acf-68bc2783f894</td>\n",
       "      <td>2019-10-07</td>\n",
       "      <td>41</td>\n",
       "      <td>other</td>\n",
       "    </tr>\n",
       "    <tr>\n",
       "      <td>2</td>\n",
       "      <td>2019-10-07 00:00:07</td>\n",
       "      <td>tips_show</td>\n",
       "      <td>020292ab-89bc-4156-9acf-68bc2783f894</td>\n",
       "      <td>2019-10-07</td>\n",
       "      <td>41</td>\n",
       "      <td>other</td>\n",
       "    </tr>\n",
       "    <tr>\n",
       "      <td>3</td>\n",
       "      <td>2019-10-07 00:01:27</td>\n",
       "      <td>advert_open</td>\n",
       "      <td>020292ab-89bc-4156-9acf-68bc2783f894</td>\n",
       "      <td>2019-10-07</td>\n",
       "      <td>41</td>\n",
       "      <td>other</td>\n",
       "    </tr>\n",
       "    <tr>\n",
       "      <td>4</td>\n",
       "      <td>2019-10-07 00:01:34</td>\n",
       "      <td>tips_show</td>\n",
       "      <td>020292ab-89bc-4156-9acf-68bc2783f894</td>\n",
       "      <td>2019-10-07</td>\n",
       "      <td>41</td>\n",
       "      <td>other</td>\n",
       "    </tr>\n",
       "  </tbody>\n",
       "</table>\n",
       "</div>"
      ],
      "text/plain": [
       "           event_time   event_name                               user_id  \\\n",
       "0 2019-10-07 00:00:00  advert_open  020292ab-89bc-4156-9acf-68bc2783f894   \n",
       "1 2019-10-07 00:00:01    tips_show  020292ab-89bc-4156-9acf-68bc2783f894   \n",
       "2 2019-10-07 00:00:07    tips_show  020292ab-89bc-4156-9acf-68bc2783f894   \n",
       "3 2019-10-07 00:01:27  advert_open  020292ab-89bc-4156-9acf-68bc2783f894   \n",
       "4 2019-10-07 00:01:34    tips_show  020292ab-89bc-4156-9acf-68bc2783f894   \n",
       "\n",
       "  event_date  event_week source  \n",
       "0 2019-10-07          41  other  \n",
       "1 2019-10-07          41  other  \n",
       "2 2019-10-07          41  other  \n",
       "3 2019-10-07          41  other  \n",
       "4 2019-10-07          41  other  "
      ]
     },
     "metadata": {},
     "output_type": "display_data"
    }
   ],
   "source": [
    "df = dataset.merge(sources, on='user_id', how='right')\n",
    "\n",
    "# проверим результат\n",
    "display(df.info())\n",
    "display(df.head())"
   ]
  },
  {
   "cell_type": "markdown",
   "metadata": {},
   "source": [
    "Рассмотрим более подробно действия, которые делают пользователи"
   ]
  },
  {
   "cell_type": "code",
   "execution_count": 10,
   "metadata": {},
   "outputs": [
    {
     "data": {
      "text/plain": [
       "tips_show        40055\n",
       "photos_show      10012\n",
       "advert_open       6164\n",
       "contacts_show     4450\n",
       "map               3881\n",
       "search_1          3506\n",
       "favorites_add     1417\n",
       "search_5          1049\n",
       "tips_click         814\n",
       "search_4           701\n",
       "contacts_call      541\n",
       "search_3           522\n",
       "search_6           460\n",
       "search_2           324\n",
       "search_7           222\n",
       "show_contacts       79\n",
       "Name: event_name, dtype: int64"
      ]
     },
     "execution_count": 10,
     "metadata": {},
     "output_type": "execute_result"
    }
   ],
   "source": [
    "df['event_name'].value_counts()"
   ]
  },
  {
   "cell_type": "markdown",
   "metadata": {},
   "source": [
    "Видно, что стоит убрать ошибку с show_contacts , а также стоит свести все поисковые действия к одному, сделаем это сразу после того, как внимательно проверим остальные возможные ошибки в столбцах"
   ]
  },
  {
   "cell_type": "markdown",
   "metadata": {},
   "source": [
    "Проверим как у нас распределились источники пользователей "
   ]
  },
  {
   "cell_type": "code",
   "execution_count": 11,
   "metadata": {},
   "outputs": [
    {
     "data": {
      "text/plain": [
       "yandex    34286\n",
       "google    20445\n",
       "other     19466\n",
       "Name: source, dtype: int64"
      ]
     },
     "execution_count": 11,
     "metadata": {},
     "output_type": "execute_result"
    }
   ],
   "source": [
    "df['source'].value_counts()"
   ]
  },
  {
   "cell_type": "markdown",
   "metadata": {},
   "source": [
    "Яндекс лидирует :-). \n",
    "Проверим, не появилось ли \"новых\" пользователей"
   ]
  },
  {
   "cell_type": "code",
   "execution_count": 12,
   "metadata": {},
   "outputs": [
    {
     "data": {
      "text/plain": [
       "4293"
      ]
     },
     "execution_count": 12,
     "metadata": {},
     "output_type": "execute_result"
    }
   ],
   "source": [
    "len(df['user_id'].unique())"
   ]
  },
  {
   "cell_type": "markdown",
   "metadata": {},
   "source": [
    "Количество пользователей не изменилось.\n",
    "Сведем вместе все поисковые действия и уберем ошибку с 'show_contacts' "
   ]
  },
  {
   "cell_type": "code",
   "execution_count": 13,
   "metadata": {},
   "outputs": [
    {
     "data": {
      "text/plain": [
       "tips_show        40055\n",
       "photos_show      10012\n",
       "search            6784\n",
       "advert_open       6164\n",
       "contacts_show     4529\n",
       "map               3881\n",
       "favorites_add     1417\n",
       "tips_click         814\n",
       "contacts_call      541\n",
       "Name: event_name, dtype: int64"
      ]
     },
     "execution_count": 13,
     "metadata": {},
     "output_type": "execute_result"
    }
   ],
   "source": [
    "#объединяем поисковые действия в одно \n",
    "df = df.replace({'event_name' : { 'search_1'  : 'search', 'search_2'  : 'search', 'search_3'  : 'search', \n",
    "                            'search_4'  : 'search', 'search_5'  : 'search', 'search_6'  : 'search', \n",
    "                           'search_7'  : 'search'}})\n",
    "\n",
    "#уберем 79 ошибок в названии. Стоит написать об этом коллегам, которые готовили данные. \n",
    "df = df.replace({'event_name' : { 'show_contacts'  : 'contacts_show'}})\n",
    "\n",
    "#Посмотрим итог\n",
    "df['event_name'].value_counts()"
   ]
  },
  {
   "cell_type": "code",
   "execution_count": 14,
   "metadata": {},
   "outputs": [],
   "source": [
    "# выгрузим подготовленные данные для использования в дашборде\n",
    "df.to_csv('df_for_dash.csv', index=False)"
   ]
  },
  {
   "cell_type": "markdown",
   "metadata": {},
   "source": [
    "### Промежуточные выводы"
   ]
  },
  {
   "cell_type": "markdown",
   "metadata": {},
   "source": [
    "Согласно полученным сведениям мы примем следующие расшифровки событий: \n",
    "\n",
    "- advert_open — открытие карточки объявления \n",
    "- photos_show — просмотр фотографий в объявлении \n",
    "- tips_show — пользователь увидел рекомендованные объявления \n",
    "- tips_click — пользователь кликнул по рекомендованному объявлению \n",
    "- contacts_show и show_contacts — пользователь нажал на кнопку \"посмотреть номер телефона\" на карточке объявления \n",
    "- contacts_call — пользователь позвонил по номеру телефона на карточке объявления \n",
    "- map — пользователь открыл карту размещенных объявлений \n",
    "- search_1 — search_7 — разные события, связанные с поиском по сайту \n",
    "- favorites_add — добавление объявления в избранное\n",
    "\n",
    "Видно, что пользователям постоянно показывают рекомендованные объявления, но похоже нажимают на них плохо. Пользователи много смотрят фотографии, много ищут по сайту. А вот звонки из приложения относительно редки."
   ]
  },
  {
   "cell_type": "markdown",
   "metadata": {},
   "source": [
    "### Анализ retention rate"
   ]
  },
  {
   "cell_type": "markdown",
   "metadata": {},
   "source": [
    "Разделим пользователей на понедельные когорты по первому посещению. Если пользователи не проявляют активности в следующую неделю, то мы считаем что они отсеялись. Рассчитаем общий Retention Rate."
   ]
  },
  {
   "cell_type": "code",
   "execution_count": 15,
   "metadata": {},
   "outputs": [],
   "source": [
    "#сделаем специальный датасет для работы с Retention Rate\n",
    "df_activ = df.copy(deep=True)\n",
    "\n",
    "#для расчета переведем время события в дату\n",
    "#df_activ['event_time'] = df_activ['event_time'].dt.date\n",
    "#df_activ['event_time'] = pd.to_datetime(df_activ['event_time'], format='%Y-%m-%d')\n",
    "\n",
    "#найдем дату первой операции\n",
    "first_visit_date = df_activ.groupby('user_id')['event_date'].min()\n",
    "first_visit_date.name = 'first_event_date'\n",
    "df_activ = df_activ.join(first_visit_date, on = 'user_id')\n",
    "\n",
    "#выделим недели и неделю первого события, а также промежуток пока события были\n",
    "df_activ['event_week'] = pd.to_datetime(df_activ['event_date'], unit='d') - pd.to_timedelta(df_activ['event_date'].dt.dayofweek,unit='d')\n",
    "df_activ['first_event_week'] = pd.to_datetime(df_activ['first_event_date'], unit='d') - pd.to_timedelta(df_activ['first_event_date'].dt.dayofweek,unit='d')\n",
    "df_activ['cohort_lifetime'] = ((df_activ['event_week'] - df_activ['first_event_week']) / np.timedelta64(1,'W')).astype('int')\n",
    "\n",
    "#рассчитаем когорты\n",
    "cohorts = df_activ.groupby(['first_event_week', 'cohort_lifetime']).agg({'user_id': 'nunique'}).reset_index()\n",
    "cohorts_initial = cohorts[cohorts['cohort_lifetime'] == 0][['first_event_week', 'user_id']]\n",
    "cohorts_initial = cohorts_initial.rename(columns={'user_id': 'cohort_size'})\n",
    "cohorts = cohorts.merge(cohorts_initial, on='first_event_week', how='left')\n",
    "cohorts['retention'] = cohorts['user_id'] / cohorts['cohort_size']\n",
    "\n",
    "#отследим как изменяется количество активных пользователей внутри когорты\n",
    "cohorts_pivot = cohorts.pivot_table(index='first_event_week', columns='cohort_lifetime', values='retention', aggfunc='sum')"
   ]
  },
  {
   "cell_type": "code",
   "execution_count": 16,
   "metadata": {},
   "outputs": [
    {
     "data": {
      "image/png": "[encoded data removed]",
      "text/plain": [
       "<Figure size 1080x576 with 2 Axes>"
      ]
     },
     "metadata": {
      "needs_background": "light"
     },
     "output_type": "display_data"
    }
   ],
   "source": [
    "# построим хитмап изменения недельной активности (retention rate) \n",
    "\n",
    "plt.title('Общий retention rate при понедельной когорте')\n",
    "ax = sns.heatmap(cohorts_pivot.drop(columns=[0]), annot=True, fmt='.1%', linewidth=1, linecolor='gray', vmin=0.1, vmax=0.5)\n",
    "ax.set_yticklabels([t.get_text().split(\"T\")[0] for t in ax.get_yticklabels()])\n",
    "\n",
    "plt.show()"
   ]
  },
  {
   "cell_type": "markdown",
   "metadata": {},
   "source": [
    "Похоже купив что-то пользователь перестаёт активно пользоваться приложением"
   ]
  },
  {
   "cell_type": "markdown",
   "metadata": {},
   "source": [
    "Разделим пользователей на группы - посмотрим, отличается ли поведение пользователей, которые смотрели контакты от пользователей, что это не делали"
   ]
  },
  {
   "cell_type": "code",
   "execution_count": 17,
   "metadata": {},
   "outputs": [
    {
     "data": {
      "text/plain": [
       "122      8c356c42-3ba9-4cb6-80b8-3f868d0192c3\n",
       "350      17f6b2db-2964-4d11-89d8-7e38d2cb4750\n",
       "413      48e614d6-fe03-40f7-bf9e-4c4f61c19f64\n",
       "830      9dfa242e-8630-480a-806b-5736bcda8f3d\n",
       "952      f60a4cd4-f82c-4897-9804-3b7b130b15ac\n",
       "                         ...                 \n",
       "73958    a0944ccf-5813-427a-966e-b146d4e9adbc\n",
       "73984    ec70be94-3ea7-4ac2-90fb-da1a044d7e30\n",
       "74021    8cb7761d-ea9f-4631-b4b8-90e6bd30848b\n",
       "74036    da4b7af3-c603-457a-8506-71d90077417b\n",
       "74187    c10055f0-0b47-477a-869e-d391b31fdf8f\n",
       "Name: user_id, Length: 981, dtype: object"
      ]
     },
     "metadata": {},
     "output_type": "display_data"
    }
   ],
   "source": [
    "#введем фильтр для отслеживания целевого события\n",
    "user_filter = df.query('event_name == \"contacts_show\"')['user_id'].drop_duplicates()\n",
    "display(user_filter)"
   ]
  },
  {
   "cell_type": "markdown",
   "metadata": {},
   "source": [
    "Из 4293 уникальных пользователей, смотрели контакты 981. \n",
    "Подготовим две таблицы, для дальнейшей обработки и сравнения данных групп"
   ]
  },
  {
   "cell_type": "code",
   "execution_count": 18,
   "metadata": {},
   "outputs": [],
   "source": [
    "#формируем две новые таблицы\n",
    "gud_df = df.query('user_id in @user_filter')\n",
    "bad_df = df.query('user_id not in @user_filter')"
   ]
  },
  {
   "cell_type": "markdown",
   "metadata": {},
   "source": [
    "Посмотрим на таблицы внимательнее:"
   ]
  },
  {
   "cell_type": "code",
   "execution_count": 19,
   "metadata": {},
   "outputs": [
    {
     "name": "stdout",
     "output_type": "stream",
     "text": [
      "Таблица gud_df пользователи, что смотрели контакты\n",
      " \n",
      "Общая информация о данных\n",
      "<class 'pandas.core.frame.DataFrame'>\n",
      "Int64Index: 27197 entries, 121 to 74191\n",
      "Data columns (total 6 columns):\n",
      "event_time    27197 non-null datetime64[ns]\n",
      "event_name    27197 non-null object\n",
      "user_id       27197 non-null object\n",
      "event_date    27197 non-null datetime64[ns]\n",
      "event_week    27197 non-null int64\n",
      "source        27197 non-null object\n",
      "dtypes: datetime64[ns](2), int64(1), object(3)\n",
      "memory usage: 1.5+ MB\n",
      " \n",
      "Описание данных\n",
      "       event_week\n",
      "count   27,197.00\n",
      "mean        42.68\n",
      "std          1.08\n",
      "min         41.00\n",
      "25%         42.00\n",
      "50%         43.00\n",
      "75%         44.00\n",
      "max         44.00\n",
      " \n",
      "Случайная выборка данных\n"
     ]
    },
    {
     "data": {
      "text/html": [
       "<div>\n",
       "<style scoped>\n",
       "    .dataframe tbody tr th:only-of-type {\n",
       "        vertical-align: middle;\n",
       "    }\n",
       "\n",
       "    .dataframe tbody tr th {\n",
       "        vertical-align: top;\n",
       "    }\n",
       "\n",
       "    .dataframe thead th {\n",
       "        text-align: right;\n",
       "    }\n",
       "</style>\n",
       "<table border=\"1\" class=\"dataframe\">\n",
       "  <thead>\n",
       "    <tr style=\"text-align: right;\">\n",
       "      <th></th>\n",
       "      <th>event_time</th>\n",
       "      <th>event_name</th>\n",
       "      <th>user_id</th>\n",
       "      <th>event_date</th>\n",
       "      <th>event_week</th>\n",
       "      <th>source</th>\n",
       "    </tr>\n",
       "  </thead>\n",
       "  <tbody>\n",
       "    <tr>\n",
       "      <td>25317</td>\n",
       "      <td>2019-10-22 12:14:09</td>\n",
       "      <td>search</td>\n",
       "      <td>e0e93278-71b3-4f68-951f-ded06fdc237f</td>\n",
       "      <td>2019-10-22</td>\n",
       "      <td>43</td>\n",
       "      <td>yandex</td>\n",
       "    </tr>\n",
       "    <tr>\n",
       "      <td>30685</td>\n",
       "      <td>2019-11-01 11:01:11</td>\n",
       "      <td>tips_show</td>\n",
       "      <td>7b4b1fee-a552-4ea4-8c24-b4bfa4a96b03</td>\n",
       "      <td>2019-11-01</td>\n",
       "      <td>44</td>\n",
       "      <td>yandex</td>\n",
       "    </tr>\n",
       "    <tr>\n",
       "      <td>72250</td>\n",
       "      <td>2019-11-02 15:38:21</td>\n",
       "      <td>contacts_show</td>\n",
       "      <td>0410a648-99aa-4554-b064-963c2c5d1974</td>\n",
       "      <td>2019-11-02</td>\n",
       "      <td>44</td>\n",
       "      <td>yandex</td>\n",
       "    </tr>\n",
       "    <tr>\n",
       "      <td>58520</td>\n",
       "      <td>2019-10-26 11:21:38</td>\n",
       "      <td>tips_show</td>\n",
       "      <td>974cafad-17a9-4684-a1d0-5e14c7c61ead</td>\n",
       "      <td>2019-10-26</td>\n",
       "      <td>43</td>\n",
       "      <td>google</td>\n",
       "    </tr>\n",
       "    <tr>\n",
       "      <td>4721</td>\n",
       "      <td>2019-10-07 20:33:42</td>\n",
       "      <td>contacts_show</td>\n",
       "      <td>ffc01466-fdb1-4460-ae94-e800f52eb136</td>\n",
       "      <td>2019-10-07</td>\n",
       "      <td>41</td>\n",
       "      <td>yandex</td>\n",
       "    </tr>\n",
       "  </tbody>\n",
       "</table>\n",
       "</div>"
      ],
      "text/plain": [
       "               event_time     event_name  \\\n",
       "25317 2019-10-22 12:14:09         search   \n",
       "30685 2019-11-01 11:01:11      tips_show   \n",
       "72250 2019-11-02 15:38:21  contacts_show   \n",
       "58520 2019-10-26 11:21:38      tips_show   \n",
       "4721  2019-10-07 20:33:42  contacts_show   \n",
       "\n",
       "                                    user_id event_date  event_week  source  \n",
       "25317  e0e93278-71b3-4f68-951f-ded06fdc237f 2019-10-22          43  yandex  \n",
       "30685  7b4b1fee-a552-4ea4-8c24-b4bfa4a96b03 2019-11-01          44  yandex  \n",
       "72250  0410a648-99aa-4554-b064-963c2c5d1974 2019-11-02          44  yandex  \n",
       "58520  974cafad-17a9-4684-a1d0-5e14c7c61ead 2019-10-26          43  google  \n",
       "4721   ffc01466-fdb1-4460-ae94-e800f52eb136 2019-10-07          41  yandex  "
      ]
     },
     "execution_count": 19,
     "metadata": {},
     "output_type": "execute_result"
    }
   ],
   "source": [
    "print('Таблица gud_df пользователи, что смотрели контакты')\n",
    "#Просмотрим общую информацию о данных\n",
    "\n",
    "print (' ')\n",
    "print ('Общая информация о данных')\n",
    "gud_df.info()\n",
    "\n",
    "#Просмотрим данные функцией describle\n",
    "\n",
    "print (' ')\n",
    "print ('Описание данных')\n",
    "print(gud_df.describe())\n",
    "print (' ')\n",
    "\n",
    "# Применим случайную выборку данных для первичного ознакомления\n",
    "# Укажем параметр random_state=1, для сохранения результата при повторных запусках алгоритма, если нам\n",
    "# вдруг понадобится\n",
    "\n",
    "print ('Случайная выборка данных')\n",
    "gud_df.sample(5, random_state=1)\n"
   ]
  },
  {
   "cell_type": "code",
   "execution_count": 20,
   "metadata": {},
   "outputs": [
    {
     "name": "stdout",
     "output_type": "stream",
     "text": [
      "Таблица bad_df пользователи, которые не смотрели контакты\n",
      " \n",
      "Общая информация о данных\n",
      "<class 'pandas.core.frame.DataFrame'>\n",
      "Int64Index: 47000 entries, 0 to 74196\n",
      "Data columns (total 6 columns):\n",
      "event_time    47000 non-null datetime64[ns]\n",
      "event_name    47000 non-null object\n",
      "user_id       47000 non-null object\n",
      "event_date    47000 non-null datetime64[ns]\n",
      "event_week    47000 non-null int64\n",
      "source        47000 non-null object\n",
      "dtypes: datetime64[ns](2), int64(1), object(3)\n",
      "memory usage: 2.5+ MB\n",
      " \n",
      "Описание данных\n",
      "       event_week\n",
      "count   47,000.00\n",
      "mean        42.54\n",
      "std          1.10\n",
      "min         41.00\n",
      "25%         42.00\n",
      "50%         43.00\n",
      "75%         43.00\n",
      "max         44.00\n",
      " \n",
      "Случайная выборка данных\n"
     ]
    },
    {
     "data": {
      "text/html": [
       "<div>\n",
       "<style scoped>\n",
       "    .dataframe tbody tr th:only-of-type {\n",
       "        vertical-align: middle;\n",
       "    }\n",
       "\n",
       "    .dataframe tbody tr th {\n",
       "        vertical-align: top;\n",
       "    }\n",
       "\n",
       "    .dataframe thead th {\n",
       "        text-align: right;\n",
       "    }\n",
       "</style>\n",
       "<table border=\"1\" class=\"dataframe\">\n",
       "  <thead>\n",
       "    <tr style=\"text-align: right;\">\n",
       "      <th></th>\n",
       "      <th>event_time</th>\n",
       "      <th>event_name</th>\n",
       "      <th>user_id</th>\n",
       "      <th>event_date</th>\n",
       "      <th>event_week</th>\n",
       "      <th>source</th>\n",
       "    </tr>\n",
       "  </thead>\n",
       "  <tbody>\n",
       "    <tr>\n",
       "      <td>14754</td>\n",
       "      <td>2019-10-10 17:11:05</td>\n",
       "      <td>tips_show</td>\n",
       "      <td>46865390-ef2c-4b8a-8b6b-b94ae5b4c3c7</td>\n",
       "      <td>2019-10-10</td>\n",
       "      <td>41</td>\n",
       "      <td>yandex</td>\n",
       "    </tr>\n",
       "    <tr>\n",
       "      <td>740</td>\n",
       "      <td>2019-10-07 09:44:56</td>\n",
       "      <td>tips_show</td>\n",
       "      <td>fb667205-a708-4693-832d-363a30022cfc</td>\n",
       "      <td>2019-10-07</td>\n",
       "      <td>41</td>\n",
       "      <td>yandex</td>\n",
       "    </tr>\n",
       "    <tr>\n",
       "      <td>72895</td>\n",
       "      <td>2019-11-03 17:37:37</td>\n",
       "      <td>tips_show</td>\n",
       "      <td>0f4ca9b5-25bd-410b-b83a-21d2d7daff75</td>\n",
       "      <td>2019-11-03</td>\n",
       "      <td>44</td>\n",
       "      <td>yandex</td>\n",
       "    </tr>\n",
       "    <tr>\n",
       "      <td>24204</td>\n",
       "      <td>2019-10-13 21:28:12</td>\n",
       "      <td>advert_open</td>\n",
       "      <td>6a1f495c-f6dc-475d-a286-ed802d6627be</td>\n",
       "      <td>2019-10-13</td>\n",
       "      <td>41</td>\n",
       "      <td>other</td>\n",
       "    </tr>\n",
       "    <tr>\n",
       "      <td>72101</td>\n",
       "      <td>2019-11-02 13:03:36</td>\n",
       "      <td>search</td>\n",
       "      <td>83929fe8-65f0-41a4-bd2e-11ec6530d4b3</td>\n",
       "      <td>2019-11-02</td>\n",
       "      <td>44</td>\n",
       "      <td>yandex</td>\n",
       "    </tr>\n",
       "  </tbody>\n",
       "</table>\n",
       "</div>"
      ],
      "text/plain": [
       "               event_time   event_name                               user_id  \\\n",
       "14754 2019-10-10 17:11:05    tips_show  46865390-ef2c-4b8a-8b6b-b94ae5b4c3c7   \n",
       "740   2019-10-07 09:44:56    tips_show  fb667205-a708-4693-832d-363a30022cfc   \n",
       "72895 2019-11-03 17:37:37    tips_show  0f4ca9b5-25bd-410b-b83a-21d2d7daff75   \n",
       "24204 2019-10-13 21:28:12  advert_open  6a1f495c-f6dc-475d-a286-ed802d6627be   \n",
       "72101 2019-11-02 13:03:36       search  83929fe8-65f0-41a4-bd2e-11ec6530d4b3   \n",
       "\n",
       "      event_date  event_week  source  \n",
       "14754 2019-10-10          41  yandex  \n",
       "740   2019-10-07          41  yandex  \n",
       "72895 2019-11-03          44  yandex  \n",
       "24204 2019-10-13          41   other  \n",
       "72101 2019-11-02          44  yandex  "
      ]
     },
     "execution_count": 20,
     "metadata": {},
     "output_type": "execute_result"
    }
   ],
   "source": [
    "print('Таблица bad_df пользователи, которые не смотрели контакты')\n",
    "#Просмотрим общую информацию о данных\n",
    "\n",
    "print (' ')\n",
    "print ('Общая информация о данных')\n",
    "bad_df.info()\n",
    "\n",
    "#Просмотрим данные функцией describle\n",
    "\n",
    "print (' ')\n",
    "print ('Описание данных')\n",
    "print(bad_df.describe())\n",
    "print (' ')\n",
    "\n",
    "# Применим случайную выборку данных для первичного ознакомления\n",
    "# Укажем параметр random_state=1, для сохранения результата при повторных запусках алгоритма, если нам\n",
    "# вдруг понадобится\n",
    "\n",
    "print ('Случайная выборка данных')\n",
    "bad_df.sample(5, random_state=1)"
   ]
  },
  {
   "cell_type": "markdown",
   "metadata": {},
   "source": [
    "Похоже те пользователи, что смотрят контакты гораздо более активны.\n",
    "Рассчитаем Retention Rate для каждой из наших групп. Я предполагаю, что те кто просматривают контакты больше времени посещают сайт."
   ]
  },
  {
   "cell_type": "code",
   "execution_count": 21,
   "metadata": {},
   "outputs": [
    {
     "data": {
      "image/png": "[encoded data removed]",
      "text/plain": [
       "<Figure size 1080x576 with 2 Axes>"
      ]
     },
     "metadata": {
      "needs_background": "light"
     },
     "output_type": "display_data"
    }
   ],
   "source": [
    "#найдем дату первой операции\n",
    "first_visit_date = gud_df.groupby('user_id')['event_date'].min()\n",
    "first_visit_date.name = 'first_event_date'\n",
    "gud_df = gud_df.join(first_visit_date, on = 'user_id')\n",
    "\n",
    "#выделим недели и неделю первого события, а также промежуток пока события были\n",
    "gud_df['event_week'] = pd.to_datetime(gud_df['event_date'], unit='d') - pd.to_timedelta(gud_df['event_date'].dt.dayofweek,unit='d')\n",
    "gud_df['first_event_week'] = pd.to_datetime(gud_df['first_event_date'], unit='d') - pd.to_timedelta(gud_df['first_event_date'].dt.dayofweek,unit='d')\n",
    "gud_df['cohort_lifetime'] = ((gud_df['event_week'] - gud_df['first_event_week']) / np.timedelta64(1,'W')).astype('int')\n",
    "\n",
    "#рассчитаем когорты\n",
    "cohorts = gud_df.groupby(['first_event_week', 'cohort_lifetime']).agg({'user_id': 'nunique'}).reset_index()\n",
    "cohorts_initial = cohorts[cohorts['cohort_lifetime'] == 0][['first_event_week', 'user_id']]\n",
    "cohorts_initial = cohorts_initial.rename(columns={'user_id': 'cohort_size'})\n",
    "cohorts = cohorts.merge(cohorts_initial, on='first_event_week', how='left')\n",
    "cohorts['retention'] = cohorts['user_id'] / cohorts['cohort_size']\n",
    "\n",
    "\n",
    "#отследим как изменяется количество активных пользователей внутри когорты\n",
    "cohorts_pivot = cohorts.pivot_table(index='first_event_week', columns='cohort_lifetime', values='retention', aggfunc='sum')\n",
    "\n",
    "\n",
    "# построим хитмап изменения недельной активности (retention rate) \n",
    "plt.title('retention rate при понедельной когорте целевой аудитории')\n",
    "ax = sns.heatmap(cohorts_pivot.drop(columns=[0]), annot=True, fmt='.1%', linewidth=1, linecolor='gray', vmin=0.1, vmax=0.5)\n",
    "ax.set_yticklabels([t.get_text().split(\"T\")[0] for t in ax.get_yticklabels()])\n",
    "plt.show()"
   ]
  },
  {
   "cell_type": "code",
   "execution_count": 22,
   "metadata": {},
   "outputs": [
    {
     "data": {
      "image/png": "[encoded data removed]",
      "text/plain": [
       "<Figure size 1080x576 with 2 Axes>"
      ]
     },
     "metadata": {
      "needs_background": "light"
     },
     "output_type": "display_data"
    }
   ],
   "source": [
    "#найдем дату первой операции\n",
    "first_visit_date = bad_df.groupby('user_id')['event_date'].min()\n",
    "first_visit_date.name = 'first_event_date'\n",
    "bad_df = bad_df.join(first_visit_date, on = 'user_id')\n",
    "\n",
    "#выделим недели и неделю первого события, а также промежуток пока события были\n",
    "bad_df['event_week'] = pd.to_datetime(bad_df['event_date'], unit='d') - pd.to_timedelta(bad_df['event_date'].dt.dayofweek,unit='d')\n",
    "bad_df['first_event_week'] = pd.to_datetime(bad_df['first_event_date'], unit='d') - pd.to_timedelta(bad_df['first_event_date'].dt.dayofweek,unit='d')\n",
    "bad_df['cohort_lifetime'] = ((bad_df['event_week'] - bad_df['first_event_week']) / np.timedelta64(1,'W')).astype('int')\n",
    "\n",
    "#рассчитаем когорты\n",
    "cohorts = bad_df.groupby(['first_event_week', 'cohort_lifetime']).agg({'user_id': 'nunique'}).reset_index()\n",
    "cohorts_initial = cohorts[cohorts['cohort_lifetime'] == 0][['first_event_week', 'user_id']]\n",
    "cohorts_initial = cohorts_initial.rename(columns={'user_id': 'cohort_size'})\n",
    "cohorts = cohorts.merge(cohorts_initial, on='first_event_week', how='left')\n",
    "cohorts['retention'] = cohorts['user_id'] / cohorts['cohort_size']\n",
    "\n",
    "#отследим как изменяется количество активных пользователей внутри когорты\n",
    "cohorts_pivot = cohorts.pivot_table(index='first_event_week', columns='cohort_lifetime', values='retention', aggfunc='sum')\n",
    "\n",
    "# построим хитмап изменения недельной активности (retention rate) \n",
    "plt.title('retention rate при понедельной когорте тех, кто не сделал целевое действие')\n",
    "ax = sns.heatmap(cohorts_pivot.drop(columns=[0]), annot=True, fmt='.1%', linewidth=1, linecolor='gray', vmin=0.1, vmax=0.5)\n",
    "ax.set_yticklabels([t.get_text().split(\"T\")[0] for t in ax.get_yticklabels()])\n",
    "plt.show()"
   ]
  },
  {
   "cell_type": "markdown",
   "metadata": {},
   "source": [
    "### Промежуточные выводы"
   ]
  },
  {
   "cell_type": "markdown",
   "metadata": {},
   "source": [
    "Если мы посмотрим общий retention rate то при недельных когортах он в первую неделю хорош для мобильного приложения и составляет около 25%, а ещё через неделю жизни идёт стремительное падение активности пользователей.\n",
    "При этом когда мы начинаем анализировать целевую и нецелевую группы, то очевидно, что retention rate тех, кто просматривает контакты заметно больше и достигает на первой неделе 38%. Также очевидно, что это более активные пользователи, которые генерят больше действии и событий (981 пользователь генерит 27 тысяч команд, в то время как 3312 пользователей нецелевой группы генерят за то же время всего 47 тысяч команд).\n",
    "Дополнительно интересно посмотреть на поведение 3-й когорты - она демонстрирует более низкое удержание нецелевой группы (16,5%) и очень высокое удержание целевой группы (38,4%). Я рекомендую проверить маркетинговые действия или иные изменения которые вводились командой приложения в эту неделю."
   ]
  },
  {
   "cell_type": "markdown",
   "metadata": {},
   "source": [
    "### Время в приложении"
   ]
  },
  {
   "cell_type": "markdown",
   "metadata": {},
   "source": [
    "Исследуем время проведеное пользователями в приложении. Под временем проведенном в приложении мы берем время первого и последнего события в день. Проверим есть ли разница во времени проведения на сайте между выделенными группами."
   ]
  },
  {
   "cell_type": "code",
   "execution_count": 23,
   "metadata": {},
   "outputs": [
    {
     "data": {
      "text/html": [
       "<div>\n",
       "<style scoped>\n",
       "    .dataframe tbody tr th:only-of-type {\n",
       "        vertical-align: middle;\n",
       "    }\n",
       "\n",
       "    .dataframe tbody tr th {\n",
       "        vertical-align: top;\n",
       "    }\n",
       "\n",
       "    .dataframe thead th {\n",
       "        text-align: right;\n",
       "    }\n",
       "</style>\n",
       "<table border=\"1\" class=\"dataframe\">\n",
       "  <thead>\n",
       "    <tr style=\"text-align: right;\">\n",
       "      <th></th>\n",
       "      <th>event_time</th>\n",
       "      <th>event_name</th>\n",
       "      <th>user_id</th>\n",
       "      <th>event_date</th>\n",
       "      <th>event_week</th>\n",
       "      <th>source</th>\n",
       "    </tr>\n",
       "  </thead>\n",
       "  <tbody>\n",
       "    <tr>\n",
       "      <td>0</td>\n",
       "      <td>2019-10-07 00:00:00</td>\n",
       "      <td>advert_open</td>\n",
       "      <td>020292ab-89bc-4156-9acf-68bc2783f894</td>\n",
       "      <td>2019-10-07</td>\n",
       "      <td>41</td>\n",
       "      <td>other</td>\n",
       "    </tr>\n",
       "    <tr>\n",
       "      <td>1</td>\n",
       "      <td>2019-10-07 00:00:01</td>\n",
       "      <td>tips_show</td>\n",
       "      <td>020292ab-89bc-4156-9acf-68bc2783f894</td>\n",
       "      <td>2019-10-07</td>\n",
       "      <td>41</td>\n",
       "      <td>other</td>\n",
       "    </tr>\n",
       "    <tr>\n",
       "      <td>2</td>\n",
       "      <td>2019-10-07 00:00:07</td>\n",
       "      <td>tips_show</td>\n",
       "      <td>020292ab-89bc-4156-9acf-68bc2783f894</td>\n",
       "      <td>2019-10-07</td>\n",
       "      <td>41</td>\n",
       "      <td>other</td>\n",
       "    </tr>\n",
       "    <tr>\n",
       "      <td>3</td>\n",
       "      <td>2019-10-07 00:01:27</td>\n",
       "      <td>advert_open</td>\n",
       "      <td>020292ab-89bc-4156-9acf-68bc2783f894</td>\n",
       "      <td>2019-10-07</td>\n",
       "      <td>41</td>\n",
       "      <td>other</td>\n",
       "    </tr>\n",
       "    <tr>\n",
       "      <td>4</td>\n",
       "      <td>2019-10-07 00:01:34</td>\n",
       "      <td>tips_show</td>\n",
       "      <td>020292ab-89bc-4156-9acf-68bc2783f894</td>\n",
       "      <td>2019-10-07</td>\n",
       "      <td>41</td>\n",
       "      <td>other</td>\n",
       "    </tr>\n",
       "    <tr>\n",
       "      <td>...</td>\n",
       "      <td>...</td>\n",
       "      <td>...</td>\n",
       "      <td>...</td>\n",
       "      <td>...</td>\n",
       "      <td>...</td>\n",
       "      <td>...</td>\n",
       "    </tr>\n",
       "    <tr>\n",
       "      <td>74192</td>\n",
       "      <td>2019-11-03 23:46:47</td>\n",
       "      <td>map</td>\n",
       "      <td>d157bffc-264d-4464-8220-1cc0c42f43a9</td>\n",
       "      <td>2019-11-03</td>\n",
       "      <td>44</td>\n",
       "      <td>google</td>\n",
       "    </tr>\n",
       "    <tr>\n",
       "      <td>74193</td>\n",
       "      <td>2019-11-03 23:46:58</td>\n",
       "      <td>advert_open</td>\n",
       "      <td>d157bffc-264d-4464-8220-1cc0c42f43a9</td>\n",
       "      <td>2019-11-03</td>\n",
       "      <td>44</td>\n",
       "      <td>google</td>\n",
       "    </tr>\n",
       "    <tr>\n",
       "      <td>74194</td>\n",
       "      <td>2019-11-03 23:47:01</td>\n",
       "      <td>tips_show</td>\n",
       "      <td>d157bffc-264d-4464-8220-1cc0c42f43a9</td>\n",
       "      <td>2019-11-03</td>\n",
       "      <td>44</td>\n",
       "      <td>google</td>\n",
       "    </tr>\n",
       "    <tr>\n",
       "      <td>74195</td>\n",
       "      <td>2019-11-03 23:47:47</td>\n",
       "      <td>advert_open</td>\n",
       "      <td>d157bffc-264d-4464-8220-1cc0c42f43a9</td>\n",
       "      <td>2019-11-03</td>\n",
       "      <td>44</td>\n",
       "      <td>google</td>\n",
       "    </tr>\n",
       "    <tr>\n",
       "      <td>74196</td>\n",
       "      <td>2019-11-03 23:47:50</td>\n",
       "      <td>tips_show</td>\n",
       "      <td>d157bffc-264d-4464-8220-1cc0c42f43a9</td>\n",
       "      <td>2019-11-03</td>\n",
       "      <td>44</td>\n",
       "      <td>google</td>\n",
       "    </tr>\n",
       "  </tbody>\n",
       "</table>\n",
       "<p>74197 rows × 6 columns</p>\n",
       "</div>"
      ],
      "text/plain": [
       "               event_time   event_name                               user_id  \\\n",
       "0     2019-10-07 00:00:00  advert_open  020292ab-89bc-4156-9acf-68bc2783f894   \n",
       "1     2019-10-07 00:00:01    tips_show  020292ab-89bc-4156-9acf-68bc2783f894   \n",
       "2     2019-10-07 00:00:07    tips_show  020292ab-89bc-4156-9acf-68bc2783f894   \n",
       "3     2019-10-07 00:01:27  advert_open  020292ab-89bc-4156-9acf-68bc2783f894   \n",
       "4     2019-10-07 00:01:34    tips_show  020292ab-89bc-4156-9acf-68bc2783f894   \n",
       "...                   ...          ...                                   ...   \n",
       "74192 2019-11-03 23:46:47          map  d157bffc-264d-4464-8220-1cc0c42f43a9   \n",
       "74193 2019-11-03 23:46:58  advert_open  d157bffc-264d-4464-8220-1cc0c42f43a9   \n",
       "74194 2019-11-03 23:47:01    tips_show  d157bffc-264d-4464-8220-1cc0c42f43a9   \n",
       "74195 2019-11-03 23:47:47  advert_open  d157bffc-264d-4464-8220-1cc0c42f43a9   \n",
       "74196 2019-11-03 23:47:50    tips_show  d157bffc-264d-4464-8220-1cc0c42f43a9   \n",
       "\n",
       "      event_date  event_week  source  \n",
       "0     2019-10-07          41   other  \n",
       "1     2019-10-07          41   other  \n",
       "2     2019-10-07          41   other  \n",
       "3     2019-10-07          41   other  \n",
       "4     2019-10-07          41   other  \n",
       "...          ...         ...     ...  \n",
       "74192 2019-11-03          44  google  \n",
       "74193 2019-11-03          44  google  \n",
       "74194 2019-11-03          44  google  \n",
       "74195 2019-11-03          44  google  \n",
       "74196 2019-11-03          44  google  \n",
       "\n",
       "[74197 rows x 6 columns]"
      ]
     },
     "metadata": {},
     "output_type": "display_data"
    },
    {
     "data": {
      "text/html": [
       "<div>\n",
       "<style scoped>\n",
       "    .dataframe tbody tr th:only-of-type {\n",
       "        vertical-align: middle;\n",
       "    }\n",
       "\n",
       "    .dataframe tbody tr th {\n",
       "        vertical-align: top;\n",
       "    }\n",
       "\n",
       "    .dataframe thead th {\n",
       "        text-align: right;\n",
       "    }\n",
       "</style>\n",
       "<table border=\"1\" class=\"dataframe\">\n",
       "  <thead>\n",
       "    <tr style=\"text-align: right;\">\n",
       "      <th></th>\n",
       "      <th></th>\n",
       "      <th>last_visit_in_date</th>\n",
       "      <th>first_visit_in_date</th>\n",
       "      <th>delta_time</th>\n",
       "      <th>delta_time_minutes</th>\n",
       "    </tr>\n",
       "    <tr>\n",
       "      <th>user_id</th>\n",
       "      <th>event_date</th>\n",
       "      <th></th>\n",
       "      <th></th>\n",
       "      <th></th>\n",
       "      <th></th>\n",
       "    </tr>\n",
       "  </thead>\n",
       "  <tbody>\n",
       "    <tr>\n",
       "      <td rowspan=\"4\" valign=\"top\">0001b1d5-b74a-4cbf-aeb0-7df5947bf349</td>\n",
       "      <td>2019-10-07</td>\n",
       "      <td>2019-10-07 13:49:41</td>\n",
       "      <td>2019-10-07 13:39:45</td>\n",
       "      <td>596.00</td>\n",
       "      <td>9.93</td>\n",
       "    </tr>\n",
       "    <tr>\n",
       "      <td>2019-10-09</td>\n",
       "      <td>2019-10-09 18:42:22</td>\n",
       "      <td>2019-10-09 18:33:55</td>\n",
       "      <td>507.00</td>\n",
       "      <td>8.45</td>\n",
       "    </tr>\n",
       "    <tr>\n",
       "      <td>2019-10-21</td>\n",
       "      <td>2019-10-21 20:07:30</td>\n",
       "      <td>2019-10-21 19:52:30</td>\n",
       "      <td>900.00</td>\n",
       "      <td>15.00</td>\n",
       "    </tr>\n",
       "    <tr>\n",
       "      <td>2019-10-22</td>\n",
       "      <td>2019-10-22 11:30:52</td>\n",
       "      <td>2019-10-22 11:18:14</td>\n",
       "      <td>758.00</td>\n",
       "      <td>12.63</td>\n",
       "    </tr>\n",
       "    <tr>\n",
       "      <td>00157779-810c-4498-9e05-a1e9e3cedf93</td>\n",
       "      <td>2019-10-19</td>\n",
       "      <td>2019-10-19 21:59:54</td>\n",
       "      <td>2019-10-19 21:34:33</td>\n",
       "      <td>1,521.00</td>\n",
       "      <td>25.35</td>\n",
       "    </tr>\n",
       "    <tr>\n",
       "      <td>...</td>\n",
       "      <td>...</td>\n",
       "      <td>...</td>\n",
       "      <td>...</td>\n",
       "      <td>...</td>\n",
       "      <td>...</td>\n",
       "    </tr>\n",
       "    <tr>\n",
       "      <td rowspan=\"5\" valign=\"top\">fffb9e79-b927-4dbb-9b48-7fd09b23a62b</td>\n",
       "      <td>2019-10-29</td>\n",
       "      <td>2019-10-29 16:13:00</td>\n",
       "      <td>2019-10-29 13:58:47</td>\n",
       "      <td>8,053.00</td>\n",
       "      <td>134.22</td>\n",
       "    </tr>\n",
       "    <tr>\n",
       "      <td>2019-10-30</td>\n",
       "      <td>2019-10-30 11:31:45</td>\n",
       "      <td>2019-10-30 00:15:43</td>\n",
       "      <td>40,562.00</td>\n",
       "      <td>676.03</td>\n",
       "    </tr>\n",
       "    <tr>\n",
       "      <td>2019-11-01</td>\n",
       "      <td>2019-11-01 00:24:53</td>\n",
       "      <td>2019-11-01 00:24:31</td>\n",
       "      <td>22.00</td>\n",
       "      <td>0.37</td>\n",
       "    </tr>\n",
       "    <tr>\n",
       "      <td>2019-11-02</td>\n",
       "      <td>2019-11-02 19:30:50</td>\n",
       "      <td>2019-11-02 01:16:48</td>\n",
       "      <td>65,642.00</td>\n",
       "      <td>1,094.03</td>\n",
       "    </tr>\n",
       "    <tr>\n",
       "      <td>2019-11-03</td>\n",
       "      <td>2019-11-03 16:08:25</td>\n",
       "      <td>2019-11-03 14:32:55</td>\n",
       "      <td>5,730.00</td>\n",
       "      <td>95.50</td>\n",
       "    </tr>\n",
       "  </tbody>\n",
       "</table>\n",
       "<p>7817 rows × 4 columns</p>\n",
       "</div>"
      ],
      "text/plain": [
       "                                                 last_visit_in_date  \\\n",
       "user_id                              event_date                       \n",
       "0001b1d5-b74a-4cbf-aeb0-7df5947bf349 2019-10-07 2019-10-07 13:49:41   \n",
       "                                     2019-10-09 2019-10-09 18:42:22   \n",
       "                                     2019-10-21 2019-10-21 20:07:30   \n",
       "                                     2019-10-22 2019-10-22 11:30:52   \n",
       "00157779-810c-4498-9e05-a1e9e3cedf93 2019-10-19 2019-10-19 21:59:54   \n",
       "...                                                             ...   \n",
       "fffb9e79-b927-4dbb-9b48-7fd09b23a62b 2019-10-29 2019-10-29 16:13:00   \n",
       "                                     2019-10-30 2019-10-30 11:31:45   \n",
       "                                     2019-11-01 2019-11-01 00:24:53   \n",
       "                                     2019-11-02 2019-11-02 19:30:50   \n",
       "                                     2019-11-03 2019-11-03 16:08:25   \n",
       "\n",
       "                                                first_visit_in_date  \\\n",
       "user_id                              event_date                       \n",
       "0001b1d5-b74a-4cbf-aeb0-7df5947bf349 2019-10-07 2019-10-07 13:39:45   \n",
       "                                     2019-10-09 2019-10-09 18:33:55   \n",
       "                                     2019-10-21 2019-10-21 19:52:30   \n",
       "                                     2019-10-22 2019-10-22 11:18:14   \n",
       "00157779-810c-4498-9e05-a1e9e3cedf93 2019-10-19 2019-10-19 21:34:33   \n",
       "...                                                             ...   \n",
       "fffb9e79-b927-4dbb-9b48-7fd09b23a62b 2019-10-29 2019-10-29 13:58:47   \n",
       "                                     2019-10-30 2019-10-30 00:15:43   \n",
       "                                     2019-11-01 2019-11-01 00:24:31   \n",
       "                                     2019-11-02 2019-11-02 01:16:48   \n",
       "                                     2019-11-03 2019-11-03 14:32:55   \n",
       "\n",
       "                                                 delta_time  \\\n",
       "user_id                              event_date               \n",
       "0001b1d5-b74a-4cbf-aeb0-7df5947bf349 2019-10-07      596.00   \n",
       "                                     2019-10-09      507.00   \n",
       "                                     2019-10-21      900.00   \n",
       "                                     2019-10-22      758.00   \n",
       "00157779-810c-4498-9e05-a1e9e3cedf93 2019-10-19    1,521.00   \n",
       "...                                                     ...   \n",
       "fffb9e79-b927-4dbb-9b48-7fd09b23a62b 2019-10-29    8,053.00   \n",
       "                                     2019-10-30   40,562.00   \n",
       "                                     2019-11-01       22.00   \n",
       "                                     2019-11-02   65,642.00   \n",
       "                                     2019-11-03    5,730.00   \n",
       "\n",
       "                                                 delta_time_minutes  \n",
       "user_id                              event_date                      \n",
       "0001b1d5-b74a-4cbf-aeb0-7df5947bf349 2019-10-07                9.93  \n",
       "                                     2019-10-09                8.45  \n",
       "                                     2019-10-21               15.00  \n",
       "                                     2019-10-22               12.63  \n",
       "00157779-810c-4498-9e05-a1e9e3cedf93 2019-10-19               25.35  \n",
       "...                                                             ...  \n",
       "fffb9e79-b927-4dbb-9b48-7fd09b23a62b 2019-10-29              134.22  \n",
       "                                     2019-10-30              676.03  \n",
       "                                     2019-11-01                0.37  \n",
       "                                     2019-11-02            1,094.03  \n",
       "                                     2019-11-03               95.50  \n",
       "\n",
       "[7817 rows x 4 columns]"
      ]
     },
     "metadata": {},
     "output_type": "display_data"
    }
   ],
   "source": [
    "#сделаем специальный датасет для работы с временем\n",
    "dft = df.copy(deep=True)\n",
    "\n",
    "#проверим, как он выглядит\n",
    "display(dft)\n",
    "\n",
    "# вычленяем нужные нам даты визита в день на пользователя\n",
    "time_in_program = dft.groupby(['user_id', 'event_date']).agg({'event_time': ['max','min']})\n",
    "time_in_program.columns = ['last_visit_in_date','first_visit_in_date']\n",
    "\n",
    "#высчитаем время по дням\n",
    "time_in_program['delta_time'] = time_in_program['last_visit_in_date'] - time_in_program['first_visit_in_date']\n",
    "time_in_program['delta_time'] = time_in_program['delta_time'].astype('timedelta64[s]')\n",
    "time_in_program['delta_time_minutes'] =time_in_program['delta_time']/60\n",
    "\n",
    "#проверим результат\n",
    "display(time_in_program)"
   ]
  },
  {
   "cell_type": "code",
   "execution_count": 24,
   "metadata": {},
   "outputs": [
    {
     "name": "stdout",
     "output_type": "stream",
     "text": [
      "Среднее время проводимое пользователем в приложении в день, мин: 83.03\n"
     ]
    },
    {
     "data": {
      "image/png": "[encoded data removed]",
      "text/plain": [
       "<Figure size 1080x576 with 1 Axes>"
      ]
     },
     "metadata": {
      "needs_background": "light"
     },
     "output_type": "display_data"
    }
   ],
   "source": [
    "\n",
    "print('Среднее время проводимое пользователем в приложении в день, мин:',time_in_program['delta_time_minutes'].mean().round(2))\n",
    "\n",
    "time_in_program['delta_time'].hist(bins=200)\n",
    "plt.title('Средняя продолжительность времени проводимое пользователем в приложении в день', fontsize=14)\n",
    "plt.xlabel('с')\n",
    "plt.ylabel('дневные визиты')\n",
    "plt.xlim(-10, 10000)\n",
    "plt.show()"
   ]
  },
  {
   "cell_type": "markdown",
   "metadata": {},
   "source": [
    "Сделаем подобные расчеты для выделенных групп"
   ]
  },
  {
   "cell_type": "code",
   "execution_count": 25,
   "metadata": {},
   "outputs": [
    {
     "name": "stdout",
     "output_type": "stream",
     "text": [
      "\u001b[1mВремя в день проводимое пользователями целевой группы в приложении\u001b[0m\n"
     ]
    },
    {
     "data": {
      "text/html": [
       "<div>\n",
       "<style scoped>\n",
       "    .dataframe tbody tr th:only-of-type {\n",
       "        vertical-align: middle;\n",
       "    }\n",
       "\n",
       "    .dataframe tbody tr th {\n",
       "        vertical-align: top;\n",
       "    }\n",
       "\n",
       "    .dataframe thead th {\n",
       "        text-align: right;\n",
       "    }\n",
       "</style>\n",
       "<table border=\"1\" class=\"dataframe\">\n",
       "  <thead>\n",
       "    <tr style=\"text-align: right;\">\n",
       "      <th></th>\n",
       "      <th></th>\n",
       "      <th>last_visit_in_date</th>\n",
       "      <th>first_visit_in_date</th>\n",
       "      <th>delta_time</th>\n",
       "      <th>delta_time_minutes</th>\n",
       "    </tr>\n",
       "    <tr>\n",
       "      <th>user_id</th>\n",
       "      <th>event_date</th>\n",
       "      <th></th>\n",
       "      <th></th>\n",
       "      <th></th>\n",
       "      <th></th>\n",
       "    </tr>\n",
       "  </thead>\n",
       "  <tbody>\n",
       "    <tr>\n",
       "      <td rowspan=\"5\" valign=\"top\">00157779-810c-4498-9e05-a1e9e3cedf93</td>\n",
       "      <td>2019-10-19</td>\n",
       "      <td>2019-10-19 21:59:54</td>\n",
       "      <td>2019-10-19 21:34:33</td>\n",
       "      <td>1,521.00</td>\n",
       "      <td>25.35</td>\n",
       "    </tr>\n",
       "    <tr>\n",
       "      <td>2019-10-20</td>\n",
       "      <td>2019-10-20 20:05:36</td>\n",
       "      <td>2019-10-20 18:49:24</td>\n",
       "      <td>4,572.00</td>\n",
       "      <td>76.20</td>\n",
       "    </tr>\n",
       "    <tr>\n",
       "      <td>2019-10-24</td>\n",
       "      <td>2019-10-24 10:57:12</td>\n",
       "      <td>2019-10-24 10:50:40</td>\n",
       "      <td>392.00</td>\n",
       "      <td>6.53</td>\n",
       "    </tr>\n",
       "    <tr>\n",
       "      <td>2019-10-29</td>\n",
       "      <td>2019-10-29 22:10:25</td>\n",
       "      <td>2019-10-29 21:18:24</td>\n",
       "      <td>3,121.00</td>\n",
       "      <td>52.02</td>\n",
       "    </tr>\n",
       "    <tr>\n",
       "      <td>2019-10-30</td>\n",
       "      <td>2019-10-30 08:26:53</td>\n",
       "      <td>2019-10-30 07:50:45</td>\n",
       "      <td>2,168.00</td>\n",
       "      <td>36.13</td>\n",
       "    </tr>\n",
       "    <tr>\n",
       "      <td>...</td>\n",
       "      <td>...</td>\n",
       "      <td>...</td>\n",
       "      <td>...</td>\n",
       "      <td>...</td>\n",
       "      <td>...</td>\n",
       "    </tr>\n",
       "    <tr>\n",
       "      <td rowspan=\"5\" valign=\"top\">fffb9e79-b927-4dbb-9b48-7fd09b23a62b</td>\n",
       "      <td>2019-10-29</td>\n",
       "      <td>2019-10-29 16:13:00</td>\n",
       "      <td>2019-10-29 13:58:47</td>\n",
       "      <td>8,053.00</td>\n",
       "      <td>134.22</td>\n",
       "    </tr>\n",
       "    <tr>\n",
       "      <td>2019-10-30</td>\n",
       "      <td>2019-10-30 11:31:45</td>\n",
       "      <td>2019-10-30 00:15:43</td>\n",
       "      <td>40,562.00</td>\n",
       "      <td>676.03</td>\n",
       "    </tr>\n",
       "    <tr>\n",
       "      <td>2019-11-01</td>\n",
       "      <td>2019-11-01 00:24:53</td>\n",
       "      <td>2019-11-01 00:24:31</td>\n",
       "      <td>22.00</td>\n",
       "      <td>0.37</td>\n",
       "    </tr>\n",
       "    <tr>\n",
       "      <td>2019-11-02</td>\n",
       "      <td>2019-11-02 19:30:50</td>\n",
       "      <td>2019-11-02 01:16:48</td>\n",
       "      <td>65,642.00</td>\n",
       "      <td>1,094.03</td>\n",
       "    </tr>\n",
       "    <tr>\n",
       "      <td>2019-11-03</td>\n",
       "      <td>2019-11-03 16:08:25</td>\n",
       "      <td>2019-11-03 14:32:55</td>\n",
       "      <td>5,730.00</td>\n",
       "      <td>95.50</td>\n",
       "    </tr>\n",
       "  </tbody>\n",
       "</table>\n",
       "<p>2475 rows × 4 columns</p>\n",
       "</div>"
      ],
      "text/plain": [
       "                                                 last_visit_in_date  \\\n",
       "user_id                              event_date                       \n",
       "00157779-810c-4498-9e05-a1e9e3cedf93 2019-10-19 2019-10-19 21:59:54   \n",
       "                                     2019-10-20 2019-10-20 20:05:36   \n",
       "                                     2019-10-24 2019-10-24 10:57:12   \n",
       "                                     2019-10-29 2019-10-29 22:10:25   \n",
       "                                     2019-10-30 2019-10-30 08:26:53   \n",
       "...                                                             ...   \n",
       "fffb9e79-b927-4dbb-9b48-7fd09b23a62b 2019-10-29 2019-10-29 16:13:00   \n",
       "                                     2019-10-30 2019-10-30 11:31:45   \n",
       "                                     2019-11-01 2019-11-01 00:24:53   \n",
       "                                     2019-11-02 2019-11-02 19:30:50   \n",
       "                                     2019-11-03 2019-11-03 16:08:25   \n",
       "\n",
       "                                                first_visit_in_date  \\\n",
       "user_id                              event_date                       \n",
       "00157779-810c-4498-9e05-a1e9e3cedf93 2019-10-19 2019-10-19 21:34:33   \n",
       "                                     2019-10-20 2019-10-20 18:49:24   \n",
       "                                     2019-10-24 2019-10-24 10:50:40   \n",
       "                                     2019-10-29 2019-10-29 21:18:24   \n",
       "                                     2019-10-30 2019-10-30 07:50:45   \n",
       "...                                                             ...   \n",
       "fffb9e79-b927-4dbb-9b48-7fd09b23a62b 2019-10-29 2019-10-29 13:58:47   \n",
       "                                     2019-10-30 2019-10-30 00:15:43   \n",
       "                                     2019-11-01 2019-11-01 00:24:31   \n",
       "                                     2019-11-02 2019-11-02 01:16:48   \n",
       "                                     2019-11-03 2019-11-03 14:32:55   \n",
       "\n",
       "                                                 delta_time  \\\n",
       "user_id                              event_date               \n",
       "00157779-810c-4498-9e05-a1e9e3cedf93 2019-10-19    1,521.00   \n",
       "                                     2019-10-20    4,572.00   \n",
       "                                     2019-10-24      392.00   \n",
       "                                     2019-10-29    3,121.00   \n",
       "                                     2019-10-30    2,168.00   \n",
       "...                                                     ...   \n",
       "fffb9e79-b927-4dbb-9b48-7fd09b23a62b 2019-10-29    8,053.00   \n",
       "                                     2019-10-30   40,562.00   \n",
       "                                     2019-11-01       22.00   \n",
       "                                     2019-11-02   65,642.00   \n",
       "                                     2019-11-03    5,730.00   \n",
       "\n",
       "                                                 delta_time_minutes  \n",
       "user_id                              event_date                      \n",
       "00157779-810c-4498-9e05-a1e9e3cedf93 2019-10-19               25.35  \n",
       "                                     2019-10-20               76.20  \n",
       "                                     2019-10-24                6.53  \n",
       "                                     2019-10-29               52.02  \n",
       "                                     2019-10-30               36.13  \n",
       "...                                                             ...  \n",
       "fffb9e79-b927-4dbb-9b48-7fd09b23a62b 2019-10-29              134.22  \n",
       "                                     2019-10-30              676.03  \n",
       "                                     2019-11-01                0.37  \n",
       "                                     2019-11-02            1,094.03  \n",
       "                                     2019-11-03               95.50  \n",
       "\n",
       "[2475 rows x 4 columns]"
      ]
     },
     "metadata": {},
     "output_type": "display_data"
    },
    {
     "name": "stdout",
     "output_type": "stream",
     "text": [
      "=============================================\n",
      "\n",
      "\u001b[1mСреднее время проводимое пользователем из целевой группы в приложении в день, мин:\u001b[0m 124.01\n",
      "\n",
      "\u001b[1mКоличество сессий пользователей из целевой группы:\u001b[0m 2475\n",
      "\n",
      "\u001b[1mВремя в день проводимое пользователями нецелевой группы в приложении\u001b[0m\n"
     ]
    },
    {
     "data": {
      "text/html": [
       "<div>\n",
       "<style scoped>\n",
       "    .dataframe tbody tr th:only-of-type {\n",
       "        vertical-align: middle;\n",
       "    }\n",
       "\n",
       "    .dataframe tbody tr th {\n",
       "        vertical-align: top;\n",
       "    }\n",
       "\n",
       "    .dataframe thead th {\n",
       "        text-align: right;\n",
       "    }\n",
       "</style>\n",
       "<table border=\"1\" class=\"dataframe\">\n",
       "  <thead>\n",
       "    <tr style=\"text-align: right;\">\n",
       "      <th></th>\n",
       "      <th></th>\n",
       "      <th>last_visit_in_date</th>\n",
       "      <th>first_visit_in_date</th>\n",
       "      <th>delta_time</th>\n",
       "      <th>delta_time_minutes</th>\n",
       "    </tr>\n",
       "    <tr>\n",
       "      <th>user_id</th>\n",
       "      <th>event_date</th>\n",
       "      <th></th>\n",
       "      <th></th>\n",
       "      <th></th>\n",
       "      <th></th>\n",
       "    </tr>\n",
       "  </thead>\n",
       "  <tbody>\n",
       "    <tr>\n",
       "      <td rowspan=\"4\" valign=\"top\">0001b1d5-b74a-4cbf-aeb0-7df5947bf349</td>\n",
       "      <td>2019-10-07</td>\n",
       "      <td>2019-10-07 13:49:41</td>\n",
       "      <td>2019-10-07 13:39:45</td>\n",
       "      <td>596.00</td>\n",
       "      <td>9.93</td>\n",
       "    </tr>\n",
       "    <tr>\n",
       "      <td>2019-10-09</td>\n",
       "      <td>2019-10-09 18:42:22</td>\n",
       "      <td>2019-10-09 18:33:55</td>\n",
       "      <td>507.00</td>\n",
       "      <td>8.45</td>\n",
       "    </tr>\n",
       "    <tr>\n",
       "      <td>2019-10-21</td>\n",
       "      <td>2019-10-21 20:07:30</td>\n",
       "      <td>2019-10-21 19:52:30</td>\n",
       "      <td>900.00</td>\n",
       "      <td>15.00</td>\n",
       "    </tr>\n",
       "    <tr>\n",
       "      <td>2019-10-22</td>\n",
       "      <td>2019-10-22 11:30:52</td>\n",
       "      <td>2019-10-22 11:18:14</td>\n",
       "      <td>758.00</td>\n",
       "      <td>12.63</td>\n",
       "    </tr>\n",
       "    <tr>\n",
       "      <td>00463033-5717-4bf1-91b4-09183923b9df</td>\n",
       "      <td>2019-11-01</td>\n",
       "      <td>2019-11-01 14:19:17</td>\n",
       "      <td>2019-11-01 13:54:35</td>\n",
       "      <td>1,482.00</td>\n",
       "      <td>24.70</td>\n",
       "    </tr>\n",
       "    <tr>\n",
       "      <td>...</td>\n",
       "      <td>...</td>\n",
       "      <td>...</td>\n",
       "      <td>...</td>\n",
       "      <td>...</td>\n",
       "      <td>...</td>\n",
       "    </tr>\n",
       "    <tr>\n",
       "      <td rowspan=\"2\" valign=\"top\">ff82c7c7-16d6-44b1-833b-a217747b0b02</td>\n",
       "      <td>2019-10-28</td>\n",
       "      <td>2019-10-28 23:06:18</td>\n",
       "      <td>2019-10-28 22:25:48</td>\n",
       "      <td>2,430.00</td>\n",
       "      <td>40.50</td>\n",
       "    </tr>\n",
       "    <tr>\n",
       "      <td>2019-10-30</td>\n",
       "      <td>2019-10-30 20:59:41</td>\n",
       "      <td>2019-10-30 19:38:17</td>\n",
       "      <td>4,884.00</td>\n",
       "      <td>81.40</td>\n",
       "    </tr>\n",
       "    <tr>\n",
       "      <td rowspan=\"2\" valign=\"top\">ffab8d8a-30bb-424a-a3ab-0b63ebbf7b07</td>\n",
       "      <td>2019-10-13</td>\n",
       "      <td>2019-10-13 16:40:50</td>\n",
       "      <td>2019-10-13 16:11:27</td>\n",
       "      <td>1,763.00</td>\n",
       "      <td>29.38</td>\n",
       "    </tr>\n",
       "    <tr>\n",
       "      <td>2019-10-26</td>\n",
       "      <td>2019-10-26 19:53:51</td>\n",
       "      <td>2019-10-26 19:33:49</td>\n",
       "      <td>1,202.00</td>\n",
       "      <td>20.03</td>\n",
       "    </tr>\n",
       "    <tr>\n",
       "      <td>ffcf50d9-293c-4254-8243-4890b030b238</td>\n",
       "      <td>2019-10-23</td>\n",
       "      <td>2019-10-23 11:52:55</td>\n",
       "      <td>2019-10-23 11:51:35</td>\n",
       "      <td>80.00</td>\n",
       "      <td>1.33</td>\n",
       "    </tr>\n",
       "  </tbody>\n",
       "</table>\n",
       "<p>5342 rows × 4 columns</p>\n",
       "</div>"
      ],
      "text/plain": [
       "                                                 last_visit_in_date  \\\n",
       "user_id                              event_date                       \n",
       "0001b1d5-b74a-4cbf-aeb0-7df5947bf349 2019-10-07 2019-10-07 13:49:41   \n",
       "                                     2019-10-09 2019-10-09 18:42:22   \n",
       "                                     2019-10-21 2019-10-21 20:07:30   \n",
       "                                     2019-10-22 2019-10-22 11:30:52   \n",
       "00463033-5717-4bf1-91b4-09183923b9df 2019-11-01 2019-11-01 14:19:17   \n",
       "...                                                             ...   \n",
       "ff82c7c7-16d6-44b1-833b-a217747b0b02 2019-10-28 2019-10-28 23:06:18   \n",
       "                                     2019-10-30 2019-10-30 20:59:41   \n",
       "ffab8d8a-30bb-424a-a3ab-0b63ebbf7b07 2019-10-13 2019-10-13 16:40:50   \n",
       "                                     2019-10-26 2019-10-26 19:53:51   \n",
       "ffcf50d9-293c-4254-8243-4890b030b238 2019-10-23 2019-10-23 11:52:55   \n",
       "\n",
       "                                                first_visit_in_date  \\\n",
       "user_id                              event_date                       \n",
       "0001b1d5-b74a-4cbf-aeb0-7df5947bf349 2019-10-07 2019-10-07 13:39:45   \n",
       "                                     2019-10-09 2019-10-09 18:33:55   \n",
       "                                     2019-10-21 2019-10-21 19:52:30   \n",
       "                                     2019-10-22 2019-10-22 11:18:14   \n",
       "00463033-5717-4bf1-91b4-09183923b9df 2019-11-01 2019-11-01 13:54:35   \n",
       "...                                                             ...   \n",
       "ff82c7c7-16d6-44b1-833b-a217747b0b02 2019-10-28 2019-10-28 22:25:48   \n",
       "                                     2019-10-30 2019-10-30 19:38:17   \n",
       "ffab8d8a-30bb-424a-a3ab-0b63ebbf7b07 2019-10-13 2019-10-13 16:11:27   \n",
       "                                     2019-10-26 2019-10-26 19:33:49   \n",
       "ffcf50d9-293c-4254-8243-4890b030b238 2019-10-23 2019-10-23 11:51:35   \n",
       "\n",
       "                                                 delta_time  \\\n",
       "user_id                              event_date               \n",
       "0001b1d5-b74a-4cbf-aeb0-7df5947bf349 2019-10-07      596.00   \n",
       "                                     2019-10-09      507.00   \n",
       "                                     2019-10-21      900.00   \n",
       "                                     2019-10-22      758.00   \n",
       "00463033-5717-4bf1-91b4-09183923b9df 2019-11-01    1,482.00   \n",
       "...                                                     ...   \n",
       "ff82c7c7-16d6-44b1-833b-a217747b0b02 2019-10-28    2,430.00   \n",
       "                                     2019-10-30    4,884.00   \n",
       "ffab8d8a-30bb-424a-a3ab-0b63ebbf7b07 2019-10-13    1,763.00   \n",
       "                                     2019-10-26    1,202.00   \n",
       "ffcf50d9-293c-4254-8243-4890b030b238 2019-10-23       80.00   \n",
       "\n",
       "                                                 delta_time_minutes  \n",
       "user_id                              event_date                      \n",
       "0001b1d5-b74a-4cbf-aeb0-7df5947bf349 2019-10-07                9.93  \n",
       "                                     2019-10-09                8.45  \n",
       "                                     2019-10-21               15.00  \n",
       "                                     2019-10-22               12.63  \n",
       "00463033-5717-4bf1-91b4-09183923b9df 2019-11-01               24.70  \n",
       "...                                                             ...  \n",
       "ff82c7c7-16d6-44b1-833b-a217747b0b02 2019-10-28               40.50  \n",
       "                                     2019-10-30               81.40  \n",
       "ffab8d8a-30bb-424a-a3ab-0b63ebbf7b07 2019-10-13               29.38  \n",
       "                                     2019-10-26               20.03  \n",
       "ffcf50d9-293c-4254-8243-4890b030b238 2019-10-23                1.33  \n",
       "\n",
       "[5342 rows x 4 columns]"
      ]
     },
     "metadata": {},
     "output_type": "display_data"
    },
    {
     "name": "stdout",
     "output_type": "stream",
     "text": [
      "=============================================\n",
      "\n",
      "\u001b[1mСреднее время проводимое пользователем из нецелевой группы в приложении в день, мин:\u001b[0m 64.05\n",
      "\n",
      "\u001b[1mКоличество сессий пользователей из нецелевой группы:\u001b[0m 5342\n",
      "\n"
     ]
    },
    {
     "data": {
      "image/png": "[encoded data removed]",
      "text/plain": [
       "<Figure size 1080x576 with 1 Axes>"
      ]
     },
     "metadata": {
      "needs_background": "light"
     },
     "output_type": "display_data"
    }
   ],
   "source": [
    "# вычленяем нужные нам даты визита в день на пользователя целевой группы\n",
    "time_in_program_gud = gud_df.groupby(['user_id', 'event_date']).agg({'event_time': ['max','min']})\n",
    "time_in_program_gud.columns = ['last_visit_in_date','first_visit_in_date']\n",
    "\n",
    "#высчитаем время по дням целевой группы\n",
    "time_in_program_gud['delta_time'] = time_in_program_gud['last_visit_in_date'] - time_in_program_gud['first_visit_in_date']\n",
    "time_in_program_gud['delta_time'] = time_in_program_gud['delta_time'].astype('timedelta64[s]')\n",
    "time_in_program_gud['delta_time_minutes'] =time_in_program_gud['delta_time']/60\n",
    "\n",
    "#проверим результат для целевой группы\n",
    "print('\\033[1m' + 'Время в день проводимое пользователями целевой группы в приложении' + '\\033[0m')\n",
    "display(time_in_program_gud)\n",
    "print('=' * 45)\n",
    "print()\n",
    "print('\\033[1m' + 'Среднее время проводимое пользователем из целевой группы в приложении в день, мин:' + '\\033[0m',time_in_program_gud['delta_time_minutes'].mean().round(2))\n",
    "print()\n",
    "print('\\033[1m' + 'Количество сессий пользователей из целевой группы:' + '\\033[0m',time_in_program_gud['delta_time_minutes'].count())\n",
    "print()\n",
    "\n",
    "# вычленяем нужные нам даты визита в день на пользователя нецелевой группы\n",
    "time_in_program_bad = bad_df.groupby(['user_id', 'event_date']).agg({'event_time': ['max','min']})\n",
    "time_in_program_bad.columns = ['last_visit_in_date','first_visit_in_date']\n",
    "\n",
    "#высчитаем время по дням нецелевой группы\n",
    "time_in_program_bad['delta_time'] = time_in_program_bad['last_visit_in_date'] - time_in_program_bad['first_visit_in_date']\n",
    "time_in_program_bad['delta_time'] = time_in_program_bad['delta_time'].astype('timedelta64[s]')\n",
    "time_in_program_bad['delta_time_minutes'] =time_in_program_bad['delta_time']/60\n",
    "\n",
    "#проверим результат для нецелевой группы\n",
    "\n",
    "print('\\033[1m' + 'Время в день проводимое пользователями нецелевой группы в приложении' + '\\033[0m')\n",
    "display(time_in_program_bad)\n",
    "print('=' * 45)\n",
    "print()\n",
    "print('\\033[1m' + 'Среднее время проводимое пользователем из нецелевой группы в приложении в день, мин:' + '\\033[0m',time_in_program_bad['delta_time_minutes'].mean().round(2))\n",
    "print()\n",
    "print('\\033[1m' + 'Количество сессий пользователей из нецелевой группы:' + '\\033[0m',time_in_program_bad['delta_time_minutes'].count())\n",
    "print()\n",
    "\n",
    "#построим совмещённый график\n",
    "plt.hist(time_in_program_gud['delta_time'],bins=200,alpha=0.7, label='Целевая группа')\n",
    "plt.hist(time_in_program_bad['delta_time'],bins=200,alpha=0.4, label='Нецелевая группа')\n",
    "plt.title('Средняя продолжительность времени проводимое разными группами в приложении в день', fontsize=14)\n",
    "plt.xlabel('с')\n",
    "plt.ylabel('дневные визиты')\n",
    "plt.legend(loc='upper right')\n",
    "plt.xlim(-10, 10000)\n",
    "plt.show()"
   ]
  },
  {
   "cell_type": "markdown",
   "metadata": {},
   "source": [
    "### Промежуточные выводы"
   ]
  },
  {
   "cell_type": "markdown",
   "metadata": {},
   "source": [
    "В среднем пользователи проводят в нашем приложении около 83 минут в день. Стоит также отметить что разброс сессий  по времени очень большой - большинство сессий пользователей короткие, но некотрые сессии исключительно длинные. \n",
    "Примечательно, что целевая группа проводит вдвое больше времени в приложении, нежели нецелевая (124 минуты против 64 минут) и их сессии имеют как большую частоту так и большую длительность."
   ]
  },
  {
   "cell_type": "markdown",
   "metadata": {},
   "source": [
    "### Частота действий пользователей"
   ]
  },
  {
   "cell_type": "markdown",
   "metadata": {},
   "source": [
    "Проверим частоту действий пользователей, нас интересует сколько действий в день делает пользователь. Проверим, есть ли разница в наших выделенных группах. Также посчитаем в принципе оценку пользовательской активности (DAU и WAU)"
   ]
  },
  {
   "cell_type": "code",
   "execution_count": 26,
   "metadata": {},
   "outputs": [
    {
     "data": {
      "text/html": [
       "<div>\n",
       "<style scoped>\n",
       "    .dataframe tbody tr th:only-of-type {\n",
       "        vertical-align: middle;\n",
       "    }\n",
       "\n",
       "    .dataframe tbody tr th {\n",
       "        vertical-align: top;\n",
       "    }\n",
       "\n",
       "    .dataframe thead th {\n",
       "        text-align: right;\n",
       "    }\n",
       "</style>\n",
       "<table border=\"1\" class=\"dataframe\">\n",
       "  <thead>\n",
       "    <tr style=\"text-align: right;\">\n",
       "      <th></th>\n",
       "      <th>user_id</th>\n",
       "      <th>event_name</th>\n",
       "    </tr>\n",
       "  </thead>\n",
       "  <tbody>\n",
       "    <tr>\n",
       "      <td>3397</td>\n",
       "      <td>cb36854f-570a-41f4-baa8-36680b396370</td>\n",
       "      <td>478</td>\n",
       "    </tr>\n",
       "    <tr>\n",
       "      <td>3794</td>\n",
       "      <td>e13f9f32-7ae3-4204-8d60-898db040bcfc</td>\n",
       "      <td>465</td>\n",
       "    </tr>\n",
       "    <tr>\n",
       "      <td>2629</td>\n",
       "      <td>9ce63488-758a-481a-bcb5-a02b467e1d84</td>\n",
       "      <td>407</td>\n",
       "    </tr>\n",
       "    <tr>\n",
       "      <td>615</td>\n",
       "      <td>21230dd9-2f7f-4b77-a436-43d4d10388e0</td>\n",
       "      <td>400</td>\n",
       "    </tr>\n",
       "    <tr>\n",
       "      <td>3162</td>\n",
       "      <td>be1449f6-ca45-4f94-93a7-ea4b079b8f0f</td>\n",
       "      <td>397</td>\n",
       "    </tr>\n",
       "    <tr>\n",
       "      <td>...</td>\n",
       "      <td>...</td>\n",
       "      <td>...</td>\n",
       "    </tr>\n",
       "    <tr>\n",
       "      <td>1436</td>\n",
       "      <td>55f7dc86-a03b-4cff-adc6-61a23d4ab680</td>\n",
       "      <td>1</td>\n",
       "    </tr>\n",
       "    <tr>\n",
       "      <td>2139</td>\n",
       "      <td>800920e6-c654-434c-966e-8e3ebcee0d38</td>\n",
       "      <td>1</td>\n",
       "    </tr>\n",
       "    <tr>\n",
       "      <td>3006</td>\n",
       "      <td>b3aa5ec3-6e23-4fcf-bdcc-c0527228fd47</td>\n",
       "      <td>1</td>\n",
       "    </tr>\n",
       "    <tr>\n",
       "      <td>1776</td>\n",
       "      <td>6a2e7783-a775-4c7d-adf0-22d1983ce9bd</td>\n",
       "      <td>1</td>\n",
       "    </tr>\n",
       "    <tr>\n",
       "      <td>2365</td>\n",
       "      <td>8bc67b38-7e6d-4084-b354-58b30d8f1e6d</td>\n",
       "      <td>1</td>\n",
       "    </tr>\n",
       "  </tbody>\n",
       "</table>\n",
       "<p>4293 rows × 2 columns</p>\n",
       "</div>"
      ],
      "text/plain": [
       "                                   user_id  event_name\n",
       "3397  cb36854f-570a-41f4-baa8-36680b396370         478\n",
       "3794  e13f9f32-7ae3-4204-8d60-898db040bcfc         465\n",
       "2629  9ce63488-758a-481a-bcb5-a02b467e1d84         407\n",
       "615   21230dd9-2f7f-4b77-a436-43d4d10388e0         400\n",
       "3162  be1449f6-ca45-4f94-93a7-ea4b079b8f0f         397\n",
       "...                                    ...         ...\n",
       "1436  55f7dc86-a03b-4cff-adc6-61a23d4ab680           1\n",
       "2139  800920e6-c654-434c-966e-8e3ebcee0d38           1\n",
       "3006  b3aa5ec3-6e23-4fcf-bdcc-c0527228fd47           1\n",
       "1776  6a2e7783-a775-4c7d-adf0-22d1983ce9bd           1\n",
       "2365  8bc67b38-7e6d-4084-b354-58b30d8f1e6d           1\n",
       "\n",
       "[4293 rows x 2 columns]"
      ]
     },
     "metadata": {},
     "output_type": "display_data"
    },
    {
     "name": "stdout",
     "output_type": "stream",
     "text": [
      "Среднее количество действий пользователя равно 17\n"
     ]
    }
   ],
   "source": [
    "#Сделаем необходимую группировку\n",
    "df_freq = df.groupby('user_id').agg({'event_name': 'count'}).reset_index().sort_values(by='event_name', ascending=False)\n",
    "\n",
    "#проверим результат\n",
    "display(df_freq)\n",
    "\n",
    "print('Среднее количество действий пользователя равно', int(df_freq['event_name'].mean()))"
   ]
  },
  {
   "cell_type": "code",
   "execution_count": 27,
   "metadata": {},
   "outputs": [
    {
     "data": {
      "image/png": "[encoded data removed]",
      "text/plain": [
       "<Figure size 1080x576 with 1 Axes>"
      ]
     },
     "metadata": {
      "needs_background": "light"
     },
     "output_type": "display_data"
    }
   ],
   "source": [
    "#построим гистаграмму\n",
    "\n",
    "plt.title('Распределение количества действий на пользователя', fontsize=14)\n",
    "\n",
    "df_freq['event_name'].hist(bins=100)\n",
    "plt.xlabel('Действия', fontsize=12)\n",
    "plt.ylabel('Пользователи', fontsize=12)\n",
    "plt.xlim(0, 100);"
   ]
  },
  {
   "cell_type": "markdown",
   "metadata": {},
   "source": [
    "Похоже разброс между активно и неактивно ведущими себя пользователями очень большой. Но в среднем пользователи совержают небольшое количество действий."
   ]
  },
  {
   "cell_type": "code",
   "execution_count": 28,
   "metadata": {},
   "outputs": [
    {
     "data": {
      "text/html": [
       "<div>\n",
       "<style scoped>\n",
       "    .dataframe tbody tr th:only-of-type {\n",
       "        vertical-align: middle;\n",
       "    }\n",
       "\n",
       "    .dataframe tbody tr th {\n",
       "        vertical-align: top;\n",
       "    }\n",
       "\n",
       "    .dataframe thead th {\n",
       "        text-align: right;\n",
       "    }\n",
       "</style>\n",
       "<table border=\"1\" class=\"dataframe\">\n",
       "  <thead>\n",
       "    <tr style=\"text-align: right;\">\n",
       "      <th></th>\n",
       "      <th>user_id</th>\n",
       "      <th>event_name</th>\n",
       "    </tr>\n",
       "  </thead>\n",
       "  <tbody>\n",
       "    <tr>\n",
       "      <td>1450</td>\n",
       "      <td>570e1e48-5bfb-4c99-84b6-a10d9a15bf05</td>\n",
       "      <td>7</td>\n",
       "    </tr>\n",
       "    <tr>\n",
       "      <td>4136</td>\n",
       "      <td>f6f94ebe-e69a-4ae3-9fb0-312d52d35826</td>\n",
       "      <td>7</td>\n",
       "    </tr>\n",
       "    <tr>\n",
       "      <td>3794</td>\n",
       "      <td>e13f9f32-7ae3-4204-8d60-898db040bcfc</td>\n",
       "      <td>7</td>\n",
       "    </tr>\n",
       "    <tr>\n",
       "      <td>3826</td>\n",
       "      <td>e38cb669-7335-4d56-9de5-c8d5d2f13fd3</td>\n",
       "      <td>7</td>\n",
       "    </tr>\n",
       "    <tr>\n",
       "      <td>2608</td>\n",
       "      <td>9b835c74-8ede-4586-9f59-e5473aa48de2</td>\n",
       "      <td>6</td>\n",
       "    </tr>\n",
       "    <tr>\n",
       "      <td>...</td>\n",
       "      <td>...</td>\n",
       "      <td>...</td>\n",
       "    </tr>\n",
       "    <tr>\n",
       "      <td>2666</td>\n",
       "      <td>9ee29b5f-3719-4d6f-be7f-852a00744394</td>\n",
       "      <td>1</td>\n",
       "    </tr>\n",
       "    <tr>\n",
       "      <td>647</td>\n",
       "      <td>231fbaad-5be4-4e22-9003-283f89ff6358</td>\n",
       "      <td>1</td>\n",
       "    </tr>\n",
       "    <tr>\n",
       "      <td>2661</td>\n",
       "      <td>9eb3cb9b-c66e-4009-921b-ed6ad3763198</td>\n",
       "      <td>1</td>\n",
       "    </tr>\n",
       "    <tr>\n",
       "      <td>2659</td>\n",
       "      <td>9e807919-ad8c-41ea-8ee0-39a17ac888fb</td>\n",
       "      <td>1</td>\n",
       "    </tr>\n",
       "    <tr>\n",
       "      <td>2759</td>\n",
       "      <td>a48a98bb-699d-47c0-a793-03c79bb35c0d</td>\n",
       "      <td>1</td>\n",
       "    </tr>\n",
       "  </tbody>\n",
       "</table>\n",
       "<p>4293 rows × 2 columns</p>\n",
       "</div>"
      ],
      "text/plain": [
       "                                   user_id  event_name\n",
       "1450  570e1e48-5bfb-4c99-84b6-a10d9a15bf05           7\n",
       "4136  f6f94ebe-e69a-4ae3-9fb0-312d52d35826           7\n",
       "3794  e13f9f32-7ae3-4204-8d60-898db040bcfc           7\n",
       "3826  e38cb669-7335-4d56-9de5-c8d5d2f13fd3           7\n",
       "2608  9b835c74-8ede-4586-9f59-e5473aa48de2           6\n",
       "...                                    ...         ...\n",
       "2666  9ee29b5f-3719-4d6f-be7f-852a00744394           1\n",
       "647   231fbaad-5be4-4e22-9003-283f89ff6358           1\n",
       "2661  9eb3cb9b-c66e-4009-921b-ed6ad3763198           1\n",
       "2659  9e807919-ad8c-41ea-8ee0-39a17ac888fb           1\n",
       "2759  a48a98bb-699d-47c0-a793-03c79bb35c0d           1\n",
       "\n",
       "[4293 rows x 2 columns]"
      ]
     },
     "metadata": {},
     "output_type": "display_data"
    },
    {
     "name": "stdout",
     "output_type": "stream",
     "text": [
      "Среднее количество уникальных действий пользователя равно 2\n"
     ]
    }
   ],
   "source": [
    "#посчитаем частоту уникальных действий пользователей\n",
    "df_freq_unique = df.groupby('user_id').agg({'event_name': 'nunique'}).reset_index().sort_values(by='event_name', ascending=False)\n",
    "\n",
    "#проверим результат\n",
    "display(df_freq_unique)\n",
    "\n",
    "print('Среднее количество уникальных действий пользователя равно', int(df_freq_unique['event_name'].mean()))"
   ]
  },
  {
   "cell_type": "code",
   "execution_count": 29,
   "metadata": {},
   "outputs": [
    {
     "data": {
      "image/png": "[encoded data removed]",
      "text/plain": [
       "<Figure size 1080x576 with 1 Axes>"
      ]
     },
     "metadata": {
      "needs_background": "light"
     },
     "output_type": "display_data"
    }
   ],
   "source": [
    "#построим гистаграмму количества уникальных действий, что делает пользователь\n",
    "\n",
    "plt.title('Распределение количества уникальных действий на пользователя', fontsize=14)\n",
    "\n",
    "df_freq_unique['event_name'].hist(bins=100)\n",
    "plt.xlabel('Уникальные действия', fontsize=12)\n",
    "plt.ylabel('Пользователи', fontsize=12);"
   ]
  },
  {
   "cell_type": "markdown",
   "metadata": {},
   "source": [
    "А вот по уникальности действий всё странно. Похоже пользователи повторяют одни и те же действия из тех, что нам передали. С другой стороны, возможно это признак хорошего интерфейса"
   ]
  },
  {
   "cell_type": "markdown",
   "metadata": {},
   "source": [
    "Посчитаем DAU и WAU"
   ]
  },
  {
   "cell_type": "code",
   "execution_count": 30,
   "metadata": {},
   "outputs": [
    {
     "name": "stdout",
     "output_type": "stream",
     "text": [
      "Среднее значение DAU составляет: 279\n"
     ]
    },
    {
     "data": {
      "image/png": "[encoded data removed]",
      "text/plain": [
       "<Figure size 1080x576 with 1 Axes>"
      ]
     },
     "metadata": {
      "needs_background": "light"
     },
     "output_type": "display_data"
    }
   ],
   "source": [
    "#сделаем нужную выборку\n",
    "dau_shift = df.groupby('event_date').agg({'user_id': 'nunique'})\n",
    "\n",
    "#построим график изменений\n",
    "plt.plot(dau_shift, color='red')\n",
    "plt.title('Изменение DAU', fontsize=14)\n",
    "plt.xlabel('Дата')\n",
    "plt.ylabel('DAU')\n",
    "plt.grid()\n",
    "\n",
    "#посчитаем среднее\n",
    "dau_total = df.groupby('event_date').agg({'user_id': 'nunique'}).mean()\n",
    "print('Среднее значение DAU составляет:',int(dau_total)) "
   ]
  },
  {
   "cell_type": "markdown",
   "metadata": {},
   "source": [
    "DAU имеет как пики так и просадки, но в целом растет, что хорошо"
   ]
  },
  {
   "cell_type": "code",
   "execution_count": 31,
   "metadata": {},
   "outputs": [
    {
     "name": "stdout",
     "output_type": "stream",
     "text": [
      "Среднее значение WAU составляет: 1382\n"
     ]
    },
    {
     "data": {
      "image/png": "[encoded data removed]",
      "text/plain": [
       "<Figure size 1080x576 with 1 Axes>"
      ]
     },
     "metadata": {
      "needs_background": "light"
     },
     "output_type": "display_data"
    }
   ],
   "source": [
    "#сделаем нужную выборку\n",
    "wau_shift = (\n",
    "    df.groupby(['event_week'])\n",
    "    .agg({'user_id': 'nunique'})\n",
    "    )\n",
    "\n",
    "#построим график изменений\n",
    "plt.plot(wau_shift, color='blue')\n",
    "plt.title('Изменение WAU', fontsize=14)\n",
    "plt.xlabel('Неделя')\n",
    "plt.ylabel('WAU')\n",
    "plt.grid()\n",
    "\n",
    "#посчитаем среднее\n",
    "wau_total = df.groupby('event_week').agg({'user_id': 'nunique'}).mean()\n",
    "print('Среднее значение WAU составляет:',int(wau_total)) "
   ]
  },
  {
   "cell_type": "markdown",
   "metadata": {},
   "source": [
    "WAU растет, особенно интересно отметить, что на 43-й неделе видимо происходили какие-то заметные изменения. Они повлекли повышение активности и, если вспомнить рассмотренный выше retention rate оказались очень хороши для нашей целевой группы"
   ]
  },
  {
   "cell_type": "markdown",
   "metadata": {},
   "source": [
    "Проверим как меняется частота действия для целевой и нецелевой групп пользователей. Для сравнения сделаем наложение графиков"
   ]
  },
  {
   "cell_type": "code",
   "execution_count": 32,
   "metadata": {},
   "outputs": [
    {
     "name": "stdout",
     "output_type": "stream",
     "text": [
      "\u001b[1mЧастота действий пользователей целевой группы\u001b[0m\n"
     ]
    },
    {
     "data": {
      "text/html": [
       "<div>\n",
       "<style scoped>\n",
       "    .dataframe tbody tr th:only-of-type {\n",
       "        vertical-align: middle;\n",
       "    }\n",
       "\n",
       "    .dataframe tbody tr th {\n",
       "        vertical-align: top;\n",
       "    }\n",
       "\n",
       "    .dataframe thead th {\n",
       "        text-align: right;\n",
       "    }\n",
       "</style>\n",
       "<table border=\"1\" class=\"dataframe\">\n",
       "  <thead>\n",
       "    <tr style=\"text-align: right;\">\n",
       "      <th></th>\n",
       "      <th>user_id</th>\n",
       "      <th>event_name</th>\n",
       "    </tr>\n",
       "  </thead>\n",
       "  <tbody>\n",
       "    <tr>\n",
       "      <td>777</td>\n",
       "      <td>cb36854f-570a-41f4-baa8-36680b396370</td>\n",
       "      <td>478</td>\n",
       "    </tr>\n",
       "    <tr>\n",
       "      <td>856</td>\n",
       "      <td>e13f9f32-7ae3-4204-8d60-898db040bcfc</td>\n",
       "      <td>465</td>\n",
       "    </tr>\n",
       "    <tr>\n",
       "      <td>148</td>\n",
       "      <td>21230dd9-2f7f-4b77-a436-43d4d10388e0</td>\n",
       "      <td>400</td>\n",
       "    </tr>\n",
       "    <tr>\n",
       "      <td>712</td>\n",
       "      <td>be1449f6-ca45-4f94-93a7-ea4b079b8f0f</td>\n",
       "      <td>397</td>\n",
       "    </tr>\n",
       "    <tr>\n",
       "      <td>864</td>\n",
       "      <td>e38cb669-7335-4d56-9de5-c8d5d2f13fd3</td>\n",
       "      <td>362</td>\n",
       "    </tr>\n",
       "    <tr>\n",
       "      <td>...</td>\n",
       "      <td>...</td>\n",
       "      <td>...</td>\n",
       "    </tr>\n",
       "    <tr>\n",
       "      <td>434</td>\n",
       "      <td>715d38f6-0e2c-4ae6-b3e9-6e52f5634ae5</td>\n",
       "      <td>1</td>\n",
       "    </tr>\n",
       "    <tr>\n",
       "      <td>409</td>\n",
       "      <td>6a2e7783-a775-4c7d-adf0-22d1983ce9bd</td>\n",
       "      <td>1</td>\n",
       "    </tr>\n",
       "    <tr>\n",
       "      <td>362</td>\n",
       "      <td>5f2607e8-5f7e-476e-9ef4-f17a26afe6c8</td>\n",
       "      <td>1</td>\n",
       "    </tr>\n",
       "    <tr>\n",
       "      <td>878</td>\n",
       "      <td>e85710d2-a93c-4d0c-b1a2-efcbafad853d</td>\n",
       "      <td>1</td>\n",
       "    </tr>\n",
       "    <tr>\n",
       "      <td>67</td>\n",
       "      <td>0f579ce9-7646-430a-91de-1d6d93e2a4d2</td>\n",
       "      <td>1</td>\n",
       "    </tr>\n",
       "  </tbody>\n",
       "</table>\n",
       "<p>981 rows × 2 columns</p>\n",
       "</div>"
      ],
      "text/plain": [
       "                                  user_id  event_name\n",
       "777  cb36854f-570a-41f4-baa8-36680b396370         478\n",
       "856  e13f9f32-7ae3-4204-8d60-898db040bcfc         465\n",
       "148  21230dd9-2f7f-4b77-a436-43d4d10388e0         400\n",
       "712  be1449f6-ca45-4f94-93a7-ea4b079b8f0f         397\n",
       "864  e38cb669-7335-4d56-9de5-c8d5d2f13fd3         362\n",
       "..                                    ...         ...\n",
       "434  715d38f6-0e2c-4ae6-b3e9-6e52f5634ae5           1\n",
       "409  6a2e7783-a775-4c7d-adf0-22d1983ce9bd           1\n",
       "362  5f2607e8-5f7e-476e-9ef4-f17a26afe6c8           1\n",
       "878  e85710d2-a93c-4d0c-b1a2-efcbafad853d           1\n",
       "67   0f579ce9-7646-430a-91de-1d6d93e2a4d2           1\n",
       "\n",
       "[981 rows x 2 columns]"
      ]
     },
     "metadata": {},
     "output_type": "display_data"
    },
    {
     "name": "stdout",
     "output_type": "stream",
     "text": [
      "=============================================\n",
      "\n",
      "\u001b[1mСреднее количество действий пользователя целевой группы равно\u001b[0m 27\n",
      "\n",
      "\u001b[1mЧастота действий пользователей нецелевой группы\u001b[0m\n"
     ]
    },
    {
     "data": {
      "text/html": [
       "<div>\n",
       "<style scoped>\n",
       "    .dataframe tbody tr th:only-of-type {\n",
       "        vertical-align: middle;\n",
       "    }\n",
       "\n",
       "    .dataframe tbody tr th {\n",
       "        vertical-align: top;\n",
       "    }\n",
       "\n",
       "    .dataframe thead th {\n",
       "        text-align: right;\n",
       "    }\n",
       "</style>\n",
       "<table border=\"1\" class=\"dataframe\">\n",
       "  <thead>\n",
       "    <tr style=\"text-align: right;\">\n",
       "      <th></th>\n",
       "      <th>user_id</th>\n",
       "      <th>event_name</th>\n",
       "    </tr>\n",
       "  </thead>\n",
       "  <tbody>\n",
       "    <tr>\n",
       "      <td>2015</td>\n",
       "      <td>9ce63488-758a-481a-bcb5-a02b467e1d84</td>\n",
       "      <td>407</td>\n",
       "    </tr>\n",
       "    <tr>\n",
       "      <td>436</td>\n",
       "      <td>1e49028e-e90e-4b27-9467-c101d8f94156</td>\n",
       "      <td>250</td>\n",
       "    </tr>\n",
       "    <tr>\n",
       "      <td>2552</td>\n",
       "      <td>c68bdd6d-bad7-4f51-8113-302f2364387c</td>\n",
       "      <td>188</td>\n",
       "    </tr>\n",
       "    <tr>\n",
       "      <td>613</td>\n",
       "      <td>2ce6c413-30d2-4d26-8b83-0bd21bc66546</td>\n",
       "      <td>186</td>\n",
       "    </tr>\n",
       "    <tr>\n",
       "      <td>2931</td>\n",
       "      <td>e0a19ff5-468c-4c47-8dc4-bc4eb9854a96</td>\n",
       "      <td>184</td>\n",
       "    </tr>\n",
       "    <tr>\n",
       "      <td>...</td>\n",
       "      <td>...</td>\n",
       "      <td>...</td>\n",
       "    </tr>\n",
       "    <tr>\n",
       "      <td>90</td>\n",
       "      <td>07b1849e-eb60-444d-98cb-f8516ad23a74</td>\n",
       "      <td>1</td>\n",
       "    </tr>\n",
       "    <tr>\n",
       "      <td>86</td>\n",
       "      <td>0729a0c7-9e58-4ea9-92bf-33830024ee68</td>\n",
       "      <td>1</td>\n",
       "    </tr>\n",
       "    <tr>\n",
       "      <td>2917</td>\n",
       "      <td>df7e87b9-5aed-42f0-bcad-e4dabb4c902d</td>\n",
       "      <td>1</td>\n",
       "    </tr>\n",
       "    <tr>\n",
       "      <td>1393</td>\n",
       "      <td>6c85571b-8ca6-45bd-aae7-ec7226157f19</td>\n",
       "      <td>1</td>\n",
       "    </tr>\n",
       "    <tr>\n",
       "      <td>181</td>\n",
       "      <td>0dea426d-4547-47d3-9ba2-716db6ca789b</td>\n",
       "      <td>1</td>\n",
       "    </tr>\n",
       "  </tbody>\n",
       "</table>\n",
       "<p>3312 rows × 2 columns</p>\n",
       "</div>"
      ],
      "text/plain": [
       "                                   user_id  event_name\n",
       "2015  9ce63488-758a-481a-bcb5-a02b467e1d84         407\n",
       "436   1e49028e-e90e-4b27-9467-c101d8f94156         250\n",
       "2552  c68bdd6d-bad7-4f51-8113-302f2364387c         188\n",
       "613   2ce6c413-30d2-4d26-8b83-0bd21bc66546         186\n",
       "2931  e0a19ff5-468c-4c47-8dc4-bc4eb9854a96         184\n",
       "...                                    ...         ...\n",
       "90    07b1849e-eb60-444d-98cb-f8516ad23a74           1\n",
       "86    0729a0c7-9e58-4ea9-92bf-33830024ee68           1\n",
       "2917  df7e87b9-5aed-42f0-bcad-e4dabb4c902d           1\n",
       "1393  6c85571b-8ca6-45bd-aae7-ec7226157f19           1\n",
       "181   0dea426d-4547-47d3-9ba2-716db6ca789b           1\n",
       "\n",
       "[3312 rows x 2 columns]"
      ]
     },
     "metadata": {},
     "output_type": "display_data"
    },
    {
     "name": "stdout",
     "output_type": "stream",
     "text": [
      "=============================================\n",
      "\n",
      "\u001b[1mСреднее количество действий пользователя нецелевой группы равно\u001b[0m 14\n",
      "\n"
     ]
    },
    {
     "data": {
      "image/png": "[encoded data removed]",
      "text/plain": [
       "<Figure size 1080x576 with 1 Axes>"
      ]
     },
     "metadata": {
      "needs_background": "light"
     },
     "output_type": "display_data"
    }
   ],
   "source": [
    "#Сделаем необходимую группировку целевой и нецелевой группы\n",
    "df_freq_gud = gud_df.groupby('user_id').agg({'event_name': 'count'}).reset_index().sort_values(by='event_name', ascending=False)\n",
    "df_freq_bad = bad_df.groupby('user_id').agg({'event_name': 'count'}).reset_index().sort_values(by='event_name', ascending=False)\n",
    "\n",
    "#проверим результат для целевой группы\n",
    "print('\\033[1m' + 'Частота действий пользователей целевой группы' + '\\033[0m')\n",
    "display(df_freq_gud)\n",
    "print('=' * 45)\n",
    "print()\n",
    "print('\\033[1m' + 'Среднее количество действий пользователя целевой группы равно' + '\\033[0m',int(df_freq_gud['event_name'].mean()))\n",
    "print()\n",
    "\n",
    "#проверим результат для целевой группы\n",
    "print('\\033[1m' + 'Частота действий пользователей нецелевой группы' + '\\033[0m')\n",
    "display(df_freq_bad)\n",
    "print('=' * 45)\n",
    "print()\n",
    "print('\\033[1m' + 'Среднее количество действий пользователя нецелевой группы равно' + '\\033[0m',int(df_freq_bad['event_name'].mean()))\n",
    "print()\n",
    "\n",
    "\n",
    "#построим совмещённый график\n",
    "plt.hist(df_freq_gud['event_name'],bins=100,alpha=0.7, label='Целевая группа')\n",
    "plt.hist(df_freq_bad['event_name'],bins=100,alpha=0.4, label='Нецелевая группа')\n",
    "plt.title('Распределение количества действий на пользователя', fontsize=14)\n",
    "plt.legend(loc='upper right')\n",
    "plt.xlabel('Действия', fontsize=12)\n",
    "plt.ylabel('Пользователи', fontsize=12)\n",
    "plt.xlim(0, 100);\n",
    "plt.show()\n"
   ]
  },
  {
   "cell_type": "markdown",
   "metadata": {},
   "source": [
    "Целевая группа показывает значительно более активное поведение. Среднее количество действий представителей целевой группы 27, что почти в два раза (простив 14-ти) больше среднего количества действий нецелевой группы. Разница это ещё более заметна в правой части гистаграммы, среди самых актиынх пользователей, почти все они принадлежат к целевой группе"
   ]
  },
  {
   "cell_type": "code",
   "execution_count": 33,
   "metadata": {},
   "outputs": [
    {
     "name": "stdout",
     "output_type": "stream",
     "text": [
      "\u001b[1mЧастота уникальных действий пользователей целевой группы\u001b[0m\n"
     ]
    },
    {
     "data": {
      "text/html": [
       "<div>\n",
       "<style scoped>\n",
       "    .dataframe tbody tr th:only-of-type {\n",
       "        vertical-align: middle;\n",
       "    }\n",
       "\n",
       "    .dataframe tbody tr th {\n",
       "        vertical-align: top;\n",
       "    }\n",
       "\n",
       "    .dataframe thead th {\n",
       "        text-align: right;\n",
       "    }\n",
       "</style>\n",
       "<table border=\"1\" class=\"dataframe\">\n",
       "  <thead>\n",
       "    <tr style=\"text-align: right;\">\n",
       "      <th></th>\n",
       "      <th>user_id</th>\n",
       "      <th>event_name</th>\n",
       "    </tr>\n",
       "  </thead>\n",
       "  <tbody>\n",
       "    <tr>\n",
       "      <td>946</td>\n",
       "      <td>f6f94ebe-e69a-4ae3-9fb0-312d52d35826</td>\n",
       "      <td>7</td>\n",
       "    </tr>\n",
       "    <tr>\n",
       "      <td>856</td>\n",
       "      <td>e13f9f32-7ae3-4204-8d60-898db040bcfc</td>\n",
       "      <td>7</td>\n",
       "    </tr>\n",
       "    <tr>\n",
       "      <td>331</td>\n",
       "      <td>570e1e48-5bfb-4c99-84b6-a10d9a15bf05</td>\n",
       "      <td>7</td>\n",
       "    </tr>\n",
       "    <tr>\n",
       "      <td>864</td>\n",
       "      <td>e38cb669-7335-4d56-9de5-c8d5d2f13fd3</td>\n",
       "      <td>7</td>\n",
       "    </tr>\n",
       "    <tr>\n",
       "      <td>163</td>\n",
       "      <td>2552d969-dbd4-4fcb-aad2-5b2fcff28d61</td>\n",
       "      <td>6</td>\n",
       "    </tr>\n",
       "    <tr>\n",
       "      <td>...</td>\n",
       "      <td>...</td>\n",
       "      <td>...</td>\n",
       "    </tr>\n",
       "    <tr>\n",
       "      <td>766</td>\n",
       "      <td>c94a95e7-7188-44c0-854c-eadfb0a02c35</td>\n",
       "      <td>1</td>\n",
       "    </tr>\n",
       "    <tr>\n",
       "      <td>471</td>\n",
       "      <td>7bd1850a-900c-45a3-b988-b4af2faea694</td>\n",
       "      <td>1</td>\n",
       "    </tr>\n",
       "    <tr>\n",
       "      <td>133</td>\n",
       "      <td>1c8c7c78-9f15-4dee-8d88-b01d6a062a42</td>\n",
       "      <td>1</td>\n",
       "    </tr>\n",
       "    <tr>\n",
       "      <td>55</td>\n",
       "      <td>0bb1cfac-5a00-4677-88d0-d41929e5ad7c</td>\n",
       "      <td>1</td>\n",
       "    </tr>\n",
       "    <tr>\n",
       "      <td>802</td>\n",
       "      <td>d444b122-162d-4ee1-9999-9b439e7faad2</td>\n",
       "      <td>1</td>\n",
       "    </tr>\n",
       "  </tbody>\n",
       "</table>\n",
       "<p>981 rows × 2 columns</p>\n",
       "</div>"
      ],
      "text/plain": [
       "                                  user_id  event_name\n",
       "946  f6f94ebe-e69a-4ae3-9fb0-312d52d35826           7\n",
       "856  e13f9f32-7ae3-4204-8d60-898db040bcfc           7\n",
       "331  570e1e48-5bfb-4c99-84b6-a10d9a15bf05           7\n",
       "864  e38cb669-7335-4d56-9de5-c8d5d2f13fd3           7\n",
       "163  2552d969-dbd4-4fcb-aad2-5b2fcff28d61           6\n",
       "..                                    ...         ...\n",
       "766  c94a95e7-7188-44c0-854c-eadfb0a02c35           1\n",
       "471  7bd1850a-900c-45a3-b988-b4af2faea694           1\n",
       "133  1c8c7c78-9f15-4dee-8d88-b01d6a062a42           1\n",
       "55   0bb1cfac-5a00-4677-88d0-d41929e5ad7c           1\n",
       "802  d444b122-162d-4ee1-9999-9b439e7faad2           1\n",
       "\n",
       "[981 rows x 2 columns]"
      ]
     },
     "metadata": {},
     "output_type": "display_data"
    },
    {
     "name": "stdout",
     "output_type": "stream",
     "text": [
      "=============================================\n",
      "\n",
      "\u001b[1mСреднее количество уникальных действий пользователя целевой группы равно\u001b[0m 3\n",
      "\n",
      "\u001b[1mЧастота уникальных действий пользователей нецелевой группы\u001b[0m\n"
     ]
    },
    {
     "data": {
      "text/html": [
       "<div>\n",
       "<style scoped>\n",
       "    .dataframe tbody tr th:only-of-type {\n",
       "        vertical-align: middle;\n",
       "    }\n",
       "\n",
       "    .dataframe tbody tr th {\n",
       "        vertical-align: top;\n",
       "    }\n",
       "\n",
       "    .dataframe thead th {\n",
       "        text-align: right;\n",
       "    }\n",
       "</style>\n",
       "<table border=\"1\" class=\"dataframe\">\n",
       "  <thead>\n",
       "    <tr style=\"text-align: right;\">\n",
       "      <th></th>\n",
       "      <th>user_id</th>\n",
       "      <th>event_name</th>\n",
       "    </tr>\n",
       "  </thead>\n",
       "  <tbody>\n",
       "    <tr>\n",
       "      <td>353</td>\n",
       "      <td>18d7892a-c92f-4f7c-ad1b-9ca08542554c</td>\n",
       "      <td>6</td>\n",
       "    </tr>\n",
       "    <tr>\n",
       "      <td>2644</td>\n",
       "      <td>cc9d6e03-dedb-438a-be3d-f8bb4013a65f</td>\n",
       "      <td>6</td>\n",
       "    </tr>\n",
       "    <tr>\n",
       "      <td>1142</td>\n",
       "      <td>593f807c-87d3-49c7-821b-bbe93d797c22</td>\n",
       "      <td>6</td>\n",
       "    </tr>\n",
       "    <tr>\n",
       "      <td>2392</td>\n",
       "      <td>b981d7cd-2705-4dda-88ea-784de3867b3f</td>\n",
       "      <td>6</td>\n",
       "    </tr>\n",
       "    <tr>\n",
       "      <td>1232</td>\n",
       "      <td>5f99c4dc-7c7a-4883-bfcf-02431659b16f</td>\n",
       "      <td>5</td>\n",
       "    </tr>\n",
       "    <tr>\n",
       "      <td>...</td>\n",
       "      <td>...</td>\n",
       "      <td>...</td>\n",
       "    </tr>\n",
       "    <tr>\n",
       "      <td>913</td>\n",
       "      <td>455a8dab-2055-4bea-9203-a5ef9ae50e92</td>\n",
       "      <td>1</td>\n",
       "    </tr>\n",
       "    <tr>\n",
       "      <td>2255</td>\n",
       "      <td>ae886d53-f20a-44cd-a5d1-57d7836ab16c</td>\n",
       "      <td>1</td>\n",
       "    </tr>\n",
       "    <tr>\n",
       "      <td>2252</td>\n",
       "      <td>ae3d27f3-fa0b-4404-88a5-881d85a25459</td>\n",
       "      <td>1</td>\n",
       "    </tr>\n",
       "    <tr>\n",
       "      <td>917</td>\n",
       "      <td>45b1cf7b-b65d-4636-8734-6b81b4d7a3c5</td>\n",
       "      <td>1</td>\n",
       "    </tr>\n",
       "    <tr>\n",
       "      <td>771</td>\n",
       "      <td>3ada015f-e287-4d0a-bd12-5784938fe300</td>\n",
       "      <td>1</td>\n",
       "    </tr>\n",
       "  </tbody>\n",
       "</table>\n",
       "<p>3312 rows × 2 columns</p>\n",
       "</div>"
      ],
      "text/plain": [
       "                                   user_id  event_name\n",
       "353   18d7892a-c92f-4f7c-ad1b-9ca08542554c           6\n",
       "2644  cc9d6e03-dedb-438a-be3d-f8bb4013a65f           6\n",
       "1142  593f807c-87d3-49c7-821b-bbe93d797c22           6\n",
       "2392  b981d7cd-2705-4dda-88ea-784de3867b3f           6\n",
       "1232  5f99c4dc-7c7a-4883-bfcf-02431659b16f           5\n",
       "...                                    ...         ...\n",
       "913   455a8dab-2055-4bea-9203-a5ef9ae50e92           1\n",
       "2255  ae886d53-f20a-44cd-a5d1-57d7836ab16c           1\n",
       "2252  ae3d27f3-fa0b-4404-88a5-881d85a25459           1\n",
       "917   45b1cf7b-b65d-4636-8734-6b81b4d7a3c5           1\n",
       "771   3ada015f-e287-4d0a-bd12-5784938fe300           1\n",
       "\n",
       "[3312 rows x 2 columns]"
      ]
     },
     "metadata": {},
     "output_type": "display_data"
    },
    {
     "name": "stdout",
     "output_type": "stream",
     "text": [
      "=============================================\n",
      "\n",
      "\u001b[1mСреднее количество уникальных действий пользователя нецелевой группы равно\u001b[0m 1\n",
      "\n"
     ]
    },
    {
     "data": {
      "image/png": "[encoded data removed]",
      "text/plain": [
       "<Figure size 1080x576 with 1 Axes>"
      ]
     },
     "metadata": {
      "needs_background": "light"
     },
     "output_type": "display_data"
    }
   ],
   "source": [
    "\n",
    "#Сделаем необходимую группировку целевой и нецелевой группы\n",
    "df_freq_unique_gud = gud_df.groupby('user_id').agg({'event_name': 'nunique'}).reset_index().sort_values(by='event_name', ascending=False)\n",
    "df_freq_unique_bad = bad_df.groupby('user_id').agg({'event_name': 'nunique'}).reset_index().sort_values(by='event_name', ascending=False)\n",
    "\n",
    "#проверим результат для целевой группы\n",
    "print('\\033[1m' + 'Частота уникальных действий пользователей целевой группы' + '\\033[0m')\n",
    "display(df_freq_unique_gud)\n",
    "print('=' * 45)\n",
    "print()\n",
    "print('\\033[1m' + 'Среднее количество уникальных действий пользователя целевой группы равно' + '\\033[0m',int(df_freq_unique_gud['event_name'].mean()))\n",
    "print()\n",
    "\n",
    "#проверим результат для целевой группы\n",
    "print('\\033[1m' + 'Частота уникальных действий пользователей нецелевой группы' + '\\033[0m')\n",
    "display(df_freq_unique_bad)\n",
    "print('=' * 45)\n",
    "print()\n",
    "print('\\033[1m' + 'Среднее количество уникальных действий пользователя нецелевой группы равно' + '\\033[0m',int(df_freq_unique_bad['event_name'].mean()))\n",
    "print()\n",
    "\n",
    "\n",
    "#построим совмещённый график\n",
    "plt.hist(df_freq_unique_gud['event_name'],bins=7,alpha=0.7, label='Целевая группа')\n",
    "plt.hist(df_freq_unique_bad['event_name'],bins=7,alpha=0.4, label='Нецелевая группа')\n",
    "plt.title('Распределение частоты уникальных действий на пользователя', fontsize=14)\n",
    "plt.legend(loc='upper right')\n",
    "plt.xlabel('Уникальные действия', fontsize=12)\n",
    "plt.ylabel('Пользователи', fontsize=12)\n",
    "plt.xlim(1, 7);\n",
    "plt.show()\n"
   ]
  },
  {
   "cell_type": "markdown",
   "metadata": {},
   "source": [
    "Что касается разнообразия действий в приложении, то здесь целевая группа ещё более заметна своей активностью. Похоже, что большинство пользователей нецелевой группы делают одно действие. Затем похоже приложение им не нравится и они его стирают. Возможно, если предпринять больше действий на удержание пользователей, то наша целевая группа вырастет."
   ]
  },
  {
   "cell_type": "code",
   "execution_count": 34,
   "metadata": {},
   "outputs": [
    {
     "name": "stdout",
     "output_type": "stream",
     "text": [
      "Среднее значение DAU целевой группы составляет: 88\n",
      "Среднее значение DAU нецелевой группы составляет: 190\n"
     ]
    },
    {
     "data": {
      "image/png": "[encoded data removed]",
      "text/plain": [
       "<Figure size 1080x576 with 1 Axes>"
      ]
     },
     "metadata": {
      "needs_background": "light"
     },
     "output_type": "display_data"
    }
   ],
   "source": [
    "\n",
    "#сделаем нужную выборку DAU целевой и нецелевой группы\n",
    "dau_shift_gud = gud_df.groupby('event_date').agg({'user_id': 'nunique'})\n",
    "dau_shift_bad = bad_df.groupby('event_date').agg({'user_id': 'nunique'})\n",
    "\n",
    "#посчитаем среднее для обеих групп\n",
    "dau_total_gud = gud_df.groupby('event_date').agg({'user_id': 'nunique'}).mean()\n",
    "print('Среднее значение DAU целевой группы составляет:',int(dau_total_gud)) \n",
    "\n",
    "dau_total_bad = bad_df.groupby('event_date').agg({'user_id': 'nunique'}).mean()\n",
    "print('Среднее значение DAU нецелевой группы составляет:',int(dau_total_bad)) \n",
    "\n",
    "\n",
    "\n",
    "#построим совмещённый график изменений\n",
    "plt.plot(dau_shift_gud, color='red', label='Целевая группа')\n",
    "plt.plot(dau_shift_bad, color='blue', label='Нецелевая группа')\n",
    "plt.title('Изменение DAU', fontsize=14)\n",
    "plt.legend(loc='upper right')\n",
    "plt.xlabel('Дата')\n",
    "plt.ylabel('DAU')\n",
    "plt.grid()"
   ]
  },
  {
   "cell_type": "markdown",
   "metadata": {},
   "source": [
    "При сравнении DAU  я вижу устойчивые рост показателя. Видно что есть два провала в обоих группах и один пик нецелевой группы ( возможно это отражение неправильно настроенной рекламной кампании). "
   ]
  },
  {
   "cell_type": "code",
   "execution_count": 35,
   "metadata": {},
   "outputs": [
    {
     "name": "stdout",
     "output_type": "stream",
     "text": [
      "Среднее значение WAU целевой группы составляет: 355\n",
      "Среднее значение WAU нецелевой группы составляет: 1027\n"
     ]
    },
    {
     "data": {
      "image/png": "[encoded data removed]",
      "text/plain": [
       "<Figure size 1080x576 with 1 Axes>"
      ]
     },
     "metadata": {
      "needs_background": "light"
     },
     "output_type": "display_data"
    }
   ],
   "source": [
    "\n",
    "#сделаем нужную выборку WAU целевой и нецелевой группы\n",
    "wau_shift_gud = gud_df.groupby('event_week').agg({'user_id': 'nunique'})\n",
    "wau_shift_bad = bad_df.groupby('event_week').agg({'user_id': 'nunique'})\n",
    "\n",
    "#посчитаем среднее для обеих групп\n",
    "wau_total_gud = gud_df.groupby('event_week').agg({'user_id': 'nunique'}).mean()\n",
    "print('Среднее значение WAU целевой группы составляет:',int(wau_total_gud)) \n",
    "\n",
    "wau_total_bad = bad_df.groupby('event_week').agg({'user_id': 'nunique'}).mean()\n",
    "print('Среднее значение WAU нецелевой группы составляет:',int(wau_total_bad)) \n",
    "\n",
    "\n",
    "\n",
    "#построим совмещённый график изменений\n",
    "plt.plot(wau_shift_gud, color='red', label='Целевая группа')\n",
    "plt.plot(wau_shift_bad, color='blue', label='Нецелевая группа')\n",
    "plt.title('Изменение WAU', fontsize=14)\n",
    "plt.legend(loc='upper right')\n",
    "plt.xlabel('Дата')\n",
    "plt.ylabel('WAU')\n",
    "plt.grid()"
   ]
  },
  {
   "cell_type": "markdown",
   "metadata": {},
   "source": [
    "Виден устойчивый рост WAU. Особенно интересно посмотреть третью неделю. Если вспомнить рассмотренный выше retention rate то действия, что делали маркетологи нашего приложения оказались очень хороши для нашей целевой группы"
   ]
  },
  {
   "cell_type": "markdown",
   "metadata": {},
   "source": [
    "### Промежуточные выводы"
   ]
  },
  {
   "cell_type": "markdown",
   "metadata": {},
   "source": [
    "Целевая группа демонстрирует явно отличные от нецелевой группы показатели - пользователи целевой группы гораздо более активны (27 действий против 14 в среднем) из пятерки самых активных пользователей только один из нецелевой группы. Количество уникальных действий у целевой группы так же больше."
   ]
  },
  {
   "cell_type": "markdown",
   "metadata": {},
   "source": [
    "### Конверсия"
   ]
  },
  {
   "cell_type": "markdown",
   "metadata": {},
   "source": [
    "К сожалению у нас нет точного пути пользователя. Можно предположить, что единственным путем примерного понимания конверсии, будет только отношение того или иного действия к факту входа в приложению поэтому мы сделаем предварительные расчеты, сведем их в одну таблицу и сделаем свои предположения по воронке и конверсии:\n",
    "\n",
    "1. Подсчитаем сколько и каких действий совершили пользователи. Расположим события в порядке в котором двигалось большее количество пользователей.\n",
    "2. Посчитаем сколько раз делал то или иное уникальное действие каждый пользователь в среднем\n",
    "3. Подсчитаем какой процент всех уникальных пользователей делали то или иное действие\n",
    "4. Отсортируем события по тому, сколько уникальных пользователей их делало. Предположим, что это даст нам примерное понимание воронки\n",
    "5. Попробуем предположить процентное изменение на каждом шаге предполагаемой воронки\n"
   ]
  },
  {
   "cell_type": "code",
   "execution_count": 36,
   "metadata": {},
   "outputs": [
    {
     "name": "stdout",
     "output_type": "stream",
     "text": [
      "\u001b[1mПредполагаемая воронка по уникальным пользователям\u001b[0m\n"
     ]
    },
    {
     "data": {
      "text/html": [
       "<div>\n",
       "<style scoped>\n",
       "    .dataframe tbody tr th:only-of-type {\n",
       "        vertical-align: middle;\n",
       "    }\n",
       "\n",
       "    .dataframe tbody tr th {\n",
       "        vertical-align: top;\n",
       "    }\n",
       "\n",
       "    .dataframe thead th {\n",
       "        text-align: right;\n",
       "    }\n",
       "</style>\n",
       "<table border=\"1\" class=\"dataframe\">\n",
       "  <thead>\n",
       "    <tr style=\"text-align: right;\">\n",
       "      <th></th>\n",
       "      <th>event_name</th>\n",
       "      <th>nmb_events</th>\n",
       "      <th>nmb_uniq_users</th>\n",
       "      <th>clicks_per_user</th>\n",
       "      <th>pct_from_full_users</th>\n",
       "      <th>pct_users_change</th>\n",
       "    </tr>\n",
       "  </thead>\n",
       "  <tbody>\n",
       "    <tr>\n",
       "      <td>8</td>\n",
       "      <td>tips_show</td>\n",
       "      <td>40055</td>\n",
       "      <td>2801</td>\n",
       "      <td>14.00</td>\n",
       "      <td>0.65</td>\n",
       "      <td>nan</td>\n",
       "    </tr>\n",
       "    <tr>\n",
       "      <td>6</td>\n",
       "      <td>search</td>\n",
       "      <td>6784</td>\n",
       "      <td>1666</td>\n",
       "      <td>4.00</td>\n",
       "      <td>0.39</td>\n",
       "      <td>0.59</td>\n",
       "    </tr>\n",
       "    <tr>\n",
       "      <td>4</td>\n",
       "      <td>map</td>\n",
       "      <td>3881</td>\n",
       "      <td>1456</td>\n",
       "      <td>3.00</td>\n",
       "      <td>0.34</td>\n",
       "      <td>0.87</td>\n",
       "    </tr>\n",
       "    <tr>\n",
       "      <td>5</td>\n",
       "      <td>photos_show</td>\n",
       "      <td>10012</td>\n",
       "      <td>1095</td>\n",
       "      <td>9.00</td>\n",
       "      <td>0.26</td>\n",
       "      <td>0.75</td>\n",
       "    </tr>\n",
       "    <tr>\n",
       "      <td>2</td>\n",
       "      <td>contacts_show</td>\n",
       "      <td>4529</td>\n",
       "      <td>981</td>\n",
       "      <td>5.00</td>\n",
       "      <td>0.23</td>\n",
       "      <td>0.90</td>\n",
       "    </tr>\n",
       "    <tr>\n",
       "      <td>0</td>\n",
       "      <td>advert_open</td>\n",
       "      <td>6164</td>\n",
       "      <td>751</td>\n",
       "      <td>8.00</td>\n",
       "      <td>0.17</td>\n",
       "      <td>0.77</td>\n",
       "    </tr>\n",
       "    <tr>\n",
       "      <td>3</td>\n",
       "      <td>favorites_add</td>\n",
       "      <td>1417</td>\n",
       "      <td>351</td>\n",
       "      <td>4.00</td>\n",
       "      <td>0.08</td>\n",
       "      <td>0.47</td>\n",
       "    </tr>\n",
       "    <tr>\n",
       "      <td>7</td>\n",
       "      <td>tips_click</td>\n",
       "      <td>814</td>\n",
       "      <td>322</td>\n",
       "      <td>3.00</td>\n",
       "      <td>0.08</td>\n",
       "      <td>0.92</td>\n",
       "    </tr>\n",
       "    <tr>\n",
       "      <td>1</td>\n",
       "      <td>contacts_call</td>\n",
       "      <td>541</td>\n",
       "      <td>213</td>\n",
       "      <td>3.00</td>\n",
       "      <td>0.05</td>\n",
       "      <td>0.66</td>\n",
       "    </tr>\n",
       "  </tbody>\n",
       "</table>\n",
       "</div>"
      ],
      "text/plain": [
       "      event_name  nmb_events  nmb_uniq_users  clicks_per_user  \\\n",
       "8      tips_show       40055            2801            14.00   \n",
       "6         search        6784            1666             4.00   \n",
       "4            map        3881            1456             3.00   \n",
       "5    photos_show       10012            1095             9.00   \n",
       "2  contacts_show        4529             981             5.00   \n",
       "0    advert_open        6164             751             8.00   \n",
       "3  favorites_add        1417             351             4.00   \n",
       "7     tips_click         814             322             3.00   \n",
       "1  contacts_call         541             213             3.00   \n",
       "\n",
       "   pct_from_full_users  pct_users_change  \n",
       "8                 0.65               nan  \n",
       "6                 0.39              0.59  \n",
       "4                 0.34              0.87  \n",
       "5                 0.26              0.75  \n",
       "2                 0.23              0.90  \n",
       "0                 0.17              0.77  \n",
       "3                 0.08              0.47  \n",
       "7                 0.08              0.92  \n",
       "1                 0.05              0.66  "
      ]
     },
     "metadata": {},
     "output_type": "display_data"
    }
   ],
   "source": [
    "#сведем в одну таблицу данные для анализа конверсии\n",
    "\n",
    "#сделаем необходимую начальную группировку проследим какие действия более частые.\n",
    "df_nmbr_users = df.groupby('event_name').agg({'user_id': ['count', 'nunique']}).reset_index()\n",
    "\n",
    "#переименуем колонки для удобства анализа\n",
    "df_nmbr_users.columns = ['event_name', 'nmb_events', 'nmb_uniq_users']\n",
    "\n",
    "# Посчитаем сколько раз делал то или иное уникальное действие каждый пользователь в среднем\n",
    "df_nmbr_users['clicks_per_user'] = (df_nmbr_users['nmb_events'] / df_nmbr_users['nmb_uniq_users']).round(0)\n",
    "\n",
    "# Подсчитаем какой процент всех уникальных пользователей делали то или иное действие\n",
    "df_nmbr_users['pct_from_full_users'] = (df_nmbr_users['nmb_uniq_users'] / df['user_id'].unique().shape[0])\n",
    "\n",
    "# Отсортируем события по тому, сколько уникальных пользователей их делало. Предположим\n",
    "# что даст нам примерное понимание воронки\n",
    "df_nmbr_users = df_nmbr_users.sort_values(by='nmb_uniq_users', ascending=False)\n",
    "\n",
    "# Посчитаем процентное изменение на каждом шаге предполагаемой воронки\n",
    "df_nmbr_users['pct_users_change'] = 1 + df_nmbr_users['nmb_uniq_users'].pct_change()\n",
    "\n",
    "# Выведем результат\n",
    "print('\\033[1m' + 'Предполагаемая воронка по уникальным пользователям' + '\\033[0m')\n",
    "display(df_nmbr_users)"
   ]
  },
  {
   "cell_type": "code",
   "execution_count": 37,
   "metadata": {},
   "outputs": [
    {
     "name": "stdout",
     "output_type": "stream",
     "text": [
      "\u001b[1mПредполагаемая воронка по уникальным пользователям\u001b[0m\n"
     ]
    },
    {
     "data": {
      "text/html": [
       "<div>\n",
       "<style scoped>\n",
       "    .dataframe tbody tr th:only-of-type {\n",
       "        vertical-align: middle;\n",
       "    }\n",
       "\n",
       "    .dataframe tbody tr th {\n",
       "        vertical-align: top;\n",
       "    }\n",
       "\n",
       "    .dataframe thead th {\n",
       "        text-align: right;\n",
       "    }\n",
       "</style>\n",
       "<table border=\"1\" class=\"dataframe\">\n",
       "  <thead>\n",
       "    <tr style=\"text-align: right;\">\n",
       "      <th></th>\n",
       "      <th>event_name</th>\n",
       "      <th>nmb_events</th>\n",
       "      <th>nmb_uniq_users</th>\n",
       "      <th>clicks_per_user</th>\n",
       "      <th>pct_from_full_users</th>\n",
       "      <th>pct_users_change</th>\n",
       "    </tr>\n",
       "  </thead>\n",
       "  <tbody>\n",
       "    <tr>\n",
       "      <td>8</td>\n",
       "      <td>tips_show</td>\n",
       "      <td>40055</td>\n",
       "      <td>2801</td>\n",
       "      <td>14.00</td>\n",
       "      <td>0.65</td>\n",
       "      <td>nan</td>\n",
       "    </tr>\n",
       "    <tr>\n",
       "      <td>6</td>\n",
       "      <td>search</td>\n",
       "      <td>6784</td>\n",
       "      <td>1666</td>\n",
       "      <td>4.00</td>\n",
       "      <td>0.39</td>\n",
       "      <td>0.59</td>\n",
       "    </tr>\n",
       "    <tr>\n",
       "      <td>4</td>\n",
       "      <td>map</td>\n",
       "      <td>3881</td>\n",
       "      <td>1456</td>\n",
       "      <td>3.00</td>\n",
       "      <td>0.34</td>\n",
       "      <td>0.87</td>\n",
       "    </tr>\n",
       "    <tr>\n",
       "      <td>5</td>\n",
       "      <td>photos_show</td>\n",
       "      <td>10012</td>\n",
       "      <td>1095</td>\n",
       "      <td>9.00</td>\n",
       "      <td>0.26</td>\n",
       "      <td>0.75</td>\n",
       "    </tr>\n",
       "    <tr>\n",
       "      <td>2</td>\n",
       "      <td>contacts_show</td>\n",
       "      <td>4529</td>\n",
       "      <td>981</td>\n",
       "      <td>5.00</td>\n",
       "      <td>0.23</td>\n",
       "      <td>0.90</td>\n",
       "    </tr>\n",
       "    <tr>\n",
       "      <td>0</td>\n",
       "      <td>advert_open</td>\n",
       "      <td>6164</td>\n",
       "      <td>751</td>\n",
       "      <td>8.00</td>\n",
       "      <td>0.17</td>\n",
       "      <td>0.77</td>\n",
       "    </tr>\n",
       "    <tr>\n",
       "      <td>3</td>\n",
       "      <td>favorites_add</td>\n",
       "      <td>1417</td>\n",
       "      <td>351</td>\n",
       "      <td>4.00</td>\n",
       "      <td>0.08</td>\n",
       "      <td>0.47</td>\n",
       "    </tr>\n",
       "    <tr>\n",
       "      <td>7</td>\n",
       "      <td>tips_click</td>\n",
       "      <td>814</td>\n",
       "      <td>322</td>\n",
       "      <td>3.00</td>\n",
       "      <td>0.08</td>\n",
       "      <td>0.92</td>\n",
       "    </tr>\n",
       "    <tr>\n",
       "      <td>1</td>\n",
       "      <td>contacts_call</td>\n",
       "      <td>541</td>\n",
       "      <td>213</td>\n",
       "      <td>3.00</td>\n",
       "      <td>0.05</td>\n",
       "      <td>0.66</td>\n",
       "    </tr>\n",
       "  </tbody>\n",
       "</table>\n",
       "</div>"
      ],
      "text/plain": [
       "      event_name  nmb_events  nmb_uniq_users  clicks_per_user  \\\n",
       "8      tips_show       40055            2801            14.00   \n",
       "6         search        6784            1666             4.00   \n",
       "4            map        3881            1456             3.00   \n",
       "5    photos_show       10012            1095             9.00   \n",
       "2  contacts_show        4529             981             5.00   \n",
       "0    advert_open        6164             751             8.00   \n",
       "3  favorites_add        1417             351             4.00   \n",
       "7     tips_click         814             322             3.00   \n",
       "1  contacts_call         541             213             3.00   \n",
       "\n",
       "   pct_from_full_users  pct_users_change  \n",
       "8                 0.65               nan  \n",
       "6                 0.39              0.59  \n",
       "4                 0.34              0.87  \n",
       "5                 0.26              0.75  \n",
       "2                 0.23              0.90  \n",
       "0                 0.17              0.77  \n",
       "3                 0.08              0.47  \n",
       "7                 0.08              0.92  \n",
       "1                 0.05              0.66  "
      ]
     },
     "metadata": {},
     "output_type": "display_data"
    }
   ],
   "source": [
    "#сведем в одну таблицу данные для анализа конверсии\n",
    "\n",
    "test_con = df.query\n",
    "\n",
    "#сделаем необходимую начальную группировку проследим какие действия более частые.\n",
    "df_nmbr_users = df.groupby('event_name').agg({'user_id': ['count', 'nunique']}).reset_index()\n",
    "\n",
    "#переименуем колонки для удобства анализа\n",
    "df_nmbr_users.columns = ['event_name', 'nmb_events', 'nmb_uniq_users']\n",
    "\n",
    "# Посчитаем сколько раз делал то или иное уникальное действие каждый пользователь в среднем\n",
    "df_nmbr_users['clicks_per_user'] = (df_nmbr_users['nmb_events'] / df_nmbr_users['nmb_uniq_users']).round(0)\n",
    "\n",
    "# Подсчитаем какой процент всех уникальных пользователей делали то или иное действие\n",
    "df_nmbr_users['pct_from_full_users'] = (df_nmbr_users['nmb_uniq_users'] / df['user_id'].unique().shape[0])\n",
    "\n",
    "# Отсортируем события по тому, сколько уникальных пользователей их делало. Предположим\n",
    "# что даст нам примерное понимание воронки\n",
    "df_nmbr_users = df_nmbr_users.sort_values(by='nmb_uniq_users', ascending=False)\n",
    "\n",
    "# Посчитаем процентное изменение на каждом шаге предполагаемой воронки\n",
    "df_nmbr_users['pct_users_change'] = 1 + df_nmbr_users['nmb_uniq_users'].pct_change()\n",
    "\n",
    "# Подсчитаем какой процент всех уникальных пользователей делали то или иное действие\n",
    "df_nmbr_users['pct_from_full_users'] = (df_nmbr_users['nmb_uniq_users'] / df['user_id'].unique().shape[0])\n",
    "\n",
    "# Выведем результат\n",
    "print('\\033[1m' + 'Предполагаемая воронка по уникальным пользователям' + '\\033[0m')\n",
    "display(df_nmbr_users)"
   ]
  },
  {
   "cell_type": "markdown",
   "metadata": {},
   "source": [
    "Если судить по получившейся предварительной воронке, то у нас нет четкого пути пользователя. Из 4239 уникальных пользователей (как мы определили на этапе предварительного анализа данных) даже самое первое из тех событий что есть у нас **(tips_show — пользователь увидел рекомендованные объявления)** сделало только 65% пользователей. Можно было бы предположить, что дальше будет порядок в действиях, но даже логичный шаг - **(advert_open — открытие карточки объявления)** а затем **(contacts_show — пользователь нажал на кнопку \"посмотреть номер телефона\" на карточке объявления)** так же не работает. В этом случае правда можно предположить, что если сложить два действия - **advert_open** и **(favorites_add — добавление объявления в избранное)** то далее следует как раз **contacts_show**.\n",
    "\n",
    "Для уверенного анализа воронки я рекомендую собрать подробный датасет совместно с отделом маркетинга с указанием возможных точкек входа и пути пользователя.\n",
    "\n",
    "На основе предоставленных данных, в разрезе требований к исследованию можно рассматривать только примитивную воронку - вход в приложение - **contacts_show** - в данном варианте конверсия в целевое действие составляет **23%** \n"
   ]
  },
  {
   "cell_type": "markdown",
   "metadata": {},
   "source": [
    "Проверим разницу поведении между целевой и нецелевой группами. Возможно есть какие-то действия характерные для той или иной группы"
   ]
  },
  {
   "cell_type": "code",
   "execution_count": 38,
   "metadata": {},
   "outputs": [
    {
     "name": "stdout",
     "output_type": "stream",
     "text": [
      "\u001b[1mХарактерные действия целевой группы:\u001b[0m\n"
     ]
    },
    {
     "data": {
      "text/html": [
       "<div>\n",
       "<style scoped>\n",
       "    .dataframe tbody tr th:only-of-type {\n",
       "        vertical-align: middle;\n",
       "    }\n",
       "\n",
       "    .dataframe tbody tr th {\n",
       "        vertical-align: top;\n",
       "    }\n",
       "\n",
       "    .dataframe thead th {\n",
       "        text-align: right;\n",
       "    }\n",
       "</style>\n",
       "<table border=\"1\" class=\"dataframe\">\n",
       "  <thead>\n",
       "    <tr style=\"text-align: right;\">\n",
       "      <th></th>\n",
       "      <th>event_name</th>\n",
       "      <th>user_id</th>\n",
       "      <th>pct_from_group</th>\n",
       "    </tr>\n",
       "  </thead>\n",
       "  <tbody>\n",
       "    <tr>\n",
       "      <td>2</td>\n",
       "      <td>contacts_show</td>\n",
       "      <td>981</td>\n",
       "      <td>1.00</td>\n",
       "    </tr>\n",
       "    <tr>\n",
       "      <td>8</td>\n",
       "      <td>tips_show</td>\n",
       "      <td>516</td>\n",
       "      <td>0.53</td>\n",
       "    </tr>\n",
       "    <tr>\n",
       "      <td>6</td>\n",
       "      <td>search</td>\n",
       "      <td>377</td>\n",
       "      <td>0.38</td>\n",
       "    </tr>\n",
       "    <tr>\n",
       "      <td>5</td>\n",
       "      <td>photos_show</td>\n",
       "      <td>339</td>\n",
       "      <td>0.35</td>\n",
       "    </tr>\n",
       "    <tr>\n",
       "      <td>4</td>\n",
       "      <td>map</td>\n",
       "      <td>289</td>\n",
       "      <td>0.29</td>\n",
       "    </tr>\n",
       "    <tr>\n",
       "      <td>1</td>\n",
       "      <td>contacts_call</td>\n",
       "      <td>213</td>\n",
       "      <td>0.22</td>\n",
       "    </tr>\n",
       "    <tr>\n",
       "      <td>0</td>\n",
       "      <td>advert_open</td>\n",
       "      <td>138</td>\n",
       "      <td>0.14</td>\n",
       "    </tr>\n",
       "    <tr>\n",
       "      <td>3</td>\n",
       "      <td>favorites_add</td>\n",
       "      <td>136</td>\n",
       "      <td>0.14</td>\n",
       "    </tr>\n",
       "    <tr>\n",
       "      <td>7</td>\n",
       "      <td>tips_click</td>\n",
       "      <td>100</td>\n",
       "      <td>0.10</td>\n",
       "    </tr>\n",
       "  </tbody>\n",
       "</table>\n",
       "</div>"
      ],
      "text/plain": [
       "      event_name  user_id  pct_from_group\n",
       "2  contacts_show      981            1.00\n",
       "8      tips_show      516            0.53\n",
       "6         search      377            0.38\n",
       "5    photos_show      339            0.35\n",
       "4            map      289            0.29\n",
       "1  contacts_call      213            0.22\n",
       "0    advert_open      138            0.14\n",
       "3  favorites_add      136            0.14\n",
       "7     tips_click      100            0.10"
      ]
     },
     "metadata": {},
     "output_type": "display_data"
    },
    {
     "name": "stdout",
     "output_type": "stream",
     "text": [
      "=============================================\n",
      "\n",
      "\u001b[1mХарактерные действия нецелевой группы:\u001b[0m\n"
     ]
    },
    {
     "data": {
      "text/html": [
       "<div>\n",
       "<style scoped>\n",
       "    .dataframe tbody tr th:only-of-type {\n",
       "        vertical-align: middle;\n",
       "    }\n",
       "\n",
       "    .dataframe tbody tr th {\n",
       "        vertical-align: top;\n",
       "    }\n",
       "\n",
       "    .dataframe thead th {\n",
       "        text-align: right;\n",
       "    }\n",
       "</style>\n",
       "<table border=\"1\" class=\"dataframe\">\n",
       "  <thead>\n",
       "    <tr style=\"text-align: right;\">\n",
       "      <th></th>\n",
       "      <th>event_name</th>\n",
       "      <th>user_id</th>\n",
       "      <th>pct_from_group</th>\n",
       "    </tr>\n",
       "  </thead>\n",
       "  <tbody>\n",
       "    <tr>\n",
       "      <td>6</td>\n",
       "      <td>tips_show</td>\n",
       "      <td>2285</td>\n",
       "      <td>0.69</td>\n",
       "    </tr>\n",
       "    <tr>\n",
       "      <td>4</td>\n",
       "      <td>search</td>\n",
       "      <td>1289</td>\n",
       "      <td>0.39</td>\n",
       "    </tr>\n",
       "    <tr>\n",
       "      <td>2</td>\n",
       "      <td>map</td>\n",
       "      <td>1167</td>\n",
       "      <td>0.35</td>\n",
       "    </tr>\n",
       "    <tr>\n",
       "      <td>3</td>\n",
       "      <td>photos_show</td>\n",
       "      <td>756</td>\n",
       "      <td>0.23</td>\n",
       "    </tr>\n",
       "    <tr>\n",
       "      <td>0</td>\n",
       "      <td>advert_open</td>\n",
       "      <td>613</td>\n",
       "      <td>0.19</td>\n",
       "    </tr>\n",
       "    <tr>\n",
       "      <td>5</td>\n",
       "      <td>tips_click</td>\n",
       "      <td>222</td>\n",
       "      <td>0.07</td>\n",
       "    </tr>\n",
       "    <tr>\n",
       "      <td>1</td>\n",
       "      <td>favorites_add</td>\n",
       "      <td>215</td>\n",
       "      <td>0.06</td>\n",
       "    </tr>\n",
       "  </tbody>\n",
       "</table>\n",
       "</div>"
      ],
      "text/plain": [
       "      event_name  user_id  pct_from_group\n",
       "6      tips_show     2285            0.69\n",
       "4         search     1289            0.39\n",
       "2            map     1167            0.35\n",
       "3    photos_show      756            0.23\n",
       "0    advert_open      613            0.19\n",
       "5     tips_click      222            0.07\n",
       "1  favorites_add      215            0.06"
      ]
     },
     "metadata": {},
     "output_type": "display_data"
    },
    {
     "name": "stdout",
     "output_type": "stream",
     "text": [
      "=============================================\n",
      "\n"
     ]
    },
    {
     "data": {
      "image/png": "[encoded data removed]",
      "text/plain": [
       "<Figure size 1080x576 with 1 Axes>"
      ]
     },
     "metadata": {
      "needs_background": "light"
     },
     "output_type": "display_data"
    }
   ],
   "source": [
    "#зададим количество уникальных пользователей в группе\n",
    "\n",
    "gud_user = df[df['event_name'] == 'contacts_show']['user_id'].drop_duplicates()\n",
    "\n",
    "#посчитаем характерные действия для целевой группы\n",
    "gud_df_tunnel = gud_df.groupby('event_name').agg({'user_id': 'nunique'}).reset_index().sort_values(by='user_id', ascending=False)\n",
    "gud_df_tunnel['pct_from_group'] = gud_df_tunnel['user_id'] / gud_user.shape[0]\n",
    "\n",
    "print('\\033[1m' + 'Характерные действия целевой группы:' + '\\033[0m')\n",
    "display(gud_df_tunnel)\n",
    "print('=' * 45)\n",
    "print()\n",
    "\n",
    "\n",
    "#посчитаем характерные действия для нецелевой группы\n",
    "bad_df_tunnel = bad_df.groupby('event_name').agg({'user_id': 'nunique'}).reset_index().sort_values(by='user_id', ascending=False)\n",
    "bad_df_tunnel['pct_from_group'] = bad_df_tunnel['user_id'] / (df['user_id'].unique().shape[0] - gud_user.shape[0])\n",
    "\n",
    "print('\\033[1m' + 'Характерные действия нецелевой группы:' + '\\033[0m')\n",
    "display(bad_df_tunnel)\n",
    "print('=' * 45)\n",
    "print()\n",
    "\n",
    "\n",
    "#Построим сводный график характерных действий\n",
    "#Сведем две таблицы вместе\n",
    "gud_df_tunnel = gud_df_tunnel.rename(columns = {'users_id':'gud_user', 'pct_from_group':'gud_pct'})\n",
    "bad_df_tunnel = bad_df_tunnel.rename(columns = {'users_id':'bad_user', 'pct_from_group':'bad_pct'})\n",
    "groups_tunnel = gud_df_tunnel.merge(bad_df_tunnel, on='event_name', how='left')\n",
    "#заполним нулями те действия, которых нет в нецелевой группе (contacts_show и contacts_call)\n",
    "groups_tunnel = groups_tunnel.fillna(0)\n",
    "\n",
    "#построим график\n",
    "ax = groups_tunnel.plot.bar(x='event_name', y=['gud_pct','bad_pct'])\n",
    "plt.title('Процент пользователей совершивший действие')\n",
    "plt.xlabel('Действие')\n",
    "plt.legend(labels=['Целевая группа', 'Нецелевая группа'])\n",
    "plt.show()\n"
   ]
  },
  {
   "cell_type": "markdown",
   "metadata": {},
   "source": [
    "Для целевой группы характерно несколько большее количество просмотров фото и добавлений объявления в избранное, а также несколько большее количество кликов по рекомендованному объявлению.\n",
    "Для нецелевой группы характерно смотреть на рекомендованные объявления и несколько больше смотреть карту размещённых объявлений\n"
   ]
  },
  {
   "cell_type": "markdown",
   "metadata": {},
   "source": [
    "Проверим конверсию из различных действий. Найдем пользователей совершавших те или иные действия и посмотрим, сколько из них совершали те или иные действия, в том числе и наше целевое действие (contacts_show)"
   ]
  },
  {
   "cell_type": "code",
   "execution_count": 39,
   "metadata": {},
   "outputs": [
    {
     "name": "stdout",
     "output_type": "stream",
     "text": [
      "Конверсия из advert_open\n"
     ]
    },
    {
     "data": {
      "text/html": [
       "<div>\n",
       "<style scoped>\n",
       "    .dataframe tbody tr th:only-of-type {\n",
       "        vertical-align: middle;\n",
       "    }\n",
       "\n",
       "    .dataframe tbody tr th {\n",
       "        vertical-align: top;\n",
       "    }\n",
       "\n",
       "    .dataframe thead th {\n",
       "        text-align: right;\n",
       "    }\n",
       "</style>\n",
       "<table border=\"1\" class=\"dataframe\">\n",
       "  <thead>\n",
       "    <tr style=\"text-align: right;\">\n",
       "      <th></th>\n",
       "      <th>event_name</th>\n",
       "      <th>user_id</th>\n",
       "      <th>nmb_uniq_users_pct</th>\n",
       "    </tr>\n",
       "  </thead>\n",
       "  <tbody>\n",
       "    <tr>\n",
       "      <td>0</td>\n",
       "      <td>advert_open</td>\n",
       "      <td>751</td>\n",
       "      <td>1.00</td>\n",
       "    </tr>\n",
       "    <tr>\n",
       "      <td>8</td>\n",
       "      <td>tips_show</td>\n",
       "      <td>590</td>\n",
       "      <td>0.79</td>\n",
       "    </tr>\n",
       "    <tr>\n",
       "      <td>4</td>\n",
       "      <td>map</td>\n",
       "      <td>517</td>\n",
       "      <td>0.69</td>\n",
       "    </tr>\n",
       "    <tr>\n",
       "      <td>6</td>\n",
       "      <td>search</td>\n",
       "      <td>339</td>\n",
       "      <td>0.45</td>\n",
       "    </tr>\n",
       "    <tr>\n",
       "      <td>2</td>\n",
       "      <td>contacts_show</td>\n",
       "      <td>138</td>\n",
       "      <td>0.18</td>\n",
       "    </tr>\n",
       "    <tr>\n",
       "      <td>3</td>\n",
       "      <td>favorites_add</td>\n",
       "      <td>120</td>\n",
       "      <td>0.16</td>\n",
       "    </tr>\n",
       "    <tr>\n",
       "      <td>5</td>\n",
       "      <td>photos_show</td>\n",
       "      <td>73</td>\n",
       "      <td>0.10</td>\n",
       "    </tr>\n",
       "    <tr>\n",
       "      <td>7</td>\n",
       "      <td>tips_click</td>\n",
       "      <td>66</td>\n",
       "      <td>0.09</td>\n",
       "    </tr>\n",
       "    <tr>\n",
       "      <td>1</td>\n",
       "      <td>contacts_call</td>\n",
       "      <td>21</td>\n",
       "      <td>0.03</td>\n",
       "    </tr>\n",
       "  </tbody>\n",
       "</table>\n",
       "</div>"
      ],
      "text/plain": [
       "      event_name  user_id  nmb_uniq_users_pct\n",
       "0    advert_open      751                1.00\n",
       "8      tips_show      590                0.79\n",
       "4            map      517                0.69\n",
       "6         search      339                0.45\n",
       "2  contacts_show      138                0.18\n",
       "3  favorites_add      120                0.16\n",
       "5    photos_show       73                0.10\n",
       "7     tips_click       66                0.09\n",
       "1  contacts_call       21                0.03"
      ]
     },
     "metadata": {},
     "output_type": "display_data"
    },
    {
     "name": "stdout",
     "output_type": "stream",
     "text": [
      "Конверсия из map\n"
     ]
    },
    {
     "data": {
      "text/html": [
       "<div>\n",
       "<style scoped>\n",
       "    .dataframe tbody tr th:only-of-type {\n",
       "        vertical-align: middle;\n",
       "    }\n",
       "\n",
       "    .dataframe tbody tr th {\n",
       "        vertical-align: top;\n",
       "    }\n",
       "\n",
       "    .dataframe thead th {\n",
       "        text-align: right;\n",
       "    }\n",
       "</style>\n",
       "<table border=\"1\" class=\"dataframe\">\n",
       "  <thead>\n",
       "    <tr style=\"text-align: right;\">\n",
       "      <th></th>\n",
       "      <th>event_name</th>\n",
       "      <th>user_id</th>\n",
       "      <th>nmb_uniq_users_pct</th>\n",
       "    </tr>\n",
       "  </thead>\n",
       "  <tbody>\n",
       "    <tr>\n",
       "      <td>3</td>\n",
       "      <td>map</td>\n",
       "      <td>1456</td>\n",
       "      <td>1.00</td>\n",
       "    </tr>\n",
       "    <tr>\n",
       "      <td>7</td>\n",
       "      <td>tips_show</td>\n",
       "      <td>1352</td>\n",
       "      <td>0.93</td>\n",
       "    </tr>\n",
       "    <tr>\n",
       "      <td>0</td>\n",
       "      <td>advert_open</td>\n",
       "      <td>517</td>\n",
       "      <td>0.36</td>\n",
       "    </tr>\n",
       "    <tr>\n",
       "      <td>5</td>\n",
       "      <td>search</td>\n",
       "      <td>463</td>\n",
       "      <td>0.32</td>\n",
       "    </tr>\n",
       "    <tr>\n",
       "      <td>1</td>\n",
       "      <td>contacts_show</td>\n",
       "      <td>289</td>\n",
       "      <td>0.20</td>\n",
       "    </tr>\n",
       "    <tr>\n",
       "      <td>6</td>\n",
       "      <td>tips_click</td>\n",
       "      <td>148</td>\n",
       "      <td>0.10</td>\n",
       "    </tr>\n",
       "    <tr>\n",
       "      <td>2</td>\n",
       "      <td>favorites_add</td>\n",
       "      <td>64</td>\n",
       "      <td>0.04</td>\n",
       "    </tr>\n",
       "    <tr>\n",
       "      <td>4</td>\n",
       "      <td>photos_show</td>\n",
       "      <td>5</td>\n",
       "      <td>0.00</td>\n",
       "    </tr>\n",
       "  </tbody>\n",
       "</table>\n",
       "</div>"
      ],
      "text/plain": [
       "      event_name  user_id  nmb_uniq_users_pct\n",
       "3            map     1456                1.00\n",
       "7      tips_show     1352                0.93\n",
       "0    advert_open      517                0.36\n",
       "5         search      463                0.32\n",
       "1  contacts_show      289                0.20\n",
       "6     tips_click      148                0.10\n",
       "2  favorites_add       64                0.04\n",
       "4    photos_show        5                0.00"
      ]
     },
     "metadata": {},
     "output_type": "display_data"
    },
    {
     "name": "stdout",
     "output_type": "stream",
     "text": [
      "Конверсия из tips_click\n"
     ]
    },
    {
     "data": {
      "text/html": [
       "<div>\n",
       "<style scoped>\n",
       "    .dataframe tbody tr th:only-of-type {\n",
       "        vertical-align: middle;\n",
       "    }\n",
       "\n",
       "    .dataframe tbody tr th {\n",
       "        vertical-align: top;\n",
       "    }\n",
       "\n",
       "    .dataframe thead th {\n",
       "        text-align: right;\n",
       "    }\n",
       "</style>\n",
       "<table border=\"1\" class=\"dataframe\">\n",
       "  <thead>\n",
       "    <tr style=\"text-align: right;\">\n",
       "      <th></th>\n",
       "      <th>event_name</th>\n",
       "      <th>user_id</th>\n",
       "      <th>nmb_uniq_users_pct</th>\n",
       "    </tr>\n",
       "  </thead>\n",
       "  <tbody>\n",
       "    <tr>\n",
       "      <td>6</td>\n",
       "      <td>tips_click</td>\n",
       "      <td>322</td>\n",
       "      <td>1.00</td>\n",
       "    </tr>\n",
       "    <tr>\n",
       "      <td>7</td>\n",
       "      <td>tips_show</td>\n",
       "      <td>297</td>\n",
       "      <td>0.92</td>\n",
       "    </tr>\n",
       "    <tr>\n",
       "      <td>3</td>\n",
       "      <td>map</td>\n",
       "      <td>148</td>\n",
       "      <td>0.46</td>\n",
       "    </tr>\n",
       "    <tr>\n",
       "      <td>1</td>\n",
       "      <td>contacts_show</td>\n",
       "      <td>100</td>\n",
       "      <td>0.31</td>\n",
       "    </tr>\n",
       "    <tr>\n",
       "      <td>5</td>\n",
       "      <td>search</td>\n",
       "      <td>81</td>\n",
       "      <td>0.25</td>\n",
       "    </tr>\n",
       "    <tr>\n",
       "      <td>0</td>\n",
       "      <td>advert_open</td>\n",
       "      <td>66</td>\n",
       "      <td>0.20</td>\n",
       "    </tr>\n",
       "    <tr>\n",
       "      <td>2</td>\n",
       "      <td>favorites_add</td>\n",
       "      <td>32</td>\n",
       "      <td>0.10</td>\n",
       "    </tr>\n",
       "    <tr>\n",
       "      <td>4</td>\n",
       "      <td>photos_show</td>\n",
       "      <td>4</td>\n",
       "      <td>0.01</td>\n",
       "    </tr>\n",
       "  </tbody>\n",
       "</table>\n",
       "</div>"
      ],
      "text/plain": [
       "      event_name  user_id  nmb_uniq_users_pct\n",
       "6     tips_click      322                1.00\n",
       "7      tips_show      297                0.92\n",
       "3            map      148                0.46\n",
       "1  contacts_show      100                0.31\n",
       "5         search       81                0.25\n",
       "0    advert_open       66                0.20\n",
       "2  favorites_add       32                0.10\n",
       "4    photos_show        4                0.01"
      ]
     },
     "metadata": {},
     "output_type": "display_data"
    },
    {
     "name": "stdout",
     "output_type": "stream",
     "text": [
      "Конверсия из search\n"
     ]
    },
    {
     "data": {
      "text/html": [
       "<div>\n",
       "<style scoped>\n",
       "    .dataframe tbody tr th:only-of-type {\n",
       "        vertical-align: middle;\n",
       "    }\n",
       "\n",
       "    .dataframe tbody tr th {\n",
       "        vertical-align: top;\n",
       "    }\n",
       "\n",
       "    .dataframe thead th {\n",
       "        text-align: right;\n",
       "    }\n",
       "</style>\n",
       "<table border=\"1\" class=\"dataframe\">\n",
       "  <thead>\n",
       "    <tr style=\"text-align: right;\">\n",
       "      <th></th>\n",
       "      <th>event_name</th>\n",
       "      <th>user_id</th>\n",
       "      <th>nmb_uniq_users_pct</th>\n",
       "    </tr>\n",
       "  </thead>\n",
       "  <tbody>\n",
       "    <tr>\n",
       "      <td>6</td>\n",
       "      <td>search</td>\n",
       "      <td>1666</td>\n",
       "      <td>1.00</td>\n",
       "    </tr>\n",
       "    <tr>\n",
       "      <td>8</td>\n",
       "      <td>tips_show</td>\n",
       "      <td>801</td>\n",
       "      <td>0.48</td>\n",
       "    </tr>\n",
       "    <tr>\n",
       "      <td>5</td>\n",
       "      <td>photos_show</td>\n",
       "      <td>647</td>\n",
       "      <td>0.39</td>\n",
       "    </tr>\n",
       "    <tr>\n",
       "      <td>4</td>\n",
       "      <td>map</td>\n",
       "      <td>463</td>\n",
       "      <td>0.28</td>\n",
       "    </tr>\n",
       "    <tr>\n",
       "      <td>2</td>\n",
       "      <td>contacts_show</td>\n",
       "      <td>377</td>\n",
       "      <td>0.23</td>\n",
       "    </tr>\n",
       "    <tr>\n",
       "      <td>0</td>\n",
       "      <td>advert_open</td>\n",
       "      <td>339</td>\n",
       "      <td>0.20</td>\n",
       "    </tr>\n",
       "    <tr>\n",
       "      <td>3</td>\n",
       "      <td>favorites_add</td>\n",
       "      <td>201</td>\n",
       "      <td>0.12</td>\n",
       "    </tr>\n",
       "    <tr>\n",
       "      <td>1</td>\n",
       "      <td>contacts_call</td>\n",
       "      <td>112</td>\n",
       "      <td>0.07</td>\n",
       "    </tr>\n",
       "    <tr>\n",
       "      <td>7</td>\n",
       "      <td>tips_click</td>\n",
       "      <td>81</td>\n",
       "      <td>0.05</td>\n",
       "    </tr>\n",
       "  </tbody>\n",
       "</table>\n",
       "</div>"
      ],
      "text/plain": [
       "      event_name  user_id  nmb_uniq_users_pct\n",
       "6         search     1666                1.00\n",
       "8      tips_show      801                0.48\n",
       "5    photos_show      647                0.39\n",
       "4            map      463                0.28\n",
       "2  contacts_show      377                0.23\n",
       "0    advert_open      339                0.20\n",
       "3  favorites_add      201                0.12\n",
       "1  contacts_call      112                0.07\n",
       "7     tips_click       81                0.05"
      ]
     },
     "metadata": {},
     "output_type": "display_data"
    },
    {
     "name": "stdout",
     "output_type": "stream",
     "text": [
      "Конверсия из photos_show\n"
     ]
    },
    {
     "data": {
      "text/html": [
       "<div>\n",
       "<style scoped>\n",
       "    .dataframe tbody tr th:only-of-type {\n",
       "        vertical-align: middle;\n",
       "    }\n",
       "\n",
       "    .dataframe tbody tr th {\n",
       "        vertical-align: top;\n",
       "    }\n",
       "\n",
       "    .dataframe thead th {\n",
       "        text-align: right;\n",
       "    }\n",
       "</style>\n",
       "<table border=\"1\" class=\"dataframe\">\n",
       "  <thead>\n",
       "    <tr style=\"text-align: right;\">\n",
       "      <th></th>\n",
       "      <th>event_name</th>\n",
       "      <th>user_id</th>\n",
       "      <th>nmb_uniq_users_pct</th>\n",
       "    </tr>\n",
       "  </thead>\n",
       "  <tbody>\n",
       "    <tr>\n",
       "      <td>5</td>\n",
       "      <td>photos_show</td>\n",
       "      <td>1095</td>\n",
       "      <td>1.00</td>\n",
       "    </tr>\n",
       "    <tr>\n",
       "      <td>6</td>\n",
       "      <td>search</td>\n",
       "      <td>647</td>\n",
       "      <td>0.59</td>\n",
       "    </tr>\n",
       "    <tr>\n",
       "      <td>2</td>\n",
       "      <td>contacts_show</td>\n",
       "      <td>339</td>\n",
       "      <td>0.31</td>\n",
       "    </tr>\n",
       "    <tr>\n",
       "      <td>3</td>\n",
       "      <td>favorites_add</td>\n",
       "      <td>202</td>\n",
       "      <td>0.18</td>\n",
       "    </tr>\n",
       "    <tr>\n",
       "      <td>1</td>\n",
       "      <td>contacts_call</td>\n",
       "      <td>157</td>\n",
       "      <td>0.14</td>\n",
       "    </tr>\n",
       "    <tr>\n",
       "      <td>0</td>\n",
       "      <td>advert_open</td>\n",
       "      <td>73</td>\n",
       "      <td>0.07</td>\n",
       "    </tr>\n",
       "    <tr>\n",
       "      <td>8</td>\n",
       "      <td>tips_show</td>\n",
       "      <td>13</td>\n",
       "      <td>0.01</td>\n",
       "    </tr>\n",
       "    <tr>\n",
       "      <td>4</td>\n",
       "      <td>map</td>\n",
       "      <td>5</td>\n",
       "      <td>0.00</td>\n",
       "    </tr>\n",
       "    <tr>\n",
       "      <td>7</td>\n",
       "      <td>tips_click</td>\n",
       "      <td>4</td>\n",
       "      <td>0.00</td>\n",
       "    </tr>\n",
       "  </tbody>\n",
       "</table>\n",
       "</div>"
      ],
      "text/plain": [
       "      event_name  user_id  nmb_uniq_users_pct\n",
       "5    photos_show     1095                1.00\n",
       "6         search      647                0.59\n",
       "2  contacts_show      339                0.31\n",
       "3  favorites_add      202                0.18\n",
       "1  contacts_call      157                0.14\n",
       "0    advert_open       73                0.07\n",
       "8      tips_show       13                0.01\n",
       "4            map        5                0.00\n",
       "7     tips_click        4                0.00"
      ]
     },
     "metadata": {},
     "output_type": "display_data"
    },
    {
     "name": "stdout",
     "output_type": "stream",
     "text": [
      "Конверсия из favorites_add\n"
     ]
    },
    {
     "data": {
      "text/html": [
       "<div>\n",
       "<style scoped>\n",
       "    .dataframe tbody tr th:only-of-type {\n",
       "        vertical-align: middle;\n",
       "    }\n",
       "\n",
       "    .dataframe tbody tr th {\n",
       "        vertical-align: top;\n",
       "    }\n",
       "\n",
       "    .dataframe thead th {\n",
       "        text-align: right;\n",
       "    }\n",
       "</style>\n",
       "<table border=\"1\" class=\"dataframe\">\n",
       "  <thead>\n",
       "    <tr style=\"text-align: right;\">\n",
       "      <th></th>\n",
       "      <th>event_name</th>\n",
       "      <th>user_id</th>\n",
       "      <th>nmb_uniq_users_pct</th>\n",
       "    </tr>\n",
       "  </thead>\n",
       "  <tbody>\n",
       "    <tr>\n",
       "      <td>3</td>\n",
       "      <td>favorites_add</td>\n",
       "      <td>351</td>\n",
       "      <td>1.00</td>\n",
       "    </tr>\n",
       "    <tr>\n",
       "      <td>5</td>\n",
       "      <td>photos_show</td>\n",
       "      <td>202</td>\n",
       "      <td>0.58</td>\n",
       "    </tr>\n",
       "    <tr>\n",
       "      <td>6</td>\n",
       "      <td>search</td>\n",
       "      <td>201</td>\n",
       "      <td>0.57</td>\n",
       "    </tr>\n",
       "    <tr>\n",
       "      <td>2</td>\n",
       "      <td>contacts_show</td>\n",
       "      <td>136</td>\n",
       "      <td>0.39</td>\n",
       "    </tr>\n",
       "    <tr>\n",
       "      <td>0</td>\n",
       "      <td>advert_open</td>\n",
       "      <td>120</td>\n",
       "      <td>0.34</td>\n",
       "    </tr>\n",
       "    <tr>\n",
       "      <td>8</td>\n",
       "      <td>tips_show</td>\n",
       "      <td>108</td>\n",
       "      <td>0.31</td>\n",
       "    </tr>\n",
       "    <tr>\n",
       "      <td>4</td>\n",
       "      <td>map</td>\n",
       "      <td>64</td>\n",
       "      <td>0.18</td>\n",
       "    </tr>\n",
       "    <tr>\n",
       "      <td>1</td>\n",
       "      <td>contacts_call</td>\n",
       "      <td>41</td>\n",
       "      <td>0.12</td>\n",
       "    </tr>\n",
       "    <tr>\n",
       "      <td>7</td>\n",
       "      <td>tips_click</td>\n",
       "      <td>32</td>\n",
       "      <td>0.09</td>\n",
       "    </tr>\n",
       "  </tbody>\n",
       "</table>\n",
       "</div>"
      ],
      "text/plain": [
       "      event_name  user_id  nmb_uniq_users_pct\n",
       "3  favorites_add      351                1.00\n",
       "5    photos_show      202                0.58\n",
       "6         search      201                0.57\n",
       "2  contacts_show      136                0.39\n",
       "0    advert_open      120                0.34\n",
       "8      tips_show      108                0.31\n",
       "4            map       64                0.18\n",
       "1  contacts_call       41                0.12\n",
       "7     tips_click       32                0.09"
      ]
     },
     "metadata": {},
     "output_type": "display_data"
    }
   ],
   "source": [
    "#сделаем выборку действий, по которым будем смотреть конверсию.\n",
    "test_list = ['advert_open', 'map', 'tips_click', 'search', 'photos_show', 'favorites_add']\n",
    "\n",
    "\n",
    "for name in test_list:\n",
    "    test_con = df[df['event_name'] == name]['user_id'].drop_duplicates()\n",
    "    d_c_a = df[df['user_id'].isin(test_con)]\n",
    "    d_c_a_tunnel = d_c_a.groupby('event_name').agg({'user_id': 'nunique'}).reset_index().sort_values(by='user_id', ascending=False)\n",
    "    d_c_a_tunnel['nmb_uniq_users_pct'] = d_c_a_tunnel['user_id'] / d_c_a['user_id'].unique().shape[0]\n",
    "    print ('Конверсия из', name)\n",
    "    display(d_c_a_tunnel)\n"
   ]
  },
  {
   "cell_type": "markdown",
   "metadata": {},
   "source": [
    "У нас четко выделяются события favorites_add с  конверсией в 39% contacts_show, а так же photos_show и tips_click с 31%."
   ]
  },
  {
   "cell_type": "markdown",
   "metadata": {},
   "source": [
    "### Промежуточные выводы"
   ]
  },
  {
   "cell_type": "markdown",
   "metadata": {},
   "source": [
    "Если судить по получившейся предварительной воронке, то у нас нет четкого пути пользователя. Из 4239 уникальных пользователей (как мы определили на этапе предварительного анализа данных) даже самое первое из тех событий что есть у нас **(tips_show — пользователь увидел рекомендованные объявления)** сделало только 65% пользователей. Можно было бы предположить, что дальше будет порядок в действиях, но даже логичный шаг - **(advert_open — открытие карточки объявления)** а затем **(contacts_show — пользователь нажал на кнопку \"посмотреть номер телефона\" на карточке объявления)** так же не работает. В этом случае правда можно предположить, что если сложить два действия - **advert_open** и **(favorites_add — добавление объявления в избранное)** то далее следует как раз **contacts_show**. \n",
    "\n",
    "В целом у нас четко выделяются события favorites_add с  конверсией в 39% contacts_show, а так же photos_show и tips_click с 31%.\n",
    "\n",
    "На основе предоставленных данных, в разрезе требований к исследованию можно рассматривать только примитивную воронку - вход в приложение - **contacts_show** - в данном варианте конверсия в целевое действие составляет **23%** \n",
    "\n",
    "При этом мы можем указать, что для целевой группы характерно несколько большее количество просмотров фото и добавлений объявления в избранное, а для нецелевой группы характерно смотреть на рекомендованные объявления и несколько больше смотреть карту размещённых объявлений.\n",
    "\n",
    "\n",
    "Для уверенного анализа воронки я рекомендую собрать подробный датасет совместно с отделом маркетинга с указанием возможных точкек входа и путей пользователя. \n",
    "\n"
   ]
  },
  {
   "cell_type": "markdown",
   "metadata": {},
   "source": [
    "### Проверка статистических гипотез"
   ]
  },
  {
   "cell_type": "markdown",
   "metadata": {},
   "source": [
    "Проверим статистическую гипотезу выдвинутую отделом менеджмента: Некоторые пользователи установили приложение по ссылке из yandex, другие — из google. Гипотеза: две эти группы демонстрируют разную конверсию в просмотры контактов. \n",
    "Для проверки этой гипотезы нам были выданы данные по источникам ссылок.\n",
    "Для проведения анализа установим уровень статистической значимости, равный 5% (alpha = 0.05). \n",
    "\n",
    "Также, определим гипотезы для проверки.\n",
    "\n",
    "$H_0$ **Статистически значимых различий** между группами с точки зрения конверсии в просмотры контактов **нет**.\n",
    "\n",
    "$H_1$ **Статистически значимые различия** между группами с точки зрения конверсии в просмотры контактов **есть**.\n"
   ]
  },
  {
   "cell_type": "code",
   "execution_count": 40,
   "metadata": {},
   "outputs": [
    {
     "name": "stdout",
     "output_type": "stream",
     "text": [
      "p-значение:  0.8244\n",
      "Не получилось отвергнуть нулевую гипотезу\n",
      " \n"
     ]
    }
   ],
   "source": [
    "#установим уровень статистической значимости\n",
    "alpha = 0.05\n",
    "\n",
    "# подготовим переменные\n",
    "dfy = df[df['source'] == 'yandex']\n",
    "dfy_tunnel = dfy.groupby('event_name', as_index=False).agg({'user_id': 'nunique'}).rename(columns={'user_id': 'nmr_uniq_users_yan'})\n",
    "\n",
    "dfg = df[df['source'] == 'google']\n",
    "dfg_tunnel = dfg.groupby('event_name', as_index=False).agg({'user_id': 'nunique'}).rename(columns={'user_id': 'nmr_uniq_users_gog'})\n",
    "\n",
    "successes = pd.concat([dfy_tunnel[dfy_tunnel['event_name'] == 'contacts_show']['nmr_uniq_users_yan'],\\\n",
    "                           dfg_tunnel[dfg_tunnel['event_name'] == 'contacts_show']['nmr_uniq_users_gog']], axis=0)\n",
    "trials = [dfy['user_id'].unique().shape[0], dfg['user_id'].unique().shape[0]]\n",
    "\n",
    "#проведем расчеты\n",
    "stat, p_val = proportions_ztest(successes, trials)\n",
    "\n",
    "#выведем результаты\n",
    "\n",
    "print('p-значение: ',p_val.round(4))\n",
    "if p_val < alpha:\n",
    "    print(\"Отвергаем нулевую гипотезу\")\n",
    "else:\n",
    "    print(\"Не получилось отвергнуть нулевую гипотезу\") \n",
    "print(' ')"
   ]
  },
  {
   "cell_type": "markdown",
   "metadata": {},
   "source": [
    "Не получено данных о статистически достоверной разнице между пользователями пришедшими из разных источников и их конверсией в целевое действие."
   ]
  },
  {
   "cell_type": "markdown",
   "metadata": {},
   "source": [
    "Выдвинем и проверим статистическую гипотезу: Пользователи совершающие действия **advert_open** и **search** и пользователи совершающие действия **advert_open** и **tips_click** демонстрируют разную конверсию в просмотры контактов.\n",
    "\n",
    "Для проведения анализа установим уровень статистической значимости, равный 5% (alpha = 0.05). \n",
    "\n",
    "Также, определим гипотезы для проверки.\n",
    "\n",
    "$H_0$ **Статистически значимых различий** между пользователями совершающими действия **advert_open** и **search** и пользователями совершающими действия **advert_open** и **tips_click**  с точки зрения конверсии в просмотры контактов  **нет**.\n",
    "\n",
    "$H_1$ **Статистически значимые различия** между пользователями совершающими действия **advert_open** и **search** и пользователями совершающими действия **advert_open** и **tips_click**  с точки зрения конверсии в просмотры контактов  **есть**.\n"
   ]
  },
  {
   "cell_type": "markdown",
   "metadata": {},
   "source": [
    "Подготовим данные для анализа. Разделим пользователей на группы:\n",
    "- Пользователи, которые не делали ни одного события (значение 0)\n",
    "- Пользователи совершающие действия **advert_open** и **search** (значение 1)\n",
    "- Пользователи совершающие действия **advert_open** и **tips_click** (значение 2)\n",
    "- Пользователи, которые открывали карточку обоими способами (значение 3)"
   ]
  },
  {
   "cell_type": "code",
   "execution_count": 41,
   "metadata": {},
   "outputs": [],
   "source": [
    "# введем специальный чек значение должно быть в зависимости от того, как юзер делал операцию. \n",
    "# Т.е. если юзер делал хоть раз. search и advert_open  тогда 1 , если tips_click и \n",
    "# advert_open тогда 2 если вообще ничего такого не делал то 0. Если и то и то делал то 3\n",
    "\n",
    "\n",
    "# сделаем отдельный датафрейм\n",
    "df_time = df.copy(deep=True)\n",
    "\n",
    "# введем фильтры для разделения групп\n",
    "filter1 = ['advert_open', 'search']\n",
    "filter2 = ['advert_open', 'tips_click']\n",
    "filter3 = ['advert_open', 'tips_click', 'search']\n",
    "\n",
    "user_filter1 = df_time[df_time['event_name'].isin(filter1)]['user_id'].unique()\n",
    "user_filter2 = df_time[df_time['event_name'].isin(filter2)]['user_id'].unique()\n",
    "user_filter3 = df_time[df_time['event_name'].isin(filter3)]['user_id'].unique()\n"
   ]
  },
  {
   "cell_type": "code",
   "execution_count": 42,
   "metadata": {},
   "outputs": [],
   "source": [
    "# составим список дубликатов для нормальной работы первого фильтра. Он сработает \n",
    "# только если у пользователя есть все два действия \n",
    "users_group_count = df_time[df_time['event_name'].isin(filter1)].groupby('user_id')['event_name'].nunique()\n",
    "dupes1 = users_group_count[users_group_count == 2].index \n",
    "\n",
    "# составим список дубликатов для нормальной работы первого фильтра. Он сработает \n",
    "# только если у пользователя есть все два действия \n",
    "users_group_count = df_time[df_time['event_name'].isin(filter2)].groupby('user_id')['event_name'].nunique()\n",
    "dupes2 = users_group_count[users_group_count == 2].index \n",
    "\n",
    "\n",
    "# составим список дубликатов для нормальной работы третьего фильтра. Он сработает \n",
    "# только если у пользователя есть все три действия \n",
    "users_group_count = df_time[df_time['event_name'].isin(filter3)].groupby('user_id')['event_name'].nunique()\n",
    "dupes3 = users_group_count[users_group_count >2].index \n"
   ]
  },
  {
   "cell_type": "code",
   "execution_count": 43,
   "metadata": {},
   "outputs": [],
   "source": [
    "#Сделаем словарь для переноса наших значений в таблицу\n",
    "\n",
    "dict = {}\n",
    "for value in df_time['user_id'].unique():\n",
    "    dict[value] = 0\n",
    "\n",
    "for value in dupes2:\n",
    "    dict[value] = 2\n",
    "\n",
    "for value in dupes1:\n",
    "    dict[value] = 1\n",
    "    \n",
    "for value in dupes3:\n",
    "    dict[value] = 3"
   ]
  },
  {
   "cell_type": "code",
   "execution_count": 44,
   "metadata": {},
   "outputs": [
    {
     "data": {
      "text/plain": [
       "Counter({0: 3922, 3: 34, 1: 305, 2: 32})"
      ]
     },
     "execution_count": 44,
     "metadata": {},
     "output_type": "execute_result"
    }
   ],
   "source": [
    "#проверим результаты \n",
    "Counter(dict.values())"
   ]
  },
  {
   "cell_type": "code",
   "execution_count": 45,
   "metadata": {},
   "outputs": [],
   "source": [
    "#сделаем маленькую функцию, чтобы обойти ошибку размерности\n",
    "\n",
    "df_time['index'] = 0\n",
    "def find_category(data):\n",
    "  return [dict.get(x) for x in dict.keys() if x in data][0]\n",
    "\n",
    "#Добавим данные в столбец\n",
    "df_time['index'] = df_time['user_id'].apply(find_category)"
   ]
  },
  {
   "cell_type": "code",
   "execution_count": 46,
   "metadata": {},
   "outputs": [
    {
     "data": {
      "text/html": [
       "<div>\n",
       "<style scoped>\n",
       "    .dataframe tbody tr th:only-of-type {\n",
       "        vertical-align: middle;\n",
       "    }\n",
       "\n",
       "    .dataframe tbody tr th {\n",
       "        vertical-align: top;\n",
       "    }\n",
       "\n",
       "    .dataframe thead th {\n",
       "        text-align: right;\n",
       "    }\n",
       "</style>\n",
       "<table border=\"1\" class=\"dataframe\">\n",
       "  <thead>\n",
       "    <tr style=\"text-align: right;\">\n",
       "      <th></th>\n",
       "      <th>index</th>\n",
       "      <th>user_id</th>\n",
       "    </tr>\n",
       "  </thead>\n",
       "  <tbody>\n",
       "    <tr>\n",
       "      <td>0</td>\n",
       "      <td>0</td>\n",
       "      <td>3922</td>\n",
       "    </tr>\n",
       "    <tr>\n",
       "      <td>1</td>\n",
       "      <td>1</td>\n",
       "      <td>305</td>\n",
       "    </tr>\n",
       "    <tr>\n",
       "      <td>3</td>\n",
       "      <td>3</td>\n",
       "      <td>34</td>\n",
       "    </tr>\n",
       "    <tr>\n",
       "      <td>2</td>\n",
       "      <td>2</td>\n",
       "      <td>32</td>\n",
       "    </tr>\n",
       "  </tbody>\n",
       "</table>\n",
       "</div>"
      ],
      "text/plain": [
       "   index  user_id\n",
       "0      0     3922\n",
       "1      1      305\n",
       "3      3       34\n",
       "2      2       32"
      ]
     },
     "execution_count": 46,
     "metadata": {},
     "output_type": "execute_result"
    }
   ],
   "source": [
    "#Проверим данные\n",
    "df_time.groupby('index').agg({'user_id': 'nunique'}).reset_index().sort_values(by='user_id', ascending=False)"
   ]
  },
  {
   "cell_type": "markdown",
   "metadata": {},
   "source": [
    "Данные готовы и мы можем провести тест"
   ]
  },
  {
   "cell_type": "code",
   "execution_count": 47,
   "metadata": {},
   "outputs": [
    {
     "name": "stdout",
     "output_type": "stream",
     "text": [
      "p-значение:  0.4278\n",
      "Не получилось отвергнуть нулевую гипотезу\n",
      " \n"
     ]
    }
   ],
   "source": [
    "#установим уровень статистической значимости\n",
    "alpha = 0.05\n",
    "\n",
    "# подготовим переменные\n",
    "df1 = df_time[df_time['index'] == 1]\n",
    "df1_tunnel = df1.groupby('event_name', as_index=False).agg({'user_id': 'nunique'}).rename(columns={'user_id': 'nmr_uniq_users_1'})\n",
    "\n",
    "df2 = df_time[df_time['index'] == 2]\n",
    "df2_tunnel = df2.groupby('event_name', as_index=False).agg({'user_id': 'nunique'}).rename(columns={'user_id': 'nmr_uniq_users_2'})\n",
    "\n",
    "successes = pd.concat([df1_tunnel[df1_tunnel['event_name'] == 'contacts_show']['nmr_uniq_users_1'],\\\n",
    "                           df2_tunnel[df2_tunnel['event_name'] == 'contacts_show']['nmr_uniq_users_2']], axis=0)\n",
    "trials = [df1['user_id'].unique().shape[0], df2['user_id'].unique().shape[0]]\n",
    "#print(successes)\n",
    "#print(trials)\n",
    "\n",
    "#проведем расчеты\n",
    "stat, p_val = proportions_ztest(successes, trials)\n",
    "\n",
    "#выведем результаты\n",
    "\n",
    "print('p-значение: ',p_val.round(4))\n",
    "if p_val < alpha:\n",
    "    print(\"Отвергаем нулевую гипотезу\")\n",
    "else:\n",
    "    print(\"Не получилось отвергнуть нулевую гипотезу\") \n",
    "print(' ')"
   ]
  },
  {
   "cell_type": "markdown",
   "metadata": {},
   "source": [
    "Не получено данных о статистически достоверной разнице между пользователями совершающими действия **advert_open** и **search** и пользователями совершающими действия **advert_open** и **tips_click**,  и их конверсией в целевое действие."
   ]
  },
  {
   "cell_type": "markdown",
   "metadata": {},
   "source": [
    "Тем не менее посмотрим данные пути внимательнее:\n",
    "Рассмотрим воронки событий по обоим вариантам"
   ]
  },
  {
   "cell_type": "code",
   "execution_count": 48,
   "metadata": {},
   "outputs": [
    {
     "data": {
      "text/html": [
       "<div>\n",
       "<style scoped>\n",
       "    .dataframe tbody tr th:only-of-type {\n",
       "        vertical-align: middle;\n",
       "    }\n",
       "\n",
       "    .dataframe tbody tr th {\n",
       "        vertical-align: top;\n",
       "    }\n",
       "\n",
       "    .dataframe thead th {\n",
       "        text-align: right;\n",
       "    }\n",
       "</style>\n",
       "<table border=\"1\" class=\"dataframe\">\n",
       "  <thead>\n",
       "    <tr style=\"text-align: right;\">\n",
       "      <th></th>\n",
       "      <th>event_name</th>\n",
       "      <th>user_id</th>\n",
       "      <th>nmb_uniq_users_pct</th>\n",
       "    </tr>\n",
       "  </thead>\n",
       "  <tbody>\n",
       "    <tr>\n",
       "      <td>0</td>\n",
       "      <td>advert_open</td>\n",
       "      <td>305</td>\n",
       "      <td>1.00</td>\n",
       "    </tr>\n",
       "    <tr>\n",
       "      <td>6</td>\n",
       "      <td>search</td>\n",
       "      <td>305</td>\n",
       "      <td>1.00</td>\n",
       "    </tr>\n",
       "    <tr>\n",
       "      <td>7</td>\n",
       "      <td>tips_show</td>\n",
       "      <td>236</td>\n",
       "      <td>0.77</td>\n",
       "    </tr>\n",
       "    <tr>\n",
       "      <td>4</td>\n",
       "      <td>map</td>\n",
       "      <td>207</td>\n",
       "      <td>0.68</td>\n",
       "    </tr>\n",
       "    <tr>\n",
       "      <td>3</td>\n",
       "      <td>favorites_add</td>\n",
       "      <td>68</td>\n",
       "      <td>0.22</td>\n",
       "    </tr>\n",
       "    <tr>\n",
       "      <td>2</td>\n",
       "      <td>contacts_show</td>\n",
       "      <td>67</td>\n",
       "      <td>0.22</td>\n",
       "    </tr>\n",
       "    <tr>\n",
       "      <td>5</td>\n",
       "      <td>photos_show</td>\n",
       "      <td>50</td>\n",
       "      <td>0.16</td>\n",
       "    </tr>\n",
       "    <tr>\n",
       "      <td>1</td>\n",
       "      <td>contacts_call</td>\n",
       "      <td>14</td>\n",
       "      <td>0.05</td>\n",
       "    </tr>\n",
       "  </tbody>\n",
       "</table>\n",
       "</div>"
      ],
      "text/plain": [
       "      event_name  user_id  nmb_uniq_users_pct\n",
       "0    advert_open      305                1.00\n",
       "6         search      305                1.00\n",
       "7      tips_show      236                0.77\n",
       "4            map      207                0.68\n",
       "3  favorites_add       68                0.22\n",
       "2  contacts_show       67                0.22\n",
       "5    photos_show       50                0.16\n",
       "1  contacts_call       14                0.05"
      ]
     },
     "execution_count": 48,
     "metadata": {},
     "output_type": "execute_result"
    }
   ],
   "source": [
    "#Выделим пользователей открывающих объявления после поисковых событий (значение 1)\n",
    "\n",
    "user_id_1 = df_time[df_time['index'] == 1]['user_id'].drop_duplicates()\n",
    "\n",
    "df1 = df_time[df_time['user_id'].isin(user_id_1)]\n",
    "\n",
    "#Построим воронку событий по пользователям открывающим объявления \n",
    "#после поисковых событий (значение 1)\n",
    "\n",
    "df1_tunnel = df1.groupby('event_name').agg({'user_id': 'nunique'}).reset_index().sort_values(by='user_id', ascending=False)\n",
    "df1_tunnel['nmb_uniq_users_pct'] = df1_tunnel['user_id'] / df1['user_id'].unique().shape[0]\n",
    "\n",
    "df1_tunnel\n",
    "\n"
   ]
  },
  {
   "cell_type": "code",
   "execution_count": 49,
   "metadata": {},
   "outputs": [
    {
     "data": {
      "text/html": [
       "<div>\n",
       "<style scoped>\n",
       "    .dataframe tbody tr th:only-of-type {\n",
       "        vertical-align: middle;\n",
       "    }\n",
       "\n",
       "    .dataframe tbody tr th {\n",
       "        vertical-align: top;\n",
       "    }\n",
       "\n",
       "    .dataframe thead th {\n",
       "        text-align: right;\n",
       "    }\n",
       "</style>\n",
       "<table border=\"1\" class=\"dataframe\">\n",
       "  <thead>\n",
       "    <tr style=\"text-align: right;\">\n",
       "      <th></th>\n",
       "      <th>event_name</th>\n",
       "      <th>user_id</th>\n",
       "      <th>nmb_uniq_users_pct</th>\n",
       "    </tr>\n",
       "  </thead>\n",
       "  <tbody>\n",
       "    <tr>\n",
       "      <td>0</td>\n",
       "      <td>advert_open</td>\n",
       "      <td>32</td>\n",
       "      <td>1.00</td>\n",
       "    </tr>\n",
       "    <tr>\n",
       "      <td>4</td>\n",
       "      <td>tips_click</td>\n",
       "      <td>32</td>\n",
       "      <td>1.00</td>\n",
       "    </tr>\n",
       "    <tr>\n",
       "      <td>5</td>\n",
       "      <td>tips_show</td>\n",
       "      <td>26</td>\n",
       "      <td>0.81</td>\n",
       "    </tr>\n",
       "    <tr>\n",
       "      <td>3</td>\n",
       "      <td>map</td>\n",
       "      <td>22</td>\n",
       "      <td>0.69</td>\n",
       "    </tr>\n",
       "    <tr>\n",
       "      <td>2</td>\n",
       "      <td>favorites_add</td>\n",
       "      <td>10</td>\n",
       "      <td>0.31</td>\n",
       "    </tr>\n",
       "    <tr>\n",
       "      <td>1</td>\n",
       "      <td>contacts_show</td>\n",
       "      <td>9</td>\n",
       "      <td>0.28</td>\n",
       "    </tr>\n",
       "  </tbody>\n",
       "</table>\n",
       "</div>"
      ],
      "text/plain": [
       "      event_name  user_id  nmb_uniq_users_pct\n",
       "0    advert_open       32                1.00\n",
       "4     tips_click       32                1.00\n",
       "5      tips_show       26                0.81\n",
       "3            map       22                0.69\n",
       "2  favorites_add       10                0.31\n",
       "1  contacts_show        9                0.28"
      ]
     },
     "execution_count": 49,
     "metadata": {},
     "output_type": "execute_result"
    }
   ],
   "source": [
    "#Выделим пользователей открывающих объявления со страницы рекомендованных объявлений(значение 2)\n",
    "\n",
    "user_id_2 = df_time[df_time['index'] == 2]['user_id'].drop_duplicates()\n",
    "\n",
    "df2 = df_time[df_time['user_id'].isin(user_id_2)]\n",
    "\n",
    "#Построим воронку событий по пользователям открывающим объявления \n",
    "#со страницы рекомендованных объявлений (значение 1)\n",
    "\n",
    "df2_tunnel = df2.groupby('event_name').agg({'user_id': 'nunique'}).reset_index().sort_values(by='user_id', ascending=False)\n",
    "df2_tunnel['nmb_uniq_users_pct'] = df2_tunnel['user_id'] / df2['user_id'].unique().shape[0]\n",
    "\n",
    "df2_tunnel"
   ]
  },
  {
   "cell_type": "markdown",
   "metadata": {},
   "source": [
    "Разницы в просмотре контактных данных и правда особой нет. Интересно, что пользователи открывающих объявления со страницы рекомендованных объявлений не смотрят картинки. Видимо это связано с форматом показа рекомендованных объявлений"
   ]
  },
  {
   "cell_type": "markdown",
   "metadata": {},
   "source": [
    "### Промежуточные выводы"
   ]
  },
  {
   "cell_type": "markdown",
   "metadata": {},
   "source": [
    "Не получено данных о статистически достоверной разнице между пользователями пришедшими из разных источников и их конверсией в целевое действие. Так же не получено данных о статистически достоверной разнице между пользователями совершающими действия **advert_open** и **search** и пользователями совершающими действия **advert_open** и **tips_click**,  и их конверсией в целевое действие."
   ]
  },
  {
   "cell_type": "markdown",
   "metadata": {},
   "source": [
    "## Выводы"
   ]
  },
  {
   "cell_type": "markdown",
   "metadata": {},
   "source": [
    "В целом данные чистые, пропусков не видно. Для удобства мы перевели все названия колонок к единому виду. И перевели время в временный формат. И проверили временный период.\n",
    "\n",
    "Согласно полученным сведениям мы примем следующие расшифровки событий: \n",
    "\n",
    "- advert_open — открытие карточки объявления \n",
    "- photos_show — просмотр фотографий в объявлении \n",
    "- tips_show — пользователь увидел рекомендованные объявления \n",
    "- tips_click — пользователь кликнул по рекомендованному объявлению \n",
    "- contacts_show и show_contacts — пользователь нажал на кнопку \"посмотреть номер телефона\" на карточке объявления \n",
    "- contacts_call — пользователь позвонил по номеру телефона на карточке объявления \n",
    "- map — пользователь открыл карту размещенных объявлений \n",
    "- search_1 — search_7 — разные события, связанные с поиском по сайту \n",
    "- favorites_add — добавление объявления в избранное\n",
    "\n",
    "По первичному взгляду на данные видно, что пользователям постоянно показывают рекомендованные объявления, но похоже нажимают на них плохо. Пользователи много смотрят фотографии, много ищут по сайту. А вот звонки из приложения относительно редки.\n",
    "\n",
    "Очевидно, что retention rate тех, кто просматривает контакты заметно больше. Также очевидно, что это более активные пользователи, которые генерят больше действии и событий\n",
    "\n",
    "Целевая группа проводит вдвое больше времени в приложении, нежели нецелевая. Так же характерно, что количество дневных визитов от  целевой группы на пользователя больше. \n",
    "\n",
    "Целевая группа демонстрирует явно отличные от нецелевой группы показатели - пользователи целевой группы гораздо более активны (27 действий против 14 в среднем) из пятерки самых активных пользователей только один из нецелевой группы. Количество уникальных действий у целевой группы так же больше.\n",
    "\n",
    "Если судить по получившейся предварительной воронке, то у нас нет четкого пути пользователя. На основе предоставленных данных, в разрезе требований к исследованию можно рассматривать только примитивную воронку - **вход в приложение** - **contacts_show** - в данном варианте конверсия в целевое действие составляет **23%** При этом мы можем указать, что для целевой группы характерно несколько большее количество просмотров фото и добавлений объявления в избранное, а для нецелевой группы характерно смотреть на рекомендованные объявления и несколько больше смотреть карту размещённых объявлений.\n",
    "\n",
    "Не получено данных о статистически достоверной разнице между пользователями пришедшими из разных источников и их конверсией в целевое действие. Так же не получено данных о статистически достоверной разнице между пользователями совершающими действия **advert_open** и **search** и пользователями совершающими действия **advert_open** и **tips_click**,  и их конверсией в целевое действие."
   ]
  },
  {
   "cell_type": "markdown",
   "metadata": {},
   "source": [
    "**Рекомендации**\n",
    "\n",
    "Интересующая нас целевая аудитория по всем показателям более активная. \n",
    "- Я рекомендую ввести какие то бонусы за активность в приложении, а так же провести дополнительный сбор данных и  более глубокий анализ пользователей. \n",
    "- Если бы мы смогли получить данные о том, кто из пользователей продаёт, а кто покупает вещи, данные о возрасте, местоположении, стоимостях сделок, времени начала и конца сессии пользователя в приложении то мы могли бы лучше предугадать его поведение\n",
    "- После проработки совместно с отделом маркетинга четкого понимания входов и возможных путей пользователя к просмотру контактов, мы смогли бы сказать больше о том, как улучшить конверсию и убрать проблемные точки."
   ]
  }
 ],
 "metadata": {
  "ExecuteTimeLog": [
   {
    "duration": 29571,
    "start_time": "2022-01-25T12:49:54.048Z"
   },
   {
    "duration": 228,
    "start_time": "2022-01-25T12:50:23.622Z"
   },
   {
    "duration": 147,
    "start_time": "2022-01-25T12:50:23.852Z"
   },
   {
    "duration": 529,
    "start_time": "2022-01-25T12:50:24.002Z"
   },
   {
    "duration": -136,
    "start_time": "2022-01-25T12:50:24.673Z"
   },
   {
    "duration": -139,
    "start_time": "2022-01-25T12:50:24.677Z"
   },
   {
    "duration": -142,
    "start_time": "2022-01-25T12:50:24.682Z"
   },
   {
    "duration": -144,
    "start_time": "2022-01-25T12:50:24.685Z"
   },
   {
    "duration": -183,
    "start_time": "2022-01-25T12:50:24.725Z"
   },
   {
    "duration": -184,
    "start_time": "2022-01-25T12:50:24.728Z"
   },
   {
    "duration": -186,
    "start_time": "2022-01-25T12:50:24.731Z"
   },
   {
    "duration": -190,
    "start_time": "2022-01-25T12:50:24.736Z"
   },
   {
    "duration": -192,
    "start_time": "2022-01-25T12:50:24.739Z"
   },
   {
    "duration": -193,
    "start_time": "2022-01-25T12:50:24.742Z"
   },
   {
    "duration": -195,
    "start_time": "2022-01-25T12:50:24.745Z"
   },
   {
    "duration": -197,
    "start_time": "2022-01-25T12:50:24.748Z"
   },
   {
    "duration": -199,
    "start_time": "2022-01-25T12:50:24.752Z"
   },
   {
    "duration": -202,
    "start_time": "2022-01-25T12:50:24.756Z"
   },
   {
    "duration": -203,
    "start_time": "2022-01-25T12:50:24.759Z"
   },
   {
    "duration": -206,
    "start_time": "2022-01-25T12:50:24.763Z"
   },
   {
    "duration": -206,
    "start_time": "2022-01-25T12:50:24.768Z"
   },
   {
    "duration": -206,
    "start_time": "2022-01-25T12:50:24.771Z"
   },
   {
    "duration": -206,
    "start_time": "2022-01-25T12:50:24.774Z"
   },
   {
    "duration": -207,
    "start_time": "2022-01-25T12:50:24.777Z"
   },
   {
    "duration": -207,
    "start_time": "2022-01-25T12:50:24.780Z"
   },
   {
    "duration": -209,
    "start_time": "2022-01-25T12:50:24.784Z"
   },
   {
    "duration": -210,
    "start_time": "2022-01-25T12:50:24.787Z"
   },
   {
    "duration": -211,
    "start_time": "2022-01-25T12:50:24.790Z"
   },
   {
    "duration": -213,
    "start_time": "2022-01-25T12:50:24.794Z"
   },
   {
    "duration": -215,
    "start_time": "2022-01-25T12:50:24.797Z"
   },
   {
    "duration": -217,
    "start_time": "2022-01-25T12:50:24.801Z"
   },
   {
    "duration": -219,
    "start_time": "2022-01-25T12:50:24.804Z"
   },
   {
    "duration": -220,
    "start_time": "2022-01-25T12:50:24.807Z"
   },
   {
    "duration": -221,
    "start_time": "2022-01-25T12:50:24.810Z"
   },
   {
    "duration": -224,
    "start_time": "2022-01-25T12:50:24.814Z"
   },
   {
    "duration": -225,
    "start_time": "2022-01-25T12:50:24.817Z"
   },
   {
    "duration": -228,
    "start_time": "2022-01-25T12:50:24.821Z"
   },
   {
    "duration": -230,
    "start_time": "2022-01-25T12:50:24.825Z"
   },
   {
    "duration": -233,
    "start_time": "2022-01-25T12:50:24.829Z"
   },
   {
    "duration": -234,
    "start_time": "2022-01-25T12:50:24.832Z"
   },
   {
    "duration": -237,
    "start_time": "2022-01-25T12:50:24.837Z"
   },
   {
    "duration": -240,
    "start_time": "2022-01-25T12:50:24.841Z"
   },
   {
    "duration": -241,
    "start_time": "2022-01-25T12:50:24.844Z"
   },
   {
    "duration": -188,
    "start_time": "2022-01-25T12:50:24.848Z"
   },
   {
    "duration": -189,
    "start_time": "2022-01-25T12:50:24.853Z"
   },
   {
    "duration": -188,
    "start_time": "2022-01-25T12:50:24.856Z"
   },
   {
    "duration": -191,
    "start_time": "2022-01-25T12:50:24.861Z"
   },
   {
    "duration": -191,
    "start_time": "2022-01-25T12:50:24.864Z"
   },
   {
    "duration": -195,
    "start_time": "2022-01-25T12:50:24.870Z"
   },
   {
    "duration": -196,
    "start_time": "2022-01-25T12:50:24.874Z"
   },
   {
    "duration": -199,
    "start_time": "2022-01-25T12:50:24.878Z"
   },
   {
    "duration": -200,
    "start_time": "2022-01-25T12:50:24.881Z"
   },
   {
    "duration": 48586,
    "start_time": "2022-01-25T12:53:57.507Z"
   },
   {
    "duration": 169,
    "start_time": "2022-01-25T12:54:46.096Z"
   },
   {
    "duration": 211,
    "start_time": "2022-01-25T12:54:46.268Z"
   },
   {
    "duration": 45,
    "start_time": "2022-01-25T12:54:46.482Z"
   },
   {
    "duration": 174,
    "start_time": "2022-01-25T12:54:46.530Z"
   },
   {
    "duration": 7,
    "start_time": "2022-01-25T12:54:46.706Z"
   },
   {
    "duration": 218,
    "start_time": "2022-01-25T12:54:46.716Z"
   },
   {
    "duration": 1958,
    "start_time": "2022-01-25T12:54:46.937Z"
   },
   {
    "duration": 74,
    "start_time": "2022-01-25T12:54:48.899Z"
   },
   {
    "duration": 19,
    "start_time": "2022-01-25T12:54:48.977Z"
   },
   {
    "duration": 17,
    "start_time": "2022-01-25T12:54:48.999Z"
   },
   {
    "duration": 19,
    "start_time": "2022-01-25T12:54:49.018Z"
   },
   {
    "duration": 63,
    "start_time": "2022-01-25T12:54:49.040Z"
   },
   {
    "duration": 2992,
    "start_time": "2022-01-25T12:54:49.105Z"
   },
   {
    "duration": 249,
    "start_time": "2022-01-25T12:54:52.099Z"
   },
   {
    "duration": 813,
    "start_time": "2022-01-25T12:54:52.351Z"
   },
   {
    "duration": 22,
    "start_time": "2022-01-25T12:54:53.167Z"
   },
   {
    "duration": 21,
    "start_time": "2022-01-25T12:54:53.193Z"
   },
   {
    "duration": 81,
    "start_time": "2022-01-25T12:54:53.217Z"
   },
   {
    "duration": 94,
    "start_time": "2022-01-25T12:54:53.301Z"
   },
   {
    "duration": 912,
    "start_time": "2022-01-25T12:54:53.398Z"
   },
   {
    "duration": 921,
    "start_time": "2022-01-25T12:54:54.314Z"
   },
   {
    "duration": 93,
    "start_time": "2022-01-25T12:54:55.238Z"
   },
   {
    "duration": 1187,
    "start_time": "2022-01-25T12:54:55.334Z"
   },
   {
    "duration": 1144,
    "start_time": "2022-01-25T12:54:56.524Z"
   },
   {
    "duration": 1208,
    "start_time": "2022-01-25T12:54:57.671Z"
   },
   {
    "duration": 34,
    "start_time": "2022-01-25T12:54:58.885Z"
   },
   {
    "duration": 1075,
    "start_time": "2022-01-25T12:54:58.921Z"
   },
   {
    "duration": 85,
    "start_time": "2022-01-25T12:54:59.999Z"
   },
   {
    "duration": 1188,
    "start_time": "2022-01-25T12:55:00.086Z"
   },
   {
    "duration": 891,
    "start_time": "2022-01-25T12:55:01.277Z"
   },
   {
    "duration": 720,
    "start_time": "2022-01-25T12:55:02.172Z"
   },
   {
    "duration": 1092,
    "start_time": "2022-01-25T12:55:02.895Z"
   },
   {
    "duration": 843,
    "start_time": "2022-01-25T12:55:03.990Z"
   },
   {
    "duration": 551,
    "start_time": "2022-01-25T12:55:04.835Z"
   },
   {
    "duration": 522,
    "start_time": "2022-01-25T12:55:05.389Z"
   },
   {
    "duration": 983,
    "start_time": "2022-01-25T12:55:05.913Z"
   },
   {
    "duration": 921,
    "start_time": "2022-01-25T12:55:06.898Z"
   },
   {
    "duration": 633,
    "start_time": "2022-01-25T12:55:07.821Z"
   },
   {
    "duration": 599,
    "start_time": "2022-01-25T12:55:08.460Z"
   },
   {
    "duration": 118,
    "start_time": "2022-01-25T12:55:09.062Z"
   },
   {
    "duration": 114,
    "start_time": "2022-01-25T12:55:09.183Z"
   },
   {
    "duration": 110,
    "start_time": "2022-01-25T12:55:09.300Z"
   },
   {
    "duration": 47,
    "start_time": "2022-01-25T12:55:09.412Z"
   },
   {
    "duration": 62,
    "start_time": "2022-01-25T12:55:09.464Z"
   },
   {
    "duration": 14,
    "start_time": "2022-01-25T12:55:09.529Z"
   },
   {
    "duration": 11,
    "start_time": "2022-01-25T12:55:09.559Z"
   },
   {
    "duration": 39469,
    "start_time": "2022-01-25T12:55:09.573Z"
   },
   {
    "duration": 129,
    "start_time": "2022-01-25T12:55:49.045Z"
   },
   {
    "duration": 201,
    "start_time": "2022-01-25T12:55:49.177Z"
   },
   {
    "duration": 101,
    "start_time": "2022-01-25T12:55:49.381Z"
   },
   {
    "duration": 112,
    "start_time": "2022-01-25T12:55:49.486Z"
   },
   {
    "duration": 41,
    "start_time": "2022-01-25T13:34:32.722Z"
   }
  ],
  "kernelspec": {
   "display_name": "Python 3",
   "language": "python",
   "name": "python3"
  },
  "language_info": {
   "codemirror_mode": {
    "name": "ipython",
    "version": 3
   },
   "file_extension": ".py",
   "mimetype": "text/x-python",
   "name": "python",
   "nbconvert_exporter": "python",
   "pygments_lexer": "ipython3",
   "version": "3.7.10"
  },
  "toc": {
   "base_numbering": 1,
   "nav_menu": {},
   "number_sections": true,
   "sideBar": true,
   "skip_h1_title": true,
   "title_cell": "Table of Contents",
   "title_sidebar": "Contents",
   "toc_cell": true,
   "toc_position": {
    "height": "calc(100% - 180px)",
    "left": "10px",
    "top": "150px",
    "width": "238.26px"
   },
   "toc_section_display": true,
   "toc_window_display": true
  }
 },
 "nbformat": 4,
 "nbformat_minor": 2
}
