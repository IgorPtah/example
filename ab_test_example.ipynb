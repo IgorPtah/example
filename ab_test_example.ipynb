{
 "cells": [
  {
   "cell_type": "markdown",
   "metadata": {},
   "source": [
    "# Оценка результатов A/B-теста"
   ]
  },
  {
   "cell_type": "markdown",
   "metadata": {},
   "source": [
    "## Вводные данные"
   ]
  },
  {
   "cell_type": "markdown",
   "metadata": {},
   "source": [
    "Нам поступила задача оценить качество и результаты A/B-теста. Для выполнения задачи был предоставлен датасет с действиями пользователей, техническое задание и вспомогательные датасеты.\n",
    "\n",
    "**Техническое задание**\n",
    "\n",
    "•\tНазвание теста: recommender_system_test;\n",
    "\n",
    "•\tгруппы: А — контрольная, B — новая платёжная воронка;\n",
    "\n",
    "•\tдата запуска: 2020-12-07;\n",
    "\n",
    "•\tдата остановки набора новых пользователей: 2020-12-21;\n",
    "\n",
    "•\tдата остановки: 2021-01-04;\n",
    "\n",
    "•\tаудитория: 15% новых пользователей из региона EU;\n",
    "\n",
    "•\tназначение теста: тестирование изменений, связанных с внедрением улучшенной рекомендательной системы;\n",
    "\n",
    "•\tожидаемое количество участников теста: 6000.\n",
    "\n",
    "•\tожидаемый эффект: за 14 дней с момента регистрации пользователи покажут улучшение каждой метрики не менее, чем на 10%: \n",
    "        - конверсии в просмотр карточек товаров — событие product_page,\n",
    "        - просмотры корзины — product_cart,\n",
    "        - покупки — purchase.\n"
   ]
  },
  {
   "cell_type": "markdown",
   "metadata": {},
   "source": [
    "### Планы исследования"
   ]
  },
  {
   "cell_type": "markdown",
   "metadata": {},
   "source": [
    "Для выполнения задачи мы выполним следующие шаги:\n",
    "\n",
    "1. Загрузим, изучим и подготовим данные к анализу\n",
    "2. Оценим корректность проведения теста, для этого проверим пересечение тестовой аудитории с конкурирующим тестом, возможные совпадения теста и маркетинговых событий, а также проблемы временных границ теста.\n",
    "3. Проанализируем результаты теста\n",
    "4. Оформим выводы"
   ]
  },
  {
   "cell_type": "markdown",
   "metadata": {},
   "source": [
    "## Загрузка и подготовка данных к анализу"
   ]
  },
  {
   "cell_type": "markdown",
   "metadata": {},
   "source": [
    "Загрузим необходимые библиотеки и переданный нам датасет"
   ]
  },
  {
   "cell_type": "code",
   "execution_count": 1,
   "metadata": {},
   "outputs": [],
   "source": [
    "# импортируем необходимые нам библиотеки\n",
    "import pandas as pd\n",
    "import matplotlib.pyplot as plt\n",
    "import seaborn as sns\n",
    "import numpy as np\n",
    "import math as math\n",
    "import collections\n",
    "from collections import defaultdict\n",
    "import datetime as dt\n",
    "from cycler import cycler\n",
    "from scipy import stats as st\n",
    "import plotly.express as px\n",
    "from plotly import graph_objects as go\n",
    "from IPython.display import display, HTML\n",
    "import warnings\n",
    "from statsmodels.stats.proportion import proportions_ztest\n",
    "\n",
    "#введем некотрые настройки\n",
    "warnings.filterwarnings(\"ignore\")\n",
    "pd.set_option('max_colwidth', 400)\n",
    "plt.rcParams.update({'figure.figsize': (15,8)})"
   ]
  },
  {
   "cell_type": "code",
   "execution_count": 2,
   "metadata": {},
   "outputs": [
    {
     "name": "stdout",
     "output_type": "stream",
     "text": [
      "файл с данными подключен\n",
      "файл с данными подключен\n",
      "файл с данными подключен\n",
      "файл с данными подключен\n"
     ]
    }
   ],
   "source": [
    "#Подключим файлы с данными \n",
    "\n",
    "try:\n",
    "    marketing_events = pd.read_csv('/datasets/ab_project_marketing_events.csv')\n",
    "except:\n",
    "    print('файл с данными не подключен')\n",
    "else:\n",
    "    print('файл с данными подключен')\n",
    "\n",
    "\n",
    "try:\n",
    "    new_users = pd.read_csv('/datasets/final_ab_new_users.csv')\n",
    "except:\n",
    "    print('файл с данными не подключен')\n",
    "else:\n",
    "    print('файл с данными подключен')\n",
    "\n",
    "\n",
    "try:\n",
    "    users_event = pd.read_csv('/datasets/final_ab_events.csv')\n",
    "except:\n",
    "    print('файл с данными не подключен')\n",
    "else:\n",
    "    print('файл с данными подключен')\n",
    "\n",
    "\n",
    "try:\n",
    "    users = pd.read_csv('/datasets/final_ab_participants.csv')\n",
    "except:\n",
    "    print('файл с данными не подключен')\n",
    "else:\n",
    "    print('файл с данными подключен')"
   ]
  },
  {
   "cell_type": "markdown",
   "metadata": {},
   "source": [
    "Согласно описанию данных предоставленому заказчиком:"
   ]
  },
  {
   "cell_type": "markdown",
   "metadata": {},
   "source": [
    "marketing_events — календарь маркетинговых событий на 2020 год.\n",
    "\n",
    "Структура файла:\n",
    "\n",
    "•\tname — название маркетингового события;\n",
    "\n",
    "•\tregions — регионы, в которых будет проводиться рекламная кампания;\n",
    "\n",
    "•\tstart_dt — дата начала кампании;\n",
    "\n",
    "•\tfinish_dt — дата завершения кампании.\n",
    "\n",
    "\n",
    "new_users — пользователи, зарегистрировавшиеся с 7 по 21 декабря 2020 года.\n",
    "\n",
    "Структура файла:\n",
    "\n",
    "•\tuser_id — идентификатор пользователя;\n",
    "\n",
    "•\tfirst_date — дата регистрации;\n",
    "\n",
    "•\tregion — регион пользователя;\n",
    "\n",
    "•\tdevice — устройство, с которого происходила регистрация.\n",
    "\n",
    "\n",
    "users_event — действия новых пользователей в период с 7 декабря 2020 по 4 января 2021 года.\n",
    "\n",
    "Структура файла:\n",
    "\n",
    "•\tuser_id — идентификатор пользователя;\n",
    "\n",
    "•\tevent_dt — дата и время покупки;\n",
    "\n",
    "•\tevent_name — тип события;\n",
    "\n",
    "•\tdetails — дополнительные данные о событии. Например, для покупок, purchase, в этом поле хранится стоимость покупки в долларах.\n",
    "\n",
    "\n",
    "users — таблица участников тестов.\n",
    "\n",
    "Структура файла:\n",
    "\n",
    "•\tuser_id — идентификатор пользователя;\n",
    "\n",
    "•\tab_test — название теста;\n",
    "\n",
    "•\tgroup — группа пользователя.\n",
    "\n"
   ]
  },
  {
   "cell_type": "markdown",
   "metadata": {},
   "source": [
    "Проверим полученные данные"
   ]
  },
  {
   "cell_type": "code",
   "execution_count": 3,
   "metadata": {},
   "outputs": [
    {
     "name": "stdout",
     "output_type": "stream",
     "text": [
      "Таблица marketing_events — календарь маркетинговых событий на 2020 год.\n",
      " \n",
      "Общая информация о данных\n",
      "<class 'pandas.core.frame.DataFrame'>\n",
      "RangeIndex: 14 entries, 0 to 13\n",
      "Data columns (total 4 columns):\n",
      "name         14 non-null object\n",
      "regions      14 non-null object\n",
      "start_dt     14 non-null object\n",
      "finish_dt    14 non-null object\n",
      "dtypes: object(4)\n",
      "memory usage: 576.0+ bytes\n",
      " \n",
      "Описание данных\n",
      "                            name regions    start_dt   finish_dt\n",
      "count                         14      14          14          14\n",
      "unique                        14       6          14          14\n",
      "top     Christmas&New Year Promo    APAC  2020-05-09  2020-05-03\n",
      "freq                           1       4           1           1\n",
      " \n",
      "Случайная выборка данных\n"
     ]
    },
    {
     "data": {
      "text/html": [
       "<div>\n",
       "<style scoped>\n",
       "    .dataframe tbody tr th:only-of-type {\n",
       "        vertical-align: middle;\n",
       "    }\n",
       "\n",
       "    .dataframe tbody tr th {\n",
       "        vertical-align: top;\n",
       "    }\n",
       "\n",
       "    .dataframe thead th {\n",
       "        text-align: right;\n",
       "    }\n",
       "</style>\n",
       "<table border=\"1\" class=\"dataframe\">\n",
       "  <thead>\n",
       "    <tr style=\"text-align: right;\">\n",
       "      <th></th>\n",
       "      <th>name</th>\n",
       "      <th>regions</th>\n",
       "      <th>start_dt</th>\n",
       "      <th>finish_dt</th>\n",
       "    </tr>\n",
       "  </thead>\n",
       "  <tbody>\n",
       "    <tr>\n",
       "      <td>3</td>\n",
       "      <td>Easter Promo</td>\n",
       "      <td>EU, CIS, APAC, N.America</td>\n",
       "      <td>2020-04-12</td>\n",
       "      <td>2020-04-19</td>\n",
       "    </tr>\n",
       "    <tr>\n",
       "      <td>7</td>\n",
       "      <td>Labor day (May 1st) Ads Campaign</td>\n",
       "      <td>EU, CIS, APAC</td>\n",
       "      <td>2020-05-01</td>\n",
       "      <td>2020-05-03</td>\n",
       "    </tr>\n",
       "    <tr>\n",
       "      <td>6</td>\n",
       "      <td>Chinese New Year Promo</td>\n",
       "      <td>APAC</td>\n",
       "      <td>2020-01-25</td>\n",
       "      <td>2020-02-07</td>\n",
       "    </tr>\n",
       "    <tr>\n",
       "      <td>2</td>\n",
       "      <td>St. Patric's Day Promo</td>\n",
       "      <td>EU, N.America</td>\n",
       "      <td>2020-03-17</td>\n",
       "      <td>2020-03-19</td>\n",
       "    </tr>\n",
       "    <tr>\n",
       "      <td>10</td>\n",
       "      <td>CIS New Year Gift Lottery</td>\n",
       "      <td>CIS</td>\n",
       "      <td>2020-12-30</td>\n",
       "      <td>2021-01-07</td>\n",
       "    </tr>\n",
       "  </tbody>\n",
       "</table>\n",
       "</div>"
      ],
      "text/plain": [
       "                                name                   regions    start_dt  \\\n",
       "3                       Easter Promo  EU, CIS, APAC, N.America  2020-04-12   \n",
       "7   Labor day (May 1st) Ads Campaign             EU, CIS, APAC  2020-05-01   \n",
       "6             Chinese New Year Promo                      APAC  2020-01-25   \n",
       "2             St. Patric's Day Promo             EU, N.America  2020-03-17   \n",
       "10         CIS New Year Gift Lottery                       CIS  2020-12-30   \n",
       "\n",
       "     finish_dt  \n",
       "3   2020-04-19  \n",
       "7   2020-05-03  \n",
       "6   2020-02-07  \n",
       "2   2020-03-19  \n",
       "10  2021-01-07  "
      ]
     },
     "execution_count": 3,
     "metadata": {},
     "output_type": "execute_result"
    }
   ],
   "source": [
    "print('Таблица marketing_events — календарь маркетинговых событий на 2020 год.')\n",
    "#Просмотрим общую информацию о данных\n",
    "\n",
    "print (' ')\n",
    "print ('Общая информация о данных')\n",
    "marketing_events.info()\n",
    "\n",
    "#Просмотрим данные функцией describle\n",
    "\n",
    "print (' ')\n",
    "print ('Описание данных')\n",
    "print(marketing_events.describe())\n",
    "print (' ')\n",
    "\n",
    "# Применим случайную выборку данных для первичного ознакомления\n",
    "# Укажем параметр random_state=1, для сохранения результата при повторных запусках алгоритма, если нам\n",
    "# вдруг понадобится\n",
    "\n",
    "print ('Случайная выборка данных')\n",
    "marketing_events.sample(5, random_state=1)"
   ]
  },
  {
   "cell_type": "markdown",
   "metadata": {},
   "source": [
    "В целом данные чистые. Строк немного, необходимо преобразовать значения столбцов с датами маркетинговых событий в формат даты.\n",
    "\n",
    "Проверим наличие дубликатов и пропусков"
   ]
  },
  {
   "cell_type": "code",
   "execution_count": 4,
   "metadata": {},
   "outputs": [
    {
     "name": "stdout",
     "output_type": "stream",
     "text": [
      "\u001b[1mКоличество пропусков:\u001b[0m\n"
     ]
    },
    {
     "data": {
      "text/plain": [
       "name         0\n",
       "regions      0\n",
       "start_dt     0\n",
       "finish_dt    0\n",
       "dtype: int64"
      ]
     },
     "metadata": {},
     "output_type": "display_data"
    },
    {
     "name": "stdout",
     "output_type": "stream",
     "text": [
      "=============================================\n",
      "\n",
      "\u001b[1mКоличество явных дубликатов:\u001b[0m 0\n"
     ]
    }
   ],
   "source": [
    "print('\\033[1m' + 'Количество пропусков:' + '\\033[0m')\n",
    "display(marketing_events.isna().sum())\n",
    "print('=' * 45)\n",
    "print()\n",
    "\n",
    "print('\\033[1m' + 'Количество явных дубликатов:' + '\\033[0m', \n",
    "      marketing_events.duplicated().sum())"
   ]
  },
  {
   "cell_type": "code",
   "execution_count": 5,
   "metadata": {},
   "outputs": [
    {
     "name": "stdout",
     "output_type": "stream",
     "text": [
      "Таблица new_users — пользователи, зарегистрировавшиеся с 7 по 21 декабря 2020 года.\n",
      " \n",
      "Общая информация о данных\n",
      "<class 'pandas.core.frame.DataFrame'>\n",
      "RangeIndex: 61733 entries, 0 to 61732\n",
      "Data columns (total 4 columns):\n",
      "user_id       61733 non-null object\n",
      "first_date    61733 non-null object\n",
      "region        61733 non-null object\n",
      "device        61733 non-null object\n",
      "dtypes: object(4)\n",
      "memory usage: 1.9+ MB\n",
      " \n",
      "Описание данных\n",
      "                 user_id  first_date region   device\n",
      "count              61733       61733  61733    61733\n",
      "unique             61733          17      4        4\n",
      "top     D794AAA811213F0E  2020-12-21     EU  Android\n",
      "freq                   1        6290  46270    27520\n",
      " \n",
      "Случайная выборка данных\n"
     ]
    },
    {
     "data": {
      "text/html": [
       "<div>\n",
       "<style scoped>\n",
       "    .dataframe tbody tr th:only-of-type {\n",
       "        vertical-align: middle;\n",
       "    }\n",
       "\n",
       "    .dataframe tbody tr th {\n",
       "        vertical-align: top;\n",
       "    }\n",
       "\n",
       "    .dataframe thead th {\n",
       "        text-align: right;\n",
       "    }\n",
       "</style>\n",
       "<table border=\"1\" class=\"dataframe\">\n",
       "  <thead>\n",
       "    <tr style=\"text-align: right;\">\n",
       "      <th></th>\n",
       "      <th>user_id</th>\n",
       "      <th>first_date</th>\n",
       "      <th>region</th>\n",
       "      <th>device</th>\n",
       "    </tr>\n",
       "  </thead>\n",
       "  <tbody>\n",
       "    <tr>\n",
       "      <td>48237</td>\n",
       "      <td>02CC199625AFDAE6</td>\n",
       "      <td>2020-12-12</td>\n",
       "      <td>EU</td>\n",
       "      <td>Android</td>\n",
       "    </tr>\n",
       "    <tr>\n",
       "      <td>30424</td>\n",
       "      <td>7B48E72587EFD2C5</td>\n",
       "      <td>2020-12-16</td>\n",
       "      <td>EU</td>\n",
       "      <td>iPhone</td>\n",
       "    </tr>\n",
       "    <tr>\n",
       "      <td>41509</td>\n",
       "      <td>4CF8E8855FB1A493</td>\n",
       "      <td>2020-12-11</td>\n",
       "      <td>EU</td>\n",
       "      <td>iPhone</td>\n",
       "    </tr>\n",
       "    <tr>\n",
       "      <td>16079</td>\n",
       "      <td>4734A67AF2ABE4A2</td>\n",
       "      <td>2020-12-21</td>\n",
       "      <td>EU</td>\n",
       "      <td>PC</td>\n",
       "    </tr>\n",
       "    <tr>\n",
       "      <td>31356</td>\n",
       "      <td>8EE10B875F4C87FB</td>\n",
       "      <td>2020-12-23</td>\n",
       "      <td>EU</td>\n",
       "      <td>PC</td>\n",
       "    </tr>\n",
       "  </tbody>\n",
       "</table>\n",
       "</div>"
      ],
      "text/plain": [
       "                user_id  first_date region   device\n",
       "48237  02CC199625AFDAE6  2020-12-12     EU  Android\n",
       "30424  7B48E72587EFD2C5  2020-12-16     EU   iPhone\n",
       "41509  4CF8E8855FB1A493  2020-12-11     EU   iPhone\n",
       "16079  4734A67AF2ABE4A2  2020-12-21     EU       PC\n",
       "31356  8EE10B875F4C87FB  2020-12-23     EU       PC"
      ]
     },
     "execution_count": 5,
     "metadata": {},
     "output_type": "execute_result"
    }
   ],
   "source": [
    "print('Таблица new_users — пользователи, зарегистрировавшиеся с 7 по 21 декабря 2020 года.')\n",
    "#Просмотрим общую информацию о данных\n",
    "\n",
    "print (' ')\n",
    "print ('Общая информация о данных')\n",
    "new_users.info()\n",
    "\n",
    "#Просмотрим данные функцией describle\n",
    "\n",
    "print (' ')\n",
    "print ('Описание данных')\n",
    "print(new_users.describe())\n",
    "print (' ')\n",
    "\n",
    "# Применим случайную выборку данных для первичного ознакомления\n",
    "# Укажем параметр random_state=1, для сохранения результата при повторных запусках алгоритма, если нам\n",
    "# вдруг понадобится\n",
    "\n",
    "print ('Случайная выборка данных')\n",
    "new_users.sample(5, random_state=1)"
   ]
  },
  {
   "cell_type": "markdown",
   "metadata": {},
   "source": [
    "В целом данные чистые. Новые пользователи видимо указаны не из всех регионов, необходимо преобразовать значения столбцов с датами маркетинговых событий в формат даты.\n",
    "\n",
    "Проверим наличие дубликатов и пропусков"
   ]
  },
  {
   "cell_type": "code",
   "execution_count": 6,
   "metadata": {},
   "outputs": [
    {
     "name": "stdout",
     "output_type": "stream",
     "text": [
      "\u001b[1mКоличество пропусков:\u001b[0m\n"
     ]
    },
    {
     "data": {
      "text/plain": [
       "user_id       0\n",
       "first_date    0\n",
       "region        0\n",
       "device        0\n",
       "dtype: int64"
      ]
     },
     "metadata": {},
     "output_type": "display_data"
    },
    {
     "name": "stdout",
     "output_type": "stream",
     "text": [
      "=============================================\n",
      "\n",
      "\u001b[1mКоличество явных дубликатов:\u001b[0m 0\n"
     ]
    }
   ],
   "source": [
    "print('\\033[1m' + 'Количество пропусков:' + '\\033[0m')\n",
    "display(new_users.isna().sum())\n",
    "print('=' * 45)\n",
    "print()\n",
    "\n",
    "print('\\033[1m' + 'Количество явных дубликатов:' + '\\033[0m', \n",
    "      new_users.duplicated().sum())"
   ]
  },
  {
   "cell_type": "code",
   "execution_count": 7,
   "metadata": {},
   "outputs": [
    {
     "name": "stdout",
     "output_type": "stream",
     "text": [
      "Таблица users_event — действия новых пользователей в период с 7 декабря 2020 по 4 января 2021 года.\n",
      " \n",
      "Общая информация о данных\n",
      "<class 'pandas.core.frame.DataFrame'>\n",
      "RangeIndex: 440317 entries, 0 to 440316\n",
      "Data columns (total 4 columns):\n",
      "user_id       440317 non-null object\n",
      "event_dt      440317 non-null object\n",
      "event_name    440317 non-null object\n",
      "details       62740 non-null float64\n",
      "dtypes: float64(1), object(3)\n",
      "memory usage: 13.4+ MB\n",
      " \n",
      "Описание данных\n",
      "            details\n",
      "count  62740.000000\n",
      "mean      23.877631\n",
      "std       72.180465\n",
      "min        4.990000\n",
      "25%        4.990000\n",
      "50%        4.990000\n",
      "75%        9.990000\n",
      "max      499.990000\n",
      " \n",
      "Случайная выборка данных\n"
     ]
    },
    {
     "data": {
      "text/html": [
       "<div>\n",
       "<style scoped>\n",
       "    .dataframe tbody tr th:only-of-type {\n",
       "        vertical-align: middle;\n",
       "    }\n",
       "\n",
       "    .dataframe tbody tr th {\n",
       "        vertical-align: top;\n",
       "    }\n",
       "\n",
       "    .dataframe thead th {\n",
       "        text-align: right;\n",
       "    }\n",
       "</style>\n",
       "<table border=\"1\" class=\"dataframe\">\n",
       "  <thead>\n",
       "    <tr style=\"text-align: right;\">\n",
       "      <th></th>\n",
       "      <th>user_id</th>\n",
       "      <th>event_dt</th>\n",
       "      <th>event_name</th>\n",
       "      <th>details</th>\n",
       "    </tr>\n",
       "  </thead>\n",
       "  <tbody>\n",
       "    <tr>\n",
       "      <td>430731</td>\n",
       "      <td>461D7854B605AAB9</td>\n",
       "      <td>2020-12-27 23:34:25</td>\n",
       "      <td>login</td>\n",
       "      <td>NaN</td>\n",
       "    </tr>\n",
       "    <tr>\n",
       "      <td>381054</td>\n",
       "      <td>D782133D1D8B85BE</td>\n",
       "      <td>2020-12-22 21:08:44</td>\n",
       "      <td>login</td>\n",
       "      <td>NaN</td>\n",
       "    </tr>\n",
       "    <tr>\n",
       "      <td>65035</td>\n",
       "      <td>AC4949137A02EAA0</td>\n",
       "      <td>2020-12-08 06:02:05</td>\n",
       "      <td>product_cart</td>\n",
       "      <td>NaN</td>\n",
       "    </tr>\n",
       "    <tr>\n",
       "      <td>415170</td>\n",
       "      <td>D65AC7DF92658B02</td>\n",
       "      <td>2020-12-25 03:13:54</td>\n",
       "      <td>login</td>\n",
       "      <td>NaN</td>\n",
       "    </tr>\n",
       "    <tr>\n",
       "      <td>195543</td>\n",
       "      <td>474B8825FC16CBFB</td>\n",
       "      <td>2020-12-20 15:30:27</td>\n",
       "      <td>product_page</td>\n",
       "      <td>NaN</td>\n",
       "    </tr>\n",
       "  </tbody>\n",
       "</table>\n",
       "</div>"
      ],
      "text/plain": [
       "                 user_id             event_dt    event_name  details\n",
       "430731  461D7854B605AAB9  2020-12-27 23:34:25         login      NaN\n",
       "381054  D782133D1D8B85BE  2020-12-22 21:08:44         login      NaN\n",
       "65035   AC4949137A02EAA0  2020-12-08 06:02:05  product_cart      NaN\n",
       "415170  D65AC7DF92658B02  2020-12-25 03:13:54         login      NaN\n",
       "195543  474B8825FC16CBFB  2020-12-20 15:30:27  product_page      NaN"
      ]
     },
     "execution_count": 7,
     "metadata": {},
     "output_type": "execute_result"
    }
   ],
   "source": [
    "print('Таблица users_event — действия новых пользователей в период с 7 декабря 2020 по 4 января 2021 года.')\n",
    "#Просмотрим общую информацию о данных\n",
    "\n",
    "print (' ')\n",
    "print ('Общая информация о данных')\n",
    "users_event.info()\n",
    "\n",
    "#Просмотрим данные функцией describle\n",
    "\n",
    "print (' ')\n",
    "print ('Описание данных')\n",
    "print(users_event.describe())\n",
    "print (' ')\n",
    "\n",
    "# Применим случайную выборку данных для первичного ознакомления\n",
    "# Укажем параметр random_state=1, для сохранения результата при повторных запусках алгоритма, если нам\n",
    "# вдруг понадобится\n",
    "\n",
    "print ('Случайная выборка данных')\n",
    "users_event.sample(5, random_state=1)"
   ]
  },
  {
   "cell_type": "markdown",
   "metadata": {},
   "source": [
    "В целом данные чистые. Необходимо преобразовать значения столбца с датами в формат даты.\n",
    "\n",
    "Проверим наличие дубликатов и пропусков"
   ]
  },
  {
   "cell_type": "code",
   "execution_count": 8,
   "metadata": {},
   "outputs": [
    {
     "name": "stdout",
     "output_type": "stream",
     "text": [
      "\u001b[1mКоличество пропусков:\u001b[0m\n"
     ]
    },
    {
     "data": {
      "text/plain": [
       "user_id            0\n",
       "event_dt           0\n",
       "event_name         0\n",
       "details       377577\n",
       "dtype: int64"
      ]
     },
     "metadata": {},
     "output_type": "display_data"
    },
    {
     "name": "stdout",
     "output_type": "stream",
     "text": [
      "=============================================\n",
      "\n",
      "\u001b[1mКоличество явных дубликатов:\u001b[0m 0\n"
     ]
    }
   ],
   "source": [
    "print('\\033[1m' + 'Количество пропусков:' + '\\033[0m')\n",
    "display(users_event.isna().sum())\n",
    "print('=' * 45)\n",
    "print()\n",
    "\n",
    "print('\\033[1m' + 'Количество явных дубликатов:' + '\\033[0m', \n",
    "      users_event.duplicated().sum())"
   ]
  },
  {
   "cell_type": "markdown",
   "metadata": {},
   "source": [
    "Очевидно, что в столбце details значения указаны не во всех из 440317 действий пользователя, а скорее в нескольких действиях."
   ]
  },
  {
   "cell_type": "code",
   "execution_count": 9,
   "metadata": {},
   "outputs": [
    {
     "name": "stdout",
     "output_type": "stream",
     "text": [
      "Таблица users — таблица участников тестов\n",
      " \n",
      "Общая информация о данных\n",
      "<class 'pandas.core.frame.DataFrame'>\n",
      "RangeIndex: 18268 entries, 0 to 18267\n",
      "Data columns (total 3 columns):\n",
      "user_id    18268 non-null object\n",
      "group      18268 non-null object\n",
      "ab_test    18268 non-null object\n",
      "dtypes: object(3)\n",
      "memory usage: 428.3+ KB\n",
      " \n",
      "Описание данных\n",
      "                 user_id  group            ab_test\n",
      "count              18268  18268              18268\n",
      "unique             16666      2                  2\n",
      "top     8FFA1D6F89AAEA40      A  interface_eu_test\n",
      "freq                   2   9655              11567\n",
      " \n",
      "Случайная выборка данных\n"
     ]
    },
    {
     "data": {
      "text/html": [
       "<div>\n",
       "<style scoped>\n",
       "    .dataframe tbody tr th:only-of-type {\n",
       "        vertical-align: middle;\n",
       "    }\n",
       "\n",
       "    .dataframe tbody tr th {\n",
       "        vertical-align: top;\n",
       "    }\n",
       "\n",
       "    .dataframe thead th {\n",
       "        text-align: right;\n",
       "    }\n",
       "</style>\n",
       "<table border=\"1\" class=\"dataframe\">\n",
       "  <thead>\n",
       "    <tr style=\"text-align: right;\">\n",
       "      <th></th>\n",
       "      <th>user_id</th>\n",
       "      <th>group</th>\n",
       "      <th>ab_test</th>\n",
       "    </tr>\n",
       "  </thead>\n",
       "  <tbody>\n",
       "    <tr>\n",
       "      <td>4289</td>\n",
       "      <td>5DD8AA22AD471522</td>\n",
       "      <td>A</td>\n",
       "      <td>recommender_system_test</td>\n",
       "    </tr>\n",
       "    <tr>\n",
       "      <td>2266</td>\n",
       "      <td>CFF7906685D67807</td>\n",
       "      <td>B</td>\n",
       "      <td>recommender_system_test</td>\n",
       "    </tr>\n",
       "    <tr>\n",
       "      <td>3612</td>\n",
       "      <td>F96F169EAD97EA46</td>\n",
       "      <td>A</td>\n",
       "      <td>recommender_system_test</td>\n",
       "    </tr>\n",
       "    <tr>\n",
       "      <td>1183</td>\n",
       "      <td>AA364AF6A253170F</td>\n",
       "      <td>A</td>\n",
       "      <td>recommender_system_test</td>\n",
       "    </tr>\n",
       "    <tr>\n",
       "      <td>6544</td>\n",
       "      <td>5036F8CD09C38E31</td>\n",
       "      <td>B</td>\n",
       "      <td>recommender_system_test</td>\n",
       "    </tr>\n",
       "  </tbody>\n",
       "</table>\n",
       "</div>"
      ],
      "text/plain": [
       "               user_id group                  ab_test\n",
       "4289  5DD8AA22AD471522     A  recommender_system_test\n",
       "2266  CFF7906685D67807     B  recommender_system_test\n",
       "3612  F96F169EAD97EA46     A  recommender_system_test\n",
       "1183  AA364AF6A253170F     A  recommender_system_test\n",
       "6544  5036F8CD09C38E31     B  recommender_system_test"
      ]
     },
     "execution_count": 9,
     "metadata": {},
     "output_type": "execute_result"
    }
   ],
   "source": [
    "print('Таблица users — таблица участников тестов')\n",
    "#Просмотрим общую информацию о данных\n",
    "\n",
    "print (' ')\n",
    "print ('Общая информация о данных')\n",
    "users.info()\n",
    "\n",
    "#Просмотрим данные функцией describle\n",
    "\n",
    "print (' ')\n",
    "print ('Описание данных')\n",
    "print(users.describe())\n",
    "print (' ')\n",
    "\n",
    "# Применим случайную выборку данных для первичного ознакомления\n",
    "# Укажем параметр random_state=1, для сохранения результата при повторных запусках алгоритма, если нам\n",
    "# вдруг понадобится\n",
    "\n",
    "print ('Случайная выборка данных')\n",
    "users.sample(5, random_state=1)"
   ]
  },
  {
   "cell_type": "markdown",
   "metadata": {},
   "source": [
    "В целом данные чистые. Необходимо преобразовать значения столбца с датами в формат даты.\n",
    "\n",
    "Проверим наличие дубликатов и пропусков"
   ]
  },
  {
   "cell_type": "code",
   "execution_count": 10,
   "metadata": {},
   "outputs": [
    {
     "name": "stdout",
     "output_type": "stream",
     "text": [
      "\u001b[1mКоличество пропусков:\u001b[0m\n"
     ]
    },
    {
     "data": {
      "text/plain": [
       "user_id    0\n",
       "group      0\n",
       "ab_test    0\n",
       "dtype: int64"
      ]
     },
     "metadata": {},
     "output_type": "display_data"
    },
    {
     "name": "stdout",
     "output_type": "stream",
     "text": [
      "=============================================\n",
      "\n",
      "\u001b[1mКоличество явных дубликатов:\u001b[0m 0\n"
     ]
    }
   ],
   "source": [
    "print('\\033[1m' + 'Количество пропусков:' + '\\033[0m')\n",
    "display(users.isna().sum())\n",
    "print('=' * 45)\n",
    "print()\n",
    "\n",
    "print('\\033[1m' + 'Количество явных дубликатов:' + '\\033[0m', \n",
    "      users.duplicated().sum())"
   ]
  },
  {
   "cell_type": "markdown",
   "metadata": {},
   "source": [
    "Проверим нет ли у нас одинаковых пользователей, которые оказались в разных группах нашего теста. Это крайне плохо для корректного АВ-теста"
   ]
  },
  {
   "cell_type": "code",
   "execution_count": 11,
   "metadata": {},
   "outputs": [
    {
     "name": "stdout",
     "output_type": "stream",
     "text": [
      "Задвоений в группах:  0\n"
     ]
    }
   ],
   "source": [
    "#проверим дубликаты по группам А и В\n",
    "\n",
    "our_test = users.query('ab_test == \"recommender_system_test\"')\n",
    "users_group = our_test.groupby('user_id')['group'].nunique()\n",
    "\n",
    "dubles = users_group[users_group > 1].index \n",
    "\n",
    "print('Задвоений в группах: ',len(dubles))"
   ]
  },
  {
   "cell_type": "markdown",
   "metadata": {},
   "source": [
    "Задвоения в группах в нашем тесте нет"
   ]
  },
  {
   "cell_type": "markdown",
   "metadata": {},
   "source": [
    "## Предобработаем данные"
   ]
  },
  {
   "cell_type": "markdown",
   "metadata": {},
   "source": [
    "Переведем столбцы времени в формат даты. А также переименуем все столбцы с dt в date"
   ]
  },
  {
   "cell_type": "code",
   "execution_count": 12,
   "metadata": {},
   "outputs": [
    {
     "name": "stdout",
     "output_type": "stream",
     "text": [
      "<class 'pandas.core.frame.DataFrame'>\n",
      "RangeIndex: 440317 entries, 0 to 440316\n",
      "Data columns (total 4 columns):\n",
      "user_id       440317 non-null object\n",
      "event_date    440317 non-null datetime64[ns]\n",
      "event_name    440317 non-null object\n",
      "details       62740 non-null float64\n",
      "dtypes: datetime64[ns](1), float64(1), object(2)\n",
      "memory usage: 13.4+ MB\n"
     ]
    },
    {
     "data": {
      "text/html": [
       "<div>\n",
       "<style scoped>\n",
       "    .dataframe tbody tr th:only-of-type {\n",
       "        vertical-align: middle;\n",
       "    }\n",
       "\n",
       "    .dataframe tbody tr th {\n",
       "        vertical-align: top;\n",
       "    }\n",
       "\n",
       "    .dataframe thead th {\n",
       "        text-align: right;\n",
       "    }\n",
       "</style>\n",
       "<table border=\"1\" class=\"dataframe\">\n",
       "  <thead>\n",
       "    <tr style=\"text-align: right;\">\n",
       "      <th></th>\n",
       "      <th>user_id</th>\n",
       "      <th>event_date</th>\n",
       "      <th>event_name</th>\n",
       "      <th>details</th>\n",
       "    </tr>\n",
       "  </thead>\n",
       "  <tbody>\n",
       "    <tr>\n",
       "      <td>0</td>\n",
       "      <td>E1BDDCE0DAFA2679</td>\n",
       "      <td>2020-12-07</td>\n",
       "      <td>purchase</td>\n",
       "      <td>99.99</td>\n",
       "    </tr>\n",
       "    <tr>\n",
       "      <td>1</td>\n",
       "      <td>7B6452F081F49504</td>\n",
       "      <td>2020-12-07</td>\n",
       "      <td>purchase</td>\n",
       "      <td>9.99</td>\n",
       "    </tr>\n",
       "    <tr>\n",
       "      <td>2</td>\n",
       "      <td>9CD9F34546DF254C</td>\n",
       "      <td>2020-12-07</td>\n",
       "      <td>purchase</td>\n",
       "      <td>4.99</td>\n",
       "    </tr>\n",
       "    <tr>\n",
       "      <td>3</td>\n",
       "      <td>96F27A054B191457</td>\n",
       "      <td>2020-12-07</td>\n",
       "      <td>purchase</td>\n",
       "      <td>4.99</td>\n",
       "    </tr>\n",
       "    <tr>\n",
       "      <td>4</td>\n",
       "      <td>1FD7660FDF94CA1F</td>\n",
       "      <td>2020-12-07</td>\n",
       "      <td>purchase</td>\n",
       "      <td>4.99</td>\n",
       "    </tr>\n",
       "  </tbody>\n",
       "</table>\n",
       "</div>"
      ],
      "text/plain": [
       "            user_id event_date event_name  details\n",
       "0  E1BDDCE0DAFA2679 2020-12-07   purchase    99.99\n",
       "1  7B6452F081F49504 2020-12-07   purchase     9.99\n",
       "2  9CD9F34546DF254C 2020-12-07   purchase     4.99\n",
       "3  96F27A054B191457 2020-12-07   purchase     4.99\n",
       "4  1FD7660FDF94CA1F 2020-12-07   purchase     4.99"
      ]
     },
     "metadata": {},
     "output_type": "display_data"
    },
    {
     "name": "stdout",
     "output_type": "stream",
     "text": [
      " \n",
      "<class 'pandas.core.frame.DataFrame'>\n",
      "RangeIndex: 61733 entries, 0 to 61732\n",
      "Data columns (total 4 columns):\n",
      "user_id       61733 non-null object\n",
      "first_date    61733 non-null datetime64[ns]\n",
      "region        61733 non-null object\n",
      "device        61733 non-null object\n",
      "dtypes: datetime64[ns](1), object(3)\n",
      "memory usage: 1.9+ MB\n"
     ]
    },
    {
     "data": {
      "text/html": [
       "<div>\n",
       "<style scoped>\n",
       "    .dataframe tbody tr th:only-of-type {\n",
       "        vertical-align: middle;\n",
       "    }\n",
       "\n",
       "    .dataframe tbody tr th {\n",
       "        vertical-align: top;\n",
       "    }\n",
       "\n",
       "    .dataframe thead th {\n",
       "        text-align: right;\n",
       "    }\n",
       "</style>\n",
       "<table border=\"1\" class=\"dataframe\">\n",
       "  <thead>\n",
       "    <tr style=\"text-align: right;\">\n",
       "      <th></th>\n",
       "      <th>user_id</th>\n",
       "      <th>first_date</th>\n",
       "      <th>region</th>\n",
       "      <th>device</th>\n",
       "    </tr>\n",
       "  </thead>\n",
       "  <tbody>\n",
       "    <tr>\n",
       "      <td>0</td>\n",
       "      <td>D72A72121175D8BE</td>\n",
       "      <td>2020-12-07</td>\n",
       "      <td>EU</td>\n",
       "      <td>PC</td>\n",
       "    </tr>\n",
       "    <tr>\n",
       "      <td>1</td>\n",
       "      <td>F1C668619DFE6E65</td>\n",
       "      <td>2020-12-07</td>\n",
       "      <td>N.America</td>\n",
       "      <td>Android</td>\n",
       "    </tr>\n",
       "    <tr>\n",
       "      <td>2</td>\n",
       "      <td>2E1BF1D4C37EA01F</td>\n",
       "      <td>2020-12-07</td>\n",
       "      <td>EU</td>\n",
       "      <td>PC</td>\n",
       "    </tr>\n",
       "    <tr>\n",
       "      <td>3</td>\n",
       "      <td>50734A22C0C63768</td>\n",
       "      <td>2020-12-07</td>\n",
       "      <td>EU</td>\n",
       "      <td>iPhone</td>\n",
       "    </tr>\n",
       "    <tr>\n",
       "      <td>4</td>\n",
       "      <td>E1BDDCE0DAFA2679</td>\n",
       "      <td>2020-12-07</td>\n",
       "      <td>N.America</td>\n",
       "      <td>iPhone</td>\n",
       "    </tr>\n",
       "  </tbody>\n",
       "</table>\n",
       "</div>"
      ],
      "text/plain": [
       "            user_id first_date     region   device\n",
       "0  D72A72121175D8BE 2020-12-07         EU       PC\n",
       "1  F1C668619DFE6E65 2020-12-07  N.America  Android\n",
       "2  2E1BF1D4C37EA01F 2020-12-07         EU       PC\n",
       "3  50734A22C0C63768 2020-12-07         EU   iPhone\n",
       "4  E1BDDCE0DAFA2679 2020-12-07  N.America   iPhone"
      ]
     },
     "metadata": {},
     "output_type": "display_data"
    },
    {
     "name": "stdout",
     "output_type": "stream",
     "text": [
      " \n",
      "<class 'pandas.core.frame.DataFrame'>\n",
      "RangeIndex: 14 entries, 0 to 13\n",
      "Data columns (total 4 columns):\n",
      "name           14 non-null object\n",
      "regions        14 non-null object\n",
      "start_date     14 non-null datetime64[ns]\n",
      "finish_date    14 non-null datetime64[ns]\n",
      "dtypes: datetime64[ns](2), object(2)\n",
      "memory usage: 576.0+ bytes\n"
     ]
    }
   ],
   "source": [
    "#переведем столбцы в формат даты\n",
    "users_event['event_dt'] = pd.to_datetime(users_event['event_dt'], format='%Y-%m-%d')\n",
    "users_event['event_dt'] = pd.to_datetime(users_event['event_dt'].dt.date)\n",
    "\n",
    "new_users['first_date'] = pd.to_datetime(new_users['first_date'], format='%Y-%m-%d')\n",
    "new_users['first_date'] = pd.to_datetime(new_users['first_date'], format='%Y-%m-%d')\n",
    "marketing_events['start_dt'] = pd.to_datetime(marketing_events['start_dt'], format='%Y-%m-%d')   \n",
    "marketing_events['finish_dt'] = pd.to_datetime(marketing_events['finish_dt'], format='%Y-%m-%d')\n",
    "\n",
    "# переименуем столбцы\n",
    "users_event = users_event.rename(columns = {'event_dt':'event_date'})\n",
    "\n",
    "# переименуем столбцы\n",
    "marketing_events = marketing_events.rename(columns = {'start_dt': 'start_date', \n",
    "               'finish_dt': 'finish_date'})\n",
    "\n",
    "# проверим результат\n",
    "users_event.info()\n",
    "display(users_event.head())\n",
    "print(' ')\n",
    "new_users.info()\n",
    "display(new_users.head())\n",
    "print(' ')\n",
    "marketing_events.info()\n"
   ]
  },
  {
   "cell_type": "markdown",
   "metadata": {},
   "source": [
    "### Промежуточные выводы"
   ]
  },
  {
   "cell_type": "markdown",
   "metadata": {},
   "source": [
    "Данные чистые и их хватает для анализа. Дополнительно мы перевели столбцы времени в формат даты. А также переименовали все столбцы с dt в date. Задвоения пользователей у нас в группах нет."
   ]
  },
  {
   "cell_type": "markdown",
   "metadata": {},
   "source": [
    "## Оценка корректности проведения теста"
   ]
  },
  {
   "cell_type": "markdown",
   "metadata": {},
   "source": [
    "Оценим корректность проведения теста, для этого проверим пересечение тестовой аудитории с конкурирующим тестом, возможные совпадения теста и маркетинговых событий, а также проблемы временных границ теста."
   ]
  },
  {
   "cell_type": "markdown",
   "metadata": {},
   "source": [
    "Из технического задания, у нас есть условия, которые мы можем применить для проверки корректности проведения теста\n",
    "\n",
    "•\tНазвание теста: recommender_system_test;\n",
    "\n",
    "•\tгруппы: А — контрольная, B — новая платёжная воронка;\n",
    "\n",
    "•\tдата запуска: 2020-12-07;\n",
    "\n",
    "•\tдата остановки набора новых пользователей: 2020-12-21;\n",
    "\n",
    "•\tдата остановки: 2021-01-04;\n",
    "\n",
    "•\tаудитория: 15% новых пользователей из региона EU;\n",
    "\n",
    "•\tожидаемое количество участников теста: 6000.\n",
    "\n",
    "\n",
    "Проверим пересечения нашего теста с конкурирующими тестами. Выведем нашу аудиторию исходя из ТЗ: добавим новых пользователей из региона EU которые появились с даты запуска по дату остановки набора новых пользователей"
   ]
  },
  {
   "cell_type": "code",
   "execution_count": 13,
   "metadata": {},
   "outputs": [
    {
     "name": "stdout",
     "output_type": "stream",
     "text": [
      "Новые пользователи региона EU с  даты запуска по дату остановки набора новых пользователей: 42340\n"
     ]
    }
   ],
   "source": [
    "#добавим новых пользователей из нашего региона\n",
    "n_users = new_users[(new_users['region'] == 'EU') & (new_users['first_date'] >= dt.datetime(2020,12,7).strftime('%Y-%m-%d')) & (new_users['first_date'] <= dt.datetime(2020,12,21).strftime('%Y-%m-%d'))]\n",
    "new_users_eu = n_users.shape[0]\n",
    "\n",
    "#проверим результат\n",
    "print('Новые пользователи региона EU с  даты запуска по дату остановки набора новых пользователей:', new_users_eu)"
   ]
  },
  {
   "cell_type": "markdown",
   "metadata": {},
   "source": [
    "Проверим, нет ли у нас задвоения групп А и В с новыми пользователями "
   ]
  },
  {
   "cell_type": "code",
   "execution_count": 14,
   "metadata": {},
   "outputs": [
    {
     "name": "stdout",
     "output_type": "stream",
     "text": [
      "Задвоений в группах:  0\n"
     ]
    }
   ],
   "source": [
    "#присоеденим новых пользователей\n",
    "tests_eu = n_users.merge(users, on=['user_id'], how='inner')\n",
    "\n",
    "#проверим дубликаты по нашей группе\n",
    "our_test = tests_eu.query('ab_test == \"recommender_system_test\"')\n",
    "users_group = our_test.groupby('user_id')['group'].nunique()\n",
    "\n",
    "dubles = users_group[users_group > 1].index \n",
    "\n",
    "print('Задвоений в группах: ',len(dubles))"
   ]
  },
  {
   "cell_type": "markdown",
   "metadata": {},
   "source": [
    "Задвоения в нашем тесте у новых пользователей нет. Проверим, нет ли пересечения с конкурирующим тестом или тестами. Если такие пересечения есть, то необходимо будет принимать решение по корректности проведения теста, данного нам на проверку"
   ]
  },
  {
   "cell_type": "code",
   "execution_count": 15,
   "metadata": {},
   "outputs": [
    {
     "name": "stdout",
     "output_type": "stream",
     "text": [
      "Количество пользователей, участвовавших в тесте \"recommender_system_test\": 6351\n"
     ]
    }
   ],
   "source": [
    "# сделаем список пользователей, которые участвуют в нашем тесте\n",
    "test_users_ids = list(tests_eu.query('ab_test == \"recommender_system_test\"')['user_id'])\n",
    "\n",
    "#заодно проверим сколько их\n",
    "print('Количество пользователей, участвовавших в тесте \"recommender_system_test\":', len(test_users_ids))"
   ]
  },
  {
   "cell_type": "markdown",
   "metadata": {},
   "source": [
    "Это количество пользователей в целом соответсвует техническому заданию. Проверим заодно процент новых пользователей, согласно техническому заданию он должен составить 15% из зоны EU"
   ]
  },
  {
   "cell_type": "code",
   "execution_count": 16,
   "metadata": {},
   "outputs": [
    {
     "name": "stdout",
     "output_type": "stream",
     "text": [
      "Процент новых пользователей в тесте: 15.0\n"
     ]
    }
   ],
   "source": [
    "print('Процент новых пользователей в тесте:',round(len(test_users_ids) / new_users_eu * 100, 1))"
   ]
  },
  {
   "cell_type": "markdown",
   "metadata": {},
   "source": [
    "Процент новых пользователей соответсвует техническому заданию."
   ]
  },
  {
   "cell_type": "code",
   "execution_count": 17,
   "metadata": {},
   "outputs": [
    {
     "name": "stdout",
     "output_type": "stream",
     "text": [
      "АВ тесты и количество пользователей в них:\n",
      "ab_test\n",
      "interface_eu_test          1602\n",
      "recommender_system_test    6351\n",
      "Name: ab_test, dtype: int64\n",
      "+++++++++++++++++++++++\n",
      "Разбивка пользователей нашего теста в группах теста interface_eu_test:\n",
      "  group  users_cnt\n",
      "0     A        819\n",
      "1     B        783\n",
      "+++++++++++++++++++++++\n",
      "Процент пользователей нашего теста, попавших  в экспериментальную группу теста interface_eu_test: 12.3%\n"
     ]
    }
   ],
   "source": [
    "users_in_manytests = (tests_eu.query('user_id in @test_users_ids')\n",
    "                      .groupby('ab_test'))\n",
    "\n",
    "print('АВ тесты и количество пользователей в них:')\n",
    "print(users_in_manytests['ab_test'].count())\n",
    "\n",
    "\n",
    "print('+++++++++++++++++++++++')\n",
    "\n",
    "users_in_manytests_group = (tests_eu.query('ab_test == \"interface_eu_test\" & user_id in @test_users_ids')\n",
    "                  .groupby(['group'], as_index=False).agg({'user_id':'nunique'})\n",
    "                  .rename(columns={'user_id':'users_cnt'}))\n",
    "\n",
    "print('Разбивка пользователей нашего теста в группах теста interface_eu_test:')\n",
    "\n",
    "print(users_in_manytests_group)\n",
    "\n",
    "print('+++++++++++++++++++++++')\n",
    "\n",
    "s = users_in_manytests_group['users_cnt'].tolist()\n",
    "\n",
    "print('Процент пользователей нашего теста, попавших  в экспериментальную группу теста interface_eu_test: {:.1%}'.format(s[1]/len(test_users_ids)))"
   ]
  },
  {
   "cell_type": "markdown",
   "metadata": {},
   "source": [
    "12,3% пользователей АВ-теста, что мы проверяем одновременно участвовали в другом тесте. Судя по названию, это тест изменений в интерфейсе и он мог повлиять на наше тестирование изменений связанных с внедрением улучшенной рекомендательной системы. При этом убрать всех пользователей попавших в два теста мы не сможем - это будет несоответсвовать ТЗ. \n",
    "В выводах необходимо будет указать, что рассматриваемый нами АВтест (\"recommender_system_test\") возможно некорректно проведен."
   ]
  },
  {
   "cell_type": "markdown",
   "metadata": {},
   "source": [
    "Проверим распределение наших пользователей по группам"
   ]
  },
  {
   "cell_type": "code",
   "execution_count": 18,
   "metadata": {},
   "outputs": [
    {
     "data": {
      "text/html": [
       "<div>\n",
       "<style scoped>\n",
       "    .dataframe tbody tr th:only-of-type {\n",
       "        vertical-align: middle;\n",
       "    }\n",
       "\n",
       "    .dataframe tbody tr th {\n",
       "        vertical-align: top;\n",
       "    }\n",
       "\n",
       "    .dataframe thead th {\n",
       "        text-align: right;\n",
       "    }\n",
       "</style>\n",
       "<table border=\"1\" class=\"dataframe\">\n",
       "  <thead>\n",
       "    <tr style=\"text-align: right;\">\n",
       "      <th></th>\n",
       "      <th>group</th>\n",
       "      <th>users_cnt</th>\n",
       "    </tr>\n",
       "  </thead>\n",
       "  <tbody>\n",
       "    <tr>\n",
       "      <td>0</td>\n",
       "      <td>A</td>\n",
       "      <td>3634</td>\n",
       "    </tr>\n",
       "    <tr>\n",
       "      <td>1</td>\n",
       "      <td>B</td>\n",
       "      <td>2717</td>\n",
       "    </tr>\n",
       "  </tbody>\n",
       "</table>\n",
       "</div>"
      ],
      "text/plain": [
       "  group  users_cnt\n",
       "0     A       3634\n",
       "1     B       2717"
      ]
     },
     "metadata": {},
     "output_type": "display_data"
    }
   ],
   "source": [
    "# запишем общее количество участников по группам нашего теста\n",
    "our_group = (tests_eu.query('ab_test == \"recommender_system_test\"')\n",
    "                  .groupby(['group'], as_index=False).agg({'user_id':'nunique'})\n",
    "                  .rename(columns={'user_id':'users_cnt'}))\n",
    "display(our_group)"
   ]
  },
  {
   "cell_type": "markdown",
   "metadata": {},
   "source": [
    "Есть некотрый перекос в сторону группы А, но не критичный. В целом распределение нормальное.\n",
    "Рассмотрим возможные совпадения нашего АВ-теста и маркетинговых событий"
   ]
  },
  {
   "cell_type": "code",
   "execution_count": 19,
   "metadata": {},
   "outputs": [
    {
     "data": {
      "text/html": [
       "<div>\n",
       "<style scoped>\n",
       "    .dataframe tbody tr th:only-of-type {\n",
       "        vertical-align: middle;\n",
       "    }\n",
       "\n",
       "    .dataframe tbody tr th {\n",
       "        vertical-align: top;\n",
       "    }\n",
       "\n",
       "    .dataframe thead th {\n",
       "        text-align: right;\n",
       "    }\n",
       "</style>\n",
       "<table border=\"1\" class=\"dataframe\">\n",
       "  <thead>\n",
       "    <tr style=\"text-align: right;\">\n",
       "      <th></th>\n",
       "      <th>name</th>\n",
       "      <th>regions</th>\n",
       "      <th>start_date</th>\n",
       "      <th>finish_date</th>\n",
       "    </tr>\n",
       "  </thead>\n",
       "  <tbody>\n",
       "    <tr>\n",
       "      <td>0</td>\n",
       "      <td>Christmas&amp;New Year Promo</td>\n",
       "      <td>EU, N.America</td>\n",
       "      <td>2020-12-25</td>\n",
       "      <td>2021-01-03</td>\n",
       "    </tr>\n",
       "    <tr>\n",
       "      <td>1</td>\n",
       "      <td>St. Valentine's Day Giveaway</td>\n",
       "      <td>EU, CIS, APAC, N.America</td>\n",
       "      <td>2020-02-14</td>\n",
       "      <td>2020-02-16</td>\n",
       "    </tr>\n",
       "    <tr>\n",
       "      <td>2</td>\n",
       "      <td>St. Patric's Day Promo</td>\n",
       "      <td>EU, N.America</td>\n",
       "      <td>2020-03-17</td>\n",
       "      <td>2020-03-19</td>\n",
       "    </tr>\n",
       "    <tr>\n",
       "      <td>3</td>\n",
       "      <td>Easter Promo</td>\n",
       "      <td>EU, CIS, APAC, N.America</td>\n",
       "      <td>2020-04-12</td>\n",
       "      <td>2020-04-19</td>\n",
       "    </tr>\n",
       "    <tr>\n",
       "      <td>4</td>\n",
       "      <td>4th of July Promo</td>\n",
       "      <td>N.America</td>\n",
       "      <td>2020-07-04</td>\n",
       "      <td>2020-07-11</td>\n",
       "    </tr>\n",
       "    <tr>\n",
       "      <td>5</td>\n",
       "      <td>Black Friday Ads Campaign</td>\n",
       "      <td>EU, CIS, APAC, N.America</td>\n",
       "      <td>2020-11-26</td>\n",
       "      <td>2020-12-01</td>\n",
       "    </tr>\n",
       "    <tr>\n",
       "      <td>6</td>\n",
       "      <td>Chinese New Year Promo</td>\n",
       "      <td>APAC</td>\n",
       "      <td>2020-01-25</td>\n",
       "      <td>2020-02-07</td>\n",
       "    </tr>\n",
       "    <tr>\n",
       "      <td>7</td>\n",
       "      <td>Labor day (May 1st) Ads Campaign</td>\n",
       "      <td>EU, CIS, APAC</td>\n",
       "      <td>2020-05-01</td>\n",
       "      <td>2020-05-03</td>\n",
       "    </tr>\n",
       "    <tr>\n",
       "      <td>8</td>\n",
       "      <td>International Women's Day Promo</td>\n",
       "      <td>EU, CIS, APAC</td>\n",
       "      <td>2020-03-08</td>\n",
       "      <td>2020-03-10</td>\n",
       "    </tr>\n",
       "    <tr>\n",
       "      <td>9</td>\n",
       "      <td>Victory Day CIS (May 9th) Event</td>\n",
       "      <td>CIS</td>\n",
       "      <td>2020-05-09</td>\n",
       "      <td>2020-05-11</td>\n",
       "    </tr>\n",
       "    <tr>\n",
       "      <td>10</td>\n",
       "      <td>CIS New Year Gift Lottery</td>\n",
       "      <td>CIS</td>\n",
       "      <td>2020-12-30</td>\n",
       "      <td>2021-01-07</td>\n",
       "    </tr>\n",
       "    <tr>\n",
       "      <td>11</td>\n",
       "      <td>Dragon Boat Festival Giveaway</td>\n",
       "      <td>APAC</td>\n",
       "      <td>2020-06-25</td>\n",
       "      <td>2020-07-01</td>\n",
       "    </tr>\n",
       "    <tr>\n",
       "      <td>12</td>\n",
       "      <td>Single's Day Gift Promo</td>\n",
       "      <td>APAC</td>\n",
       "      <td>2020-11-11</td>\n",
       "      <td>2020-11-12</td>\n",
       "    </tr>\n",
       "    <tr>\n",
       "      <td>13</td>\n",
       "      <td>Chinese Moon Festival</td>\n",
       "      <td>APAC</td>\n",
       "      <td>2020-10-01</td>\n",
       "      <td>2020-10-07</td>\n",
       "    </tr>\n",
       "  </tbody>\n",
       "</table>\n",
       "</div>"
      ],
      "text/plain": [
       "                                name                   regions start_date  \\\n",
       "0           Christmas&New Year Promo             EU, N.America 2020-12-25   \n",
       "1       St. Valentine's Day Giveaway  EU, CIS, APAC, N.America 2020-02-14   \n",
       "2             St. Patric's Day Promo             EU, N.America 2020-03-17   \n",
       "3                       Easter Promo  EU, CIS, APAC, N.America 2020-04-12   \n",
       "4                  4th of July Promo                 N.America 2020-07-04   \n",
       "5          Black Friday Ads Campaign  EU, CIS, APAC, N.America 2020-11-26   \n",
       "6             Chinese New Year Promo                      APAC 2020-01-25   \n",
       "7   Labor day (May 1st) Ads Campaign             EU, CIS, APAC 2020-05-01   \n",
       "8    International Women's Day Promo             EU, CIS, APAC 2020-03-08   \n",
       "9    Victory Day CIS (May 9th) Event                       CIS 2020-05-09   \n",
       "10         CIS New Year Gift Lottery                       CIS 2020-12-30   \n",
       "11     Dragon Boat Festival Giveaway                      APAC 2020-06-25   \n",
       "12           Single's Day Gift Promo                      APAC 2020-11-11   \n",
       "13             Chinese Moon Festival                      APAC 2020-10-01   \n",
       "\n",
       "   finish_date  \n",
       "0   2021-01-03  \n",
       "1   2020-02-16  \n",
       "2   2020-03-19  \n",
       "3   2020-04-19  \n",
       "4   2020-07-11  \n",
       "5   2020-12-01  \n",
       "6   2020-02-07  \n",
       "7   2020-05-03  \n",
       "8   2020-03-10  \n",
       "9   2020-05-11  \n",
       "10  2021-01-07  \n",
       "11  2020-07-01  \n",
       "12  2020-11-12  \n",
       "13  2020-10-07  "
      ]
     },
     "execution_count": 19,
     "metadata": {},
     "output_type": "execute_result"
    }
   ],
   "source": [
    "marketing_events"
   ]
  },
  {
   "cell_type": "markdown",
   "metadata": {},
   "source": [
    "Со временем нашего теста совпадает Christmas&New Year Promo который может вносить свои коррективы и делать АВ-тест, что мы рассматриваем некорректно проведенным. "
   ]
  },
  {
   "cell_type": "markdown",
   "metadata": {},
   "source": [
    "### Промежуточные выводы"
   ]
  },
  {
   "cell_type": "markdown",
   "metadata": {},
   "source": [
    "Задвоения в нашем тесте у новых пользователей нет. Количество пользователей и процент новых пользователей соответсвует техническому заданию. Но у нас есть 25,2% пользователей АВ-теста, которые одновременно участвовали в другом тесте. Судя по названию, это тест изменений в интерфейсе и он мог в полной мере повлиять на наше тестирование изменений связанных с внедрением улучшенной рекомендательной системы. Наличие такого большого пересечения с АВ-тестом изменений которые могли сильно повлиять на наш тест делает наш АВ-тест некорректным. При этом убрать всех пользователей попавших в два теста мы не сможем - это будет несоответсвовать ТЗ. Распределение пользователей по группам в целом равномерное. Со временем нашего теста совпадает Christmas&New Year Promo который может вносить свои коррективы и делать АВ-тест, что мы рассматриваем некорректно проведенным. "
   ]
  },
  {
   "cell_type": "markdown",
   "metadata": {},
   "source": [
    "## Исследовательский анализ данных"
   ]
  },
  {
   "cell_type": "markdown",
   "metadata": {},
   "source": [
    "Соберем все нужные данные в один датафрейм: отберем пользователей нашего теста, присоединим данные по группам теста, отберем события. Согласно ТЗ оставим только события, совершенные за 14 дней с момента регистрации - пользователи должны за это время показать улучшение каждой рассмтариваемой метрики не менее чем на 10%."
   ]
  },
  {
   "cell_type": "code",
   "execution_count": 20,
   "metadata": {},
   "outputs": [
    {
     "name": "stdout",
     "output_type": "stream",
     "text": [
      "             user_id first_date region   device\n",
      "0   D72A72121175D8BE 2020-12-07     EU       PC\n",
      "13  E6DE857AFBDC6102 2020-12-07     EU       PC\n",
      "20  DD4352CDCF8C3D57 2020-12-07     EU  Android\n",
      "23  831887FE7F2D6CBA 2020-12-07     EU  Android\n",
      "39  4CB179C7F847320B 2020-12-07     EU   iPhone\n"
     ]
    },
    {
     "data": {
      "text/plain": [
       "6351"
      ]
     },
     "execution_count": 20,
     "metadata": {},
     "output_type": "execute_result"
    }
   ],
   "source": [
    "#отберем нужных нам пользователей\n",
    "users_test = new_users.query('user_id in @test_users_ids')\n",
    "\n",
    "#проверим результат\n",
    "print(users_test.head())\n",
    "\n",
    "#проверим количество\n",
    "len(users_test)"
   ]
  },
  {
   "cell_type": "code",
   "execution_count": 21,
   "metadata": {},
   "outputs": [
    {
     "data": {
      "text/html": [
       "<div>\n",
       "<style scoped>\n",
       "    .dataframe tbody tr th:only-of-type {\n",
       "        vertical-align: middle;\n",
       "    }\n",
       "\n",
       "    .dataframe tbody tr th {\n",
       "        vertical-align: top;\n",
       "    }\n",
       "\n",
       "    .dataframe thead th {\n",
       "        text-align: right;\n",
       "    }\n",
       "</style>\n",
       "<table border=\"1\" class=\"dataframe\">\n",
       "  <thead>\n",
       "    <tr style=\"text-align: right;\">\n",
       "      <th></th>\n",
       "      <th>user_id</th>\n",
       "      <th>first_date</th>\n",
       "      <th>region</th>\n",
       "      <th>device</th>\n",
       "      <th>group</th>\n",
       "      <th>ab_test</th>\n",
       "    </tr>\n",
       "  </thead>\n",
       "  <tbody>\n",
       "    <tr>\n",
       "      <td>0</td>\n",
       "      <td>D72A72121175D8BE</td>\n",
       "      <td>2020-12-07</td>\n",
       "      <td>EU</td>\n",
       "      <td>PC</td>\n",
       "      <td>A</td>\n",
       "      <td>recommender_system_test</td>\n",
       "    </tr>\n",
       "    <tr>\n",
       "      <td>1</td>\n",
       "      <td>E6DE857AFBDC6102</td>\n",
       "      <td>2020-12-07</td>\n",
       "      <td>EU</td>\n",
       "      <td>PC</td>\n",
       "      <td>B</td>\n",
       "      <td>recommender_system_test</td>\n",
       "    </tr>\n",
       "    <tr>\n",
       "      <td>2</td>\n",
       "      <td>DD4352CDCF8C3D57</td>\n",
       "      <td>2020-12-07</td>\n",
       "      <td>EU</td>\n",
       "      <td>Android</td>\n",
       "      <td>B</td>\n",
       "      <td>recommender_system_test</td>\n",
       "    </tr>\n",
       "    <tr>\n",
       "      <td>3</td>\n",
       "      <td>831887FE7F2D6CBA</td>\n",
       "      <td>2020-12-07</td>\n",
       "      <td>EU</td>\n",
       "      <td>Android</td>\n",
       "      <td>A</td>\n",
       "      <td>recommender_system_test</td>\n",
       "    </tr>\n",
       "    <tr>\n",
       "      <td>4</td>\n",
       "      <td>4CB179C7F847320B</td>\n",
       "      <td>2020-12-07</td>\n",
       "      <td>EU</td>\n",
       "      <td>iPhone</td>\n",
       "      <td>B</td>\n",
       "      <td>recommender_system_test</td>\n",
       "    </tr>\n",
       "  </tbody>\n",
       "</table>\n",
       "</div>"
      ],
      "text/plain": [
       "            user_id first_date region   device group                  ab_test\n",
       "0  D72A72121175D8BE 2020-12-07     EU       PC     A  recommender_system_test\n",
       "1  E6DE857AFBDC6102 2020-12-07     EU       PC     B  recommender_system_test\n",
       "2  DD4352CDCF8C3D57 2020-12-07     EU  Android     B  recommender_system_test\n",
       "3  831887FE7F2D6CBA 2020-12-07     EU  Android     A  recommender_system_test\n",
       "4  4CB179C7F847320B 2020-12-07     EU   iPhone     B  recommender_system_test"
      ]
     },
     "execution_count": 21,
     "metadata": {},
     "output_type": "execute_result"
    }
   ],
   "source": [
    "#Присоединим данные по группам нашего теста:\n",
    "users_groups = users_test.merge(users.query('ab_test == \"recommender_system_test\"'), on='user_id', how='left')\n",
    "\n",
    "\n",
    "groups_cnt = users_groups.groupby(['group'], as_index=False).agg({'user_id':'count'})\n",
    "\n",
    "#проверим результат\n",
    "users_groups.head()"
   ]
  },
  {
   "cell_type": "code",
   "execution_count": 22,
   "metadata": {},
   "outputs": [
    {
     "data": {
      "text/plain": [
       "6351"
      ]
     },
     "execution_count": 22,
     "metadata": {},
     "output_type": "execute_result"
    }
   ],
   "source": [
    "#проверим количество пользователей\n",
    "users_groups['user_id'].nunique()"
   ]
  },
  {
   "cell_type": "code",
   "execution_count": 23,
   "metadata": {},
   "outputs": [
    {
     "data": {
      "text/html": [
       "<div>\n",
       "<style scoped>\n",
       "    .dataframe tbody tr th:only-of-type {\n",
       "        vertical-align: middle;\n",
       "    }\n",
       "\n",
       "    .dataframe tbody tr th {\n",
       "        vertical-align: top;\n",
       "    }\n",
       "\n",
       "    .dataframe thead th {\n",
       "        text-align: right;\n",
       "    }\n",
       "</style>\n",
       "<table border=\"1\" class=\"dataframe\">\n",
       "  <thead>\n",
       "    <tr style=\"text-align: right;\">\n",
       "      <th></th>\n",
       "      <th>user_id</th>\n",
       "      <th>first_date</th>\n",
       "      <th>region</th>\n",
       "      <th>device</th>\n",
       "      <th>group</th>\n",
       "      <th>ab_test</th>\n",
       "      <th>event_date</th>\n",
       "      <th>event_name</th>\n",
       "      <th>details</th>\n",
       "    </tr>\n",
       "  </thead>\n",
       "  <tbody>\n",
       "    <tr>\n",
       "      <td>0</td>\n",
       "      <td>D72A72121175D8BE</td>\n",
       "      <td>2020-12-07</td>\n",
       "      <td>EU</td>\n",
       "      <td>PC</td>\n",
       "      <td>A</td>\n",
       "      <td>recommender_system_test</td>\n",
       "      <td>2020-12-07</td>\n",
       "      <td>product_page</td>\n",
       "      <td>NaN</td>\n",
       "    </tr>\n",
       "    <tr>\n",
       "      <td>1</td>\n",
       "      <td>D72A72121175D8BE</td>\n",
       "      <td>2020-12-07</td>\n",
       "      <td>EU</td>\n",
       "      <td>PC</td>\n",
       "      <td>A</td>\n",
       "      <td>recommender_system_test</td>\n",
       "      <td>2020-12-07</td>\n",
       "      <td>login</td>\n",
       "      <td>NaN</td>\n",
       "    </tr>\n",
       "    <tr>\n",
       "      <td>2</td>\n",
       "      <td>DD4352CDCF8C3D57</td>\n",
       "      <td>2020-12-07</td>\n",
       "      <td>EU</td>\n",
       "      <td>Android</td>\n",
       "      <td>B</td>\n",
       "      <td>recommender_system_test</td>\n",
       "      <td>2020-12-07</td>\n",
       "      <td>product_page</td>\n",
       "      <td>NaN</td>\n",
       "    </tr>\n",
       "    <tr>\n",
       "      <td>3</td>\n",
       "      <td>DD4352CDCF8C3D57</td>\n",
       "      <td>2020-12-07</td>\n",
       "      <td>EU</td>\n",
       "      <td>Android</td>\n",
       "      <td>B</td>\n",
       "      <td>recommender_system_test</td>\n",
       "      <td>2020-12-08</td>\n",
       "      <td>product_page</td>\n",
       "      <td>NaN</td>\n",
       "    </tr>\n",
       "    <tr>\n",
       "      <td>4</td>\n",
       "      <td>DD4352CDCF8C3D57</td>\n",
       "      <td>2020-12-07</td>\n",
       "      <td>EU</td>\n",
       "      <td>Android</td>\n",
       "      <td>B</td>\n",
       "      <td>recommender_system_test</td>\n",
       "      <td>2020-12-10</td>\n",
       "      <td>product_page</td>\n",
       "      <td>NaN</td>\n",
       "    </tr>\n",
       "  </tbody>\n",
       "</table>\n",
       "</div>"
      ],
      "text/plain": [
       "            user_id first_date region   device group                  ab_test  \\\n",
       "0  D72A72121175D8BE 2020-12-07     EU       PC     A  recommender_system_test   \n",
       "1  D72A72121175D8BE 2020-12-07     EU       PC     A  recommender_system_test   \n",
       "2  DD4352CDCF8C3D57 2020-12-07     EU  Android     B  recommender_system_test   \n",
       "3  DD4352CDCF8C3D57 2020-12-07     EU  Android     B  recommender_system_test   \n",
       "4  DD4352CDCF8C3D57 2020-12-07     EU  Android     B  recommender_system_test   \n",
       "\n",
       "  event_date    event_name  details  \n",
       "0 2020-12-07  product_page      NaN  \n",
       "1 2020-12-07         login      NaN  \n",
       "2 2020-12-07  product_page      NaN  \n",
       "3 2020-12-08  product_page      NaN  \n",
       "4 2020-12-10  product_page      NaN  "
      ]
     },
     "execution_count": 23,
     "metadata": {},
     "output_type": "execute_result"
    }
   ],
   "source": [
    "#Присоединим данные по событиям:\n",
    "users_events = users_groups.merge(users_event, on='user_id')\n",
    "\n",
    "#проверим результат\n",
    "users_events.head()"
   ]
  },
  {
   "cell_type": "code",
   "execution_count": 24,
   "metadata": {},
   "outputs": [],
   "source": [
    "# отберем данные за 14 дней (указано нам по ТЗ)\n",
    "\n",
    "users_events['conversion_date'] = users_events['first_date'] + pd.Timedelta(days = 14)\n",
    "\n",
    "df = users_events.query('event_date>=first_date & event_date<=conversion_date')\n"
   ]
  },
  {
   "cell_type": "markdown",
   "metadata": {},
   "source": [
    "Мы сформировали датасет с которым далее будем работать. Проанализируем наши данные. Ответим на вопрос - одинаково ли распределено в выборках количество событий на пользователя."
   ]
  },
  {
   "cell_type": "code",
   "execution_count": 25,
   "metadata": {},
   "outputs": [
    {
     "data": {
      "image/png": "[encoded data removed]",
      "text/plain": [
       "<Figure size 1080x576 with 1 Axes>"
      ]
     },
     "metadata": {
      "needs_background": "light"
     },
     "output_type": "display_data"
    }
   ],
   "source": [
    "#Посмотрим, как распределено количество событий на пользователя в выборках:\n",
    "df_a = df.query('group == \"A\"')\n",
    "df_b = df.query('group == \"B\"')\n",
    "\n",
    "\n",
    "\n",
    "#построим совмещённый график изменений\n",
    "ax = df_a.groupby(['user_id']).agg({'event_name':'count'}).plot(kind='hist', alpha=0.6)\n",
    "df_b.groupby(['user_id']).agg({'event_name':'count'}).plot(kind='hist', alpha=0.6, ax=ax)\n",
    "plt.legend(labels=['A','B'])\n",
    "plt.title('Количество событий на одного пользователя по группам')\n",
    "plt.xlabel('Количество событий на одного пользователя')\n",
    "plt.ylabel('Количество пользователей')\n",
    "plt.show()"
   ]
  },
  {
   "cell_type": "markdown",
   "metadata": {},
   "source": [
    "Группа А похоже сильно более активна. Проверим распределение событий по дням"
   ]
  },
  {
   "cell_type": "code",
   "execution_count": 26,
   "metadata": {},
   "outputs": [
    {
     "data": {
      "image/png": "[encoded data removed]",
      "text/plain": [
       "<Figure size 1080x576 with 1 Axes>"
      ]
     },
     "metadata": {
      "needs_background": "light"
     },
     "output_type": "display_data"
    }
   ],
   "source": [
    "\n",
    "#построим совмещённый график изменений количества событий по дням:\n",
    "ax = df.groupby(['event_date']).agg({'user_id':'count'}).plot()\n",
    "df_a.groupby(['event_date']).agg({'user_id':'count'}).plot(ax=ax)\n",
    "df_b.groupby(['event_date']).agg({'user_id':'count'}).plot(ax=ax)\n",
    "plt.legend(labels=['общее','группа A','группа B'])\n",
    "plt.grid()\n",
    "plt.title('Количество событий по дням')\n",
    "plt.xlabel('Даты')\n",
    "plt.ylabel('Количество событий')\n",
    "plt.show()"
   ]
  },
  {
   "cell_type": "markdown",
   "metadata": {},
   "source": [
    "Похоже после 21 декабря 2020 в количестве событий идет спад. Возможно это связано с началом 25.12.2020 наркетингового события, которое накладывается на сроки нашего АВ-теста"
   ]
  },
  {
   "cell_type": "markdown",
   "metadata": {},
   "source": [
    "### Промежуточные выводы"
   ]
  },
  {
   "cell_type": "markdown",
   "metadata": {},
   "source": [
    "Группа А похоже сильно более активна. Пик событий произошел 21 декабря 2020. Затем в количестве событий идет спад. Возможно это связано с началом 25.12.2020 наркетингового события, которое накладывается на сроки нашего АВ-теста"
   ]
  },
  {
   "cell_type": "markdown",
   "metadata": {},
   "source": [
    "## Оценка результатов A/B-тестирования"
   ]
  },
  {
   "cell_type": "markdown",
   "metadata": {},
   "source": [
    "Проверим **статистическую гипотезу №1**  выдвинутую при проведение рассматриваемого нами АВ-теста: \n",
    "Группы: А — контрольная, B — новая платёжная воронка;\n",
    "За 14 дней с момента регистрации пользователи группы В покажут увеличение просмотров карточек товаров (событие product_page) не менее, чем на 10%.\n",
    "\n",
    "\n",
    "Для проведения гипотезы установим уровень статистической значимости, равный 5% (alpha = 0.05). \n",
    "\n",
    "Также, определим гипотезы для проверки.\n",
    "\n",
    "$H_0$ **Статистически значимых различий** между группами А и В с точки зрения изменения просмотров **нет**.\n",
    "\n",
    "$H_1$ **Статистически значимые различия** между группами А и В с точки зрения изменения просмотров **есть**.\n"
   ]
  },
  {
   "cell_type": "code",
   "execution_count": 30,
   "metadata": {},
   "outputs": [
    {
     "name": "stdout",
     "output_type": "stream",
     "text": [
      "p-значение:  0.0\n",
      "Доля пользователей, сделавших событие \"product_page\":\n",
      "Для группы A - 46.37%\n",
      "Для группы B - 18.15%\n",
      " \n",
      "Отвергаем нулевую гипотезу\n",
      " \n"
     ]
    }
   ],
   "source": [
    "#проверим первую гипотезу (о product_page)\n",
    "#установим уровень статистической значимости\n",
    "alpha = 0.05\n",
    "\n",
    "# подготовим переменные\n",
    "successes_1 = df_a.loc[df_a['event_name']=='product_page', 'user_id'].nunique()\n",
    "successes_2 = df_b.loc[df_b['event_name']=='product_page', 'user_id'].nunique()\n",
    "trials_1 = groups_cnt.loc[groups_cnt['group'] == 'A', 'user_id'].values[0]\n",
    "trials_2 = groups_cnt.loc[groups_cnt['group'] == 'B', 'user_id'].values[0]\n",
    "\n",
    "successes_combined = np.array([successes_1, successes_2])\n",
    "trials_combined = np.array([trials_1, trials_2])\n",
    "    \n",
    "# проведём расчеты\n",
    "stat, p_val = proportions_ztest(successes_combined, trials_combined, alternative='two-sided')\n",
    "\n",
    "# выведем результаты\n",
    "print('p-значение: ',p_val.round(4))\n",
    "print(f'Доля пользователей, сделавших событие \"product_page\":')\n",
    "print(f'Для группы A - {successes_1/trials_1:.2%}')\n",
    "print(f'Для группы B - {successes_2/trials_2:.2%}')\n",
    "print(' ')\n",
    "if p_val < alpha:\n",
    "    print(\"Отвергаем нулевую гипотезу\")\n",
    "else:\n",
    "    print(\"Не получилось отвергнуть нулевую гипотезу\") \n",
    "print(' ')"
   ]
  },
  {
   "cell_type": "markdown",
   "metadata": {},
   "source": [
    "У нас **есть статистически достоверная разница между группами А и В**. Разница в целевом действии есть, но эти изменения не соответсвуют ожидаемым - контрольная группа демонстрирует заметно лучшие результаты."
   ]
  },
  {
   "cell_type": "markdown",
   "metadata": {},
   "source": [
    "Проверим **статистическую гипотезу №2**  выдвинутую при проведение рассматриваемого нами АВ-теста: \n",
    "Группы: А — контрольная, B — новая платёжная воронка;\n",
    "За 14 дней с момента регистрации пользователи группы В покажут увеличение просмотров корзины (событие product_cart), не менее, чем на 10%.\n",
    "\n",
    "\n",
    "Для проведения гипотезы установим уровень статистической значимости, равный 5% (alpha = 0.05). \n",
    "\n",
    "Также, определим гипотезы для проверки.\n",
    "\n",
    "$H_0$ **Статистически значимых различий** между группами А и В с точки зрения изменения просмотров **нет**.\n",
    "\n",
    "$H_1$ **Статистически значимые различия** между группами А и В с точки зрения изменения просмотров **есть**.\n"
   ]
  },
  {
   "cell_type": "code",
   "execution_count": 34,
   "metadata": {},
   "outputs": [
    {
     "name": "stdout",
     "output_type": "stream",
     "text": [
      "p-значение:  0.0\n",
      "Доля пользователей, сделавших событие \"product_cart\":\n",
      "Для группы A - 21.52%\n",
      "Для группы B - 8.98%\n",
      " \n",
      "Отвергаем нулевую гипотезу\n",
      " \n"
     ]
    }
   ],
   "source": [
    "#проверим вторую гипотезу (о  product_cart)\n",
    "#установим уровень статистической значимости\n",
    "alpha = 0.05\n",
    "\n",
    "# подготовим переменные\n",
    "successes_1 = df_a.loc[df_a['event_name']=='product_cart', 'user_id'].nunique()\n",
    "successes_2 = df_b.loc[df_b['event_name']=='product_cart', 'user_id'].nunique()\n",
    "trials_1 = groups_cnt.loc[groups_cnt['group'] == 'A', 'user_id'].values[0]\n",
    "trials_2 = groups_cnt.loc[groups_cnt['group'] == 'B', 'user_id'].values[0]\n",
    "\n",
    "successes_combined = np.array([successes_1, successes_2])\n",
    "trials_combined = np.array([trials_1, trials_2])\n",
    "    \n",
    "# проведём расчеты\n",
    "stat, p_val = proportions_ztest(successes_combined, trials_combined, alternative='two-sided')\n",
    "\n",
    "# выведем результаты\n",
    "print('p-значение: ',p_val.round(4))\n",
    "print(f'Доля пользователей, сделавших событие \"product_cart\":')\n",
    "print(f'Для группы A - {successes_1/trials_1:.2%}')\n",
    "print(f'Для группы B - {successes_2/trials_2:.2%}')\n",
    "print(' ')\n",
    "if p_val < alpha:\n",
    "    print(\"Отвергаем нулевую гипотезу\")\n",
    "else:\n",
    "    print(\"Не получилось отвергнуть нулевую гипотезу\") \n",
    "print(' ')"
   ]
  },
  {
   "cell_type": "markdown",
   "metadata": {},
   "source": [
    "У нас **есть статистически достоверная разница между группами А и В**. Разница в целевом действии есть, но эти изменения не соответсвуют ожидаемым - контрольная группа демонстрирует заметно лучшие результаты."
   ]
  },
  {
   "cell_type": "markdown",
   "metadata": {},
   "source": [
    "Проверим **статистическую гипотезу №3**  выдвинутую при проведение рассматриваемого нами АВ-теста: \n",
    "Группы: А — контрольная, B — новая платёжная воронка;\n",
    "За 14 дней с момента регистрации пользователи группы В покажут увеличение покупок (событие purchase), не менее, чем на 10%.\n",
    "\n",
    "\n",
    "Для проведения гипотезы установим уровень статистической значимости, равный 5% (alpha = 0.05). \n",
    "\n",
    "Также, определим гипотезы для проверки.\n",
    "\n",
    "$H_0$ **Статистически значимых различий** между группами А и В с точки зрения изменения количества покупок **нет**.\n",
    "\n",
    "$H_1$ **Статистически значимые различия** между группами А и В с точки зрения изменения количества покупок  **есть**."
   ]
  },
  {
   "cell_type": "code",
   "execution_count": 29,
   "metadata": {},
   "outputs": [
    {
     "name": "stdout",
     "output_type": "stream",
     "text": [
      "p-значение:  0.0\n",
      "Доля пользователей, сделавших событие \"purchase\":\n",
      "Для группы A - 22.92%\n",
      "Для группы B - 9.16%\n",
      " \n",
      "Отвергаем нулевую гипотезу\n",
      " \n"
     ]
    }
   ],
   "source": [
    "#проверим третью гипотезу (о  purchase)\n",
    "#установим уровень статистической значимости\n",
    "alpha = 0.05\n",
    "\n",
    "# подготовим переменные\n",
    "successes_1 = df_a.loc[df_a['event_name']=='purchase', 'user_id'].nunique()\n",
    "successes_2 = df_b.loc[df_b['event_name']=='purchase', 'user_id'].nunique()\n",
    "trials_1 = groups_cnt.loc[groups_cnt['group'] == 'A', 'user_id'].values[0]\n",
    "trials_2 = groups_cnt.loc[groups_cnt['group'] == 'B', 'user_id'].values[0]\n",
    "\n",
    "successes_combined = np.array([successes_1, successes_2])\n",
    "trials_combined = np.array([trials_1, trials_2])\n",
    "    \n",
    "# проведём расчеты\n",
    "stat, p_val = proportions_ztest(successes_combined, trials_combined, alternative='two-sided')\n",
    "\n",
    "# выведем результаты\n",
    "print('p-значение: ',p_val.round(4))\n",
    "print(f'Доля пользователей, сделавших событие \"purchase\":')\n",
    "print(f'Для группы A - {successes_1/trials_1:.2%}')\n",
    "print(f'Для группы B - {successes_2/trials_2:.2%}')\n",
    "print(' ')\n",
    "if p_val < alpha:\n",
    "    print(\"Отвергаем нулевую гипотезу\")\n",
    "else:\n",
    "    print(\"Не получилось отвергнуть нулевую гипотезу\") \n",
    "print(' ')"
   ]
  },
  {
   "cell_type": "markdown",
   "metadata": {},
   "source": [
    "У нас **есть статистически достоверная разница между группами А и В**. Разница в целевом действии есть, но эти изменения не соответсвуют ожидаемым - контрольная группа демонстрирует заметно лучшие результаты."
   ]
  },
  {
   "cell_type": "markdown",
   "metadata": {},
   "source": [
    "### Промежуточные выводы"
   ]
  },
  {
   "cell_type": "markdown",
   "metadata": {},
   "source": [
    "Во всех трех выдвинутых гипотезах у нас **есть статистически достоверная разница между группами А и В**. Разница в целевом действии есть, но эти изменения не соответсвуют ожидаемым - контрольная группа демонстрирует заметно лучшие результаты."
   ]
  },
  {
   "cell_type": "markdown",
   "metadata": {},
   "source": [
    "## Выводы"
   ]
  },
  {
   "cell_type": "markdown",
   "metadata": {},
   "source": [
    "\n",
    "В процессе получения и предобработки данных мы выяснили, что данные чистые и их хватает для анализа. Дополнительно мы перевели столбцы времени в формат даты. А также переименовали все столбцы с dt в date. Задвоения пользователей у нас в группах нет.\n",
    "\n",
    "В процессе оценки корректности АВ-теста мы выяснили, что задвоения в нашем тесте у новых пользователей нет. Количество пользователей и процент новых пользователей соответсвует техническому заданию. Но у нас есть 12,3% пользователей АВ-теста, которые одновременно участвовали в другом тесте. Судя по названию, это тест изменений в интерфейсе и он мог в полной мере повлиять на наше тестирование изменений связанных с внедрением улучшенной рекомендательной системы. Наличие такого большого пересечения с АВ-тестом изменений которые могли сильно повлиять на наш тест делает наш АВ-тест некорректным. Распределение пользователей по группам в целом равномерное. Со временем нашего теста совпадает Christmas&New Year Promo который может вносить свои коррективы и делать АВ-тест, что мы рассматриваем некорректно проведенным. По сумме замечаний, **я считаю что проверяемый нами АВ-тест проведен некорректно**.\n",
    "\n",
    "Исследовательский анализ показал, что руппа А похоже сильно более активна. Пик событий произошел 21 декабря 2020. Затем в количестве событий идет спад. Возможно это связано с началом 25.12.2020 наркетингового события, которое накладывается на сроки нашего АВ-теста.\n",
    "\n",
    "Анализ результатов теста показал, что во всех трех выдвинутых гипотезах у нас **есть статистически достоверная разница между группами А и В**. Разница в целевом действии есть, но эти изменения не соответсвуют ожидаемым - контрольная группа демонстрирует заметно лучшие результаты.\n"
   ]
  },
  {
   "cell_type": "markdown",
   "metadata": {},
   "source": [
    "**Рекомендации**"
   ]
  },
  {
   "cell_type": "markdown",
   "metadata": {},
   "source": [
    "Оцениваемый АВ-тест оказался крайне неудачен. Я рекомендую использовать данные результаты как образец изменений, негативно воспринятых пользователями и при последующих АВ-тестах учитывать это. \n",
    "Также я рекомендую оценить результаты теста interface_eu_test - возможно катастрофическое падение событий к концу рассматриваемого нами АВ-теста это результат наложения на наши изменения изменений в интерфейсе. Возможно пользователи просто не могли выполнить те действия, которые мы от них ждали"
   ]
  }
 ],
 "metadata": {
  "ExecuteTimeLog": [
   {
    "duration": 23845,
    "start_time": "2022-01-30T05:03:27.335Z"
   },
   {
    "duration": 817,
    "start_time": "2022-01-30T05:03:51.183Z"
   },
   {
    "duration": 526,
    "start_time": "2022-01-30T05:03:52.003Z"
   },
   {
    "duration": -61,
    "start_time": "2022-01-30T05:03:52.594Z"
   },
   {
    "duration": -62,
    "start_time": "2022-01-30T05:03:52.597Z"
   },
   {
    "duration": -72,
    "start_time": "2022-01-30T05:03:52.608Z"
   },
   {
    "duration": -77,
    "start_time": "2022-01-30T05:03:52.614Z"
   },
   {
    "duration": -78,
    "start_time": "2022-01-30T05:03:52.617Z"
   },
   {
    "duration": -79,
    "start_time": "2022-01-30T05:03:52.619Z"
   },
   {
    "duration": -81,
    "start_time": "2022-01-30T05:03:52.622Z"
   },
   {
    "duration": -82,
    "start_time": "2022-01-30T05:03:52.625Z"
   },
   {
    "duration": -83,
    "start_time": "2022-01-30T05:03:52.627Z"
   },
   {
    "duration": -83,
    "start_time": "2022-01-30T05:03:52.629Z"
   },
   {
    "duration": -84,
    "start_time": "2022-01-30T05:03:52.631Z"
   },
   {
    "duration": -85,
    "start_time": "2022-01-30T05:03:52.634Z"
   },
   {
    "duration": -85,
    "start_time": "2022-01-30T05:03:52.636Z"
   },
   {
    "duration": -86,
    "start_time": "2022-01-30T05:03:52.638Z"
   },
   {
    "duration": -98,
    "start_time": "2022-01-30T05:03:52.652Z"
   },
   {
    "duration": -103,
    "start_time": "2022-01-30T05:03:52.659Z"
   },
   {
    "duration": -103,
    "start_time": "2022-01-30T05:03:52.661Z"
   },
   {
    "duration": -104,
    "start_time": "2022-01-30T05:03:52.664Z"
   },
   {
    "duration": -105,
    "start_time": "2022-01-30T05:03:52.666Z"
   },
   {
    "duration": -109,
    "start_time": "2022-01-30T05:03:52.672Z"
   },
   {
    "duration": -110,
    "start_time": "2022-01-30T05:03:52.674Z"
   },
   {
    "duration": -111,
    "start_time": "2022-01-30T05:03:52.677Z"
   },
   {
    "duration": -113,
    "start_time": "2022-01-30T05:03:52.680Z"
   },
   {
    "duration": -118,
    "start_time": "2022-01-30T05:03:52.686Z"
   },
   {
    "duration": -119,
    "start_time": "2022-01-30T05:03:52.689Z"
   },
   {
    "duration": -121,
    "start_time": "2022-01-30T05:03:52.692Z"
   },
   {
    "duration": 1761,
    "start_time": "2022-01-30T18:13:01.788Z"
   },
   {
    "duration": 521,
    "start_time": "2022-01-30T18:13:03.550Z"
   },
   {
    "duration": 28,
    "start_time": "2022-01-30T18:13:04.074Z"
   },
   {
    "duration": 14,
    "start_time": "2022-01-30T18:13:04.104Z"
   },
   {
    "duration": 114,
    "start_time": "2022-01-30T18:13:04.120Z"
   },
   {
    "duration": 39,
    "start_time": "2022-01-30T18:13:04.236Z"
   },
   {
    "duration": 113,
    "start_time": "2022-01-30T18:13:04.277Z"
   },
   {
    "duration": 297,
    "start_time": "2022-01-30T18:13:04.392Z"
   },
   {
    "duration": 48,
    "start_time": "2022-01-30T18:13:04.693Z"
   },
   {
    "duration": 19,
    "start_time": "2022-01-30T18:13:04.744Z"
   },
   {
    "duration": 31,
    "start_time": "2022-01-30T18:13:04.765Z"
   },
   {
    "duration": 395,
    "start_time": "2022-01-30T18:13:04.798Z"
   },
   {
    "duration": 22,
    "start_time": "2022-01-30T18:13:05.195Z"
   },
   {
    "duration": 36,
    "start_time": "2022-01-30T18:13:05.218Z"
   },
   {
    "duration": 7,
    "start_time": "2022-01-30T18:13:05.256Z"
   },
   {
    "duration": 5,
    "start_time": "2022-01-30T18:13:05.264Z"
   },
   {
    "duration": 52,
    "start_time": "2022-01-30T18:13:05.271Z"
   },
   {
    "duration": 17,
    "start_time": "2022-01-30T18:13:05.325Z"
   },
   {
    "duration": 8,
    "start_time": "2022-01-30T18:13:05.343Z"
   },
   {
    "duration": 14,
    "start_time": "2022-01-30T18:13:05.353Z"
   },
   {
    "duration": 52,
    "start_time": "2022-01-30T18:13:05.368Z"
   },
   {
    "duration": 5,
    "start_time": "2022-01-30T18:13:05.421Z"
   },
   {
    "duration": 128,
    "start_time": "2022-01-30T18:13:05.428Z"
   },
   {
    "duration": 10,
    "start_time": "2022-01-30T18:13:05.557Z"
   },
   {
    "duration": 379,
    "start_time": "2022-01-30T18:13:05.569Z"
   },
   {
    "duration": 426,
    "start_time": "2022-01-30T18:13:05.950Z"
   },
   {
    "duration": 13,
    "start_time": "2022-01-30T18:13:06.378Z"
   },
   {
    "duration": 26,
    "start_time": "2022-01-30T18:13:06.392Z"
   },
   {
    "duration": 12,
    "start_time": "2022-01-30T18:13:06.420Z"
   },
   {
    "duration": 12,
    "start_time": "2022-01-30T18:19:48.481Z"
   },
   {
    "duration": 5,
    "start_time": "2022-01-30T18:19:54.981Z"
   },
   {
    "duration": 12,
    "start_time": "2022-01-30T18:19:58.899Z"
   },
   {
    "duration": 4,
    "start_time": "2022-01-30T18:20:02.825Z"
   },
   {
    "duration": 11,
    "start_time": "2022-01-30T18:20:21.221Z"
   },
   {
    "duration": 4,
    "start_time": "2022-01-30T18:20:27.472Z"
   },
   {
    "duration": 4,
    "start_time": "2022-01-30T18:20:31.696Z"
   }
  ],
  "kernelspec": {
   "display_name": "Python 3",
   "language": "python",
   "name": "python3"
  },
  "language_info": {
   "codemirror_mode": {
    "name": "ipython",
    "version": 3
   },
   "file_extension": ".py",
   "mimetype": "text/x-python",
   "name": "python",
   "nbconvert_exporter": "python",
   "pygments_lexer": "ipython3",
   "version": "3.7.10"
  },
  "toc": {
   "base_numbering": 1,
   "nav_menu": {},
   "number_sections": true,
   "sideBar": true,
   "skip_h1_title": true,
   "title_cell": "Table of Contents",
   "title_sidebar": "Contents",
   "toc_cell": true,
   "toc_position": {
    "height": "calc(100% - 180px)",
    "left": "10px",
    "top": "150px",
    "width": "238.26px"
   },
   "toc_section_display": true,
   "toc_window_display": true
  }
 },
 "nbformat": 4,
 "nbformat_minor": 2
}
